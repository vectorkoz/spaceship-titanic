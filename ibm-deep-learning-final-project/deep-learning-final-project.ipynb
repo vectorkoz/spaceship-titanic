{
 "cells": [
  {
   "cell_type": "markdown",
   "id": "418d90e1-9de5-4866-8284-2b90567604d5",
   "metadata": {},
   "source": [
    "\"Deep learning and Reinforcement Learning\" final project, by vectorkoz, June 2024"
   ]
  },
  {
   "cell_type": "markdown",
   "id": "9ed32cc3-333d-4d0a-82bd-9e0d3128a1e8",
   "metadata": {},
   "source": [
    "[Project source](https://github.com/vectorkoz/spaceship-titanic.git)"
   ]
  },
  {
   "cell_type": "markdown",
   "id": "a5956a03-8756-4a9a-85b9-00a384c36819",
   "metadata": {},
   "source": [
    "# Project goals"
   ]
  },
  {
   "cell_type": "markdown",
   "id": "f65d1e5d-50e5-4b09-9463-f0809f9cabe2",
   "metadata": {},
   "source": [
    "1. Enter a popular Kaggle competition.\n",
    "2. Use Keras to construct various types of artificial neural networks for the competition.\n",
    "3. Use K-fold cross-validation and optuna to find the best hyperparameters for the models.\n",
    "4. Sumbit results to Kaggle and see how well different artificial neural network types did."
   ]
  },
  {
   "cell_type": "markdown",
   "id": "5b1a8e77-ddea-447a-bc66-b5f1e47ab526",
   "metadata": {},
   "source": [
    "# Data Summary"
   ]
  },
  {
   "cell_type": "markdown",
   "id": "9744a47d-6040-4c7a-92e5-f28340a75205",
   "metadata": {},
   "source": [
    "In this project, models for the popular [\"Spaceship Titanic\"](https://www.kaggle.com/competitions/spaceship-titanic/overview) Kaggle competition are constructed. The dataset from the competition is similar to the popular Titanic data set. According to the authors of the dataset,\n",
    "```\n",
    "The Spaceship Titanic was an interstellar passenger liner launched a month ago. With almost 13,000 passengers on board, the vessel set out on its maiden voyage transporting emigrants from our solar system to three newly habitable exoplanets orbiting nearby stars.\n",
    "```\n",
    "```\n",
    "While rounding Alpha Centauri en route to its first destination—the torrid 55 Cancri E—the unwary Spaceship Titanic collided with a spacetime anomaly hidden within a dust cloud. Sadly, it met a similar fate as its namesake from 1000 years before. Though the ship stayed intact, almost half of the passengers were transported to an alternate dimension!\n",
    "```\n",
    "```\n",
    "To help rescue crews and retrieve the lost passengers, you are challenged to predict which passengers were transported by the anomaly using records recovered from the spaceship’s damaged computer system.\n",
    "```"
   ]
  },
  {
   "cell_type": "markdown",
   "id": "a4dc10b5-e9cf-4e04-ab52-d3435e7cc9bd",
   "metadata": {},
   "source": [
    "The train set contains 8693 entries, the test set - 4277 entries. Descriptions of the columns are provided below."
   ]
  },
  {
   "cell_type": "markdown",
   "id": "192c4374-4c33-46c0-af7e-904bc6479e58",
   "metadata": {},
   "source": [
    "1. `PassengerId` - A unique Id for each passenger. Each Id takes the form gggg_pp where gggg indicates a group the passenger is travelling with and pp is their number within the group. People in a group are often family members, but not always.\n",
    "2. `HomePlanet` - The planet the passenger departed from, typically their planet of permanent residence.\n",
    "3. `CryoSleep` - Indicates whether the passenger elected to be put into suspended animation for the duration of the voyage. Passengers in cryosleep are confined to their cabins.\n",
    "4. `Cabin` - The cabin number where the passenger is staying. Takes the form deck/num/side, where side can be either P for Port or S for Starboard.\n",
    "5. `Destination` - The planet the passenger will be debarking to.\n",
    "6. `Age` - The age of the passenger.\n",
    "7. `VIP` - Whether the passenger has paid for special VIP service during the voyage.\n",
    "8. `RoomService`, `FoodCourt`, `ShoppingMall`, `Spa`, `VRDeck` - Amount the passenger has billed at each of the Spaceship Titanic's many luxury amenities.\n",
    "9. `Name` - The first and last names of the passenger.\n",
    "10. `Transported` - Whether the passenger was transported to another dimension. This is the target, the column you are trying to predict."
   ]
  },
  {
   "cell_type": "markdown",
   "id": "60dfa361-381e-4623-b620-1206f80b9642",
   "metadata": {
    "jp-MarkdownHeadingCollapsed": true
   },
   "source": [
    "# Data preparation"
   ]
  },
  {
   "cell_type": "markdown",
   "id": "a3914eee-0255-4f7c-966a-3d13c9e6f8cc",
   "metadata": {},
   "source": [
    "Importing necessary packages"
   ]
  },
  {
   "cell_type": "code",
   "execution_count": 1,
   "id": "6ce73297-fcba-4a0d-90e5-36a9d365e3d7",
   "metadata": {},
   "outputs": [],
   "source": [
    "import pandas as pd\n",
    "import numpy as np\n",
    "import seaborn as sns\n",
    "import matplotlib.pyplot as plt\n",
    "import os\n",
    "\n",
    "from sklearn.preprocessing import OneHotEncoder, MinMaxScaler\n",
    "from scipy.stats import boxcox\n",
    "\n",
    "from sklearn.model_selection import StratifiedKFold\n",
    "\n",
    "import tensorflow as tf\n",
    "from tensorflow import keras\n",
    "from tensorflow.keras import layers, Input\n",
    "from tensorflow.keras.models import Model\n",
    "from tensorflow.keras.layers import Dense, BatchNormalization, Dropout\n",
    "from tensorflow.keras.optimizers import Adam, SGD, RMSprop, Adagrad\n",
    "from tensorflow.keras.callbacks import ModelCheckpoint\n",
    "\n",
    "from sklearn.metrics import accuracy_score\n",
    "\n",
    "import optuna"
   ]
  },
  {
   "cell_type": "markdown",
   "id": "c1e6489c-5993-470f-b000-c13500043f16",
   "metadata": {},
   "source": [
    "Importing the data and splitting the `Cabin` column into 3 separate columns, as is advised for this dataset. Also, adding a separate column showing whether the original `Cabin` column had a NULL value, and deleting the old `Cabin` column, as well as the `Name` column, which won't be used in this project."
   ]
  },
  {
   "cell_type": "code",
   "execution_count": 2,
   "id": "5e25f205-0cc5-4a2e-abcb-7e70da8fe320",
   "metadata": {},
   "outputs": [],
   "source": [
    "train_df = pd.read_csv('data/train.csv')\n",
    "test_df = pd.read_csv('data/test.csv')\n",
    "\n",
    "train_df[[\"Deck\", \"Cabin_num\", \"Side\"]] = train_df[\"Cabin\"].str.split(\"/\", expand=True)\n",
    "test_df[[\"Deck\", \"Cabin_num\", \"Side\"]] = test_df[\"Cabin\"].str.split(\"/\", expand=True)\n",
    "try:\n",
    "    train_df[\"Cabin_unknown\"]=train_df.Cabin.isnull().astype(float)\n",
    "    train_df[\"Transported\"] = train_df[\"Transported\"].astype(float)\n",
    "    test_df[\"Cabin_unknown\"]=test_df.Cabin.isnull().astype(float)\n",
    "    train_df.drop(columns=['Cabin','Name','PassengerId'], inplace=True)\n",
    "    test_df.drop(columns=['Cabin','Name'], inplace=True)\n",
    "except KeyError:\n",
    "    print(\"Field does not exist\")"
   ]
  },
  {
   "cell_type": "markdown",
   "id": "b4fbef44-43fc-4275-ba14-83e5a458c9cc",
   "metadata": {},
   "source": [
    "Looking at the datasets' information."
   ]
  },
  {
   "cell_type": "code",
   "execution_count": 3,
   "id": "7fa7a6d2-02e8-4e01-aa94-bdb10e74e689",
   "metadata": {},
   "outputs": [
    {
     "name": "stdout",
     "output_type": "stream",
     "text": [
      "<class 'pandas.core.frame.DataFrame'>\n",
      "RangeIndex: 8693 entries, 0 to 8692\n",
      "Data columns (total 15 columns):\n",
      " #   Column         Non-Null Count  Dtype  \n",
      "---  ------         --------------  -----  \n",
      " 0   HomePlanet     8492 non-null   object \n",
      " 1   CryoSleep      8476 non-null   object \n",
      " 2   Destination    8511 non-null   object \n",
      " 3   Age            8514 non-null   float64\n",
      " 4   VIP            8490 non-null   object \n",
      " 5   RoomService    8512 non-null   float64\n",
      " 6   FoodCourt      8510 non-null   float64\n",
      " 7   ShoppingMall   8485 non-null   float64\n",
      " 8   Spa            8510 non-null   float64\n",
      " 9   VRDeck         8505 non-null   float64\n",
      " 10  Transported    8693 non-null   float64\n",
      " 11  Deck           8494 non-null   object \n",
      " 12  Cabin_num      8494 non-null   object \n",
      " 13  Side           8494 non-null   object \n",
      " 14  Cabin_unknown  8693 non-null   float64\n",
      "dtypes: float64(8), object(7)\n",
      "memory usage: 1018.8+ KB\n"
     ]
    }
   ],
   "source": [
    "train_df.info()"
   ]
  },
  {
   "cell_type": "code",
   "execution_count": 4,
   "id": "9a086e83-4f56-4263-81ed-7ddf0905dd53",
   "metadata": {},
   "outputs": [
    {
     "name": "stdout",
     "output_type": "stream",
     "text": [
      "<class 'pandas.core.frame.DataFrame'>\n",
      "RangeIndex: 4277 entries, 0 to 4276\n",
      "Data columns (total 15 columns):\n",
      " #   Column         Non-Null Count  Dtype  \n",
      "---  ------         --------------  -----  \n",
      " 0   PassengerId    4277 non-null   object \n",
      " 1   HomePlanet     4190 non-null   object \n",
      " 2   CryoSleep      4184 non-null   object \n",
      " 3   Destination    4185 non-null   object \n",
      " 4   Age            4186 non-null   float64\n",
      " 5   VIP            4184 non-null   object \n",
      " 6   RoomService    4195 non-null   float64\n",
      " 7   FoodCourt      4171 non-null   float64\n",
      " 8   ShoppingMall   4179 non-null   float64\n",
      " 9   Spa            4176 non-null   float64\n",
      " 10  VRDeck         4197 non-null   float64\n",
      " 11  Deck           4177 non-null   object \n",
      " 12  Cabin_num      4177 non-null   object \n",
      " 13  Side           4177 non-null   object \n",
      " 14  Cabin_unknown  4277 non-null   float64\n",
      "dtypes: float64(7), object(8)\n",
      "memory usage: 501.3+ KB\n"
     ]
    }
   ],
   "source": [
    "test_df.info()"
   ]
  },
  {
   "cell_type": "markdown",
   "id": "cf996d18-d95a-4f26-801b-612aaa92ac99",
   "metadata": {},
   "source": [
    "Most columns in the data have NULL values that need to be filled."
   ]
  },
  {
   "cell_type": "markdown",
   "id": "3cc31960-ad0b-413c-bfec-246b1de7b806",
   "metadata": {},
   "source": [
    "## Filling NULL values"
   ]
  },
  {
   "cell_type": "markdown",
   "id": "e317e281-009f-4c07-a2af-47fd0d24cfe2",
   "metadata": {},
   "source": [
    "#### Cabin_num"
   ]
  },
  {
   "cell_type": "markdown",
   "id": "0445ee7d-9f96-4554-b2b9-731c7c75a09b",
   "metadata": {},
   "source": [
    "Filling the missing `Cabin_num` values with 0 and transforming the column to float."
   ]
  },
  {
   "cell_type": "code",
   "execution_count": 5,
   "id": "51f96236-b1ac-4610-bc4e-d6337006a99e",
   "metadata": {},
   "outputs": [],
   "source": [
    "train_df.loc[train_df.Cabin_unknown==1,['Cabin_num']]='0'\n",
    "test_df.loc[test_df.Cabin_unknown==1,['Cabin_num']]='0'\n",
    "\n",
    "train_df[\"Cabin_num\"] = train_df[\"Cabin_num\"].astype(float)\n",
    "test_df[\"Cabin_num\"] = test_df[\"Cabin_num\"].astype(float)"
   ]
  },
  {
   "cell_type": "code",
   "execution_count": 6,
   "id": "25084489-9ef0-4690-af6f-0ee993f83820",
   "metadata": {},
   "outputs": [
    {
     "name": "stdout",
     "output_type": "stream",
     "text": [
      "<class 'pandas.core.frame.DataFrame'>\n",
      "RangeIndex: 8693 entries, 0 to 8692\n",
      "Data columns (total 15 columns):\n",
      " #   Column         Non-Null Count  Dtype  \n",
      "---  ------         --------------  -----  \n",
      " 0   HomePlanet     8492 non-null   object \n",
      " 1   CryoSleep      8476 non-null   object \n",
      " 2   Destination    8511 non-null   object \n",
      " 3   Age            8514 non-null   float64\n",
      " 4   VIP            8490 non-null   object \n",
      " 5   RoomService    8512 non-null   float64\n",
      " 6   FoodCourt      8510 non-null   float64\n",
      " 7   ShoppingMall   8485 non-null   float64\n",
      " 8   Spa            8510 non-null   float64\n",
      " 9   VRDeck         8505 non-null   float64\n",
      " 10  Transported    8693 non-null   float64\n",
      " 11  Deck           8494 non-null   object \n",
      " 12  Cabin_num      8693 non-null   float64\n",
      " 13  Side           8494 non-null   object \n",
      " 14  Cabin_unknown  8693 non-null   float64\n",
      "dtypes: float64(9), object(6)\n",
      "memory usage: 1018.8+ KB\n"
     ]
    }
   ],
   "source": [
    "train_df.info()"
   ]
  },
  {
   "cell_type": "markdown",
   "id": "13bcd316-c1af-4248-97d2-e391e6c80879",
   "metadata": {},
   "source": [
    "Here's how the distribution of `Cabin_num` values looks now."
   ]
  },
  {
   "cell_type": "code",
   "execution_count": 7,
   "id": "ece99464-e8ef-47a5-be5f-31adb539d910",
   "metadata": {},
   "outputs": [
    {
     "data": {
      "image/png": "[encoded data removed]",
      "text/plain": [
       "<Figure size 640x480 with 1 Axes>"
      ]
     },
     "metadata": {},
     "output_type": "display_data"
    }
   ],
   "source": [
    "sns.histplot(train_df['Cabin_num'], color='b', bins=50);"
   ]
  },
  {
   "cell_type": "markdown",
   "id": "a5a0a45d-5c72-4af7-b7b4-e3d7579f3ff7",
   "metadata": {},
   "source": [
    "#### Age"
   ]
  },
  {
   "cell_type": "markdown",
   "id": "a5ff736f-63a5-469b-94c0-ab8d8037253a",
   "metadata": {},
   "source": [
    "Adding a separate column to show where the age values are missing."
   ]
  },
  {
   "cell_type": "code",
   "execution_count": 8,
   "id": "833fe888-3017-494e-81f4-bc2947501881",
   "metadata": {},
   "outputs": [],
   "source": [
    "train_df[\"Age_unknown\"]=train_df.Age.isnull().astype(float)\n",
    "test_df[\"Age_unknown\"]=test_df.Age.isnull().astype(float)"
   ]
  },
  {
   "cell_type": "markdown",
   "id": "3dcb9942-8e6b-45f2-9d29-b7cb1ea1f4b8",
   "metadata": {},
   "source": [
    "In the train set, age is missing in very few entries, but maybe this column will help somehow."
   ]
  },
  {
   "cell_type": "code",
   "execution_count": 9,
   "id": "0f98c956-34c3-480d-b2ab-18edbcf45c33",
   "metadata": {},
   "outputs": [
    {
     "data": {
      "text/plain": [
       "Age_unknown\n",
       "0.0    8514\n",
       "1.0     179\n",
       "Name: count, dtype: int64"
      ]
     },
     "execution_count": 9,
     "metadata": {},
     "output_type": "execute_result"
    }
   ],
   "source": [
    "train_df[\"Age_unknown\"].value_counts()"
   ]
  },
  {
   "cell_type": "markdown",
   "id": "5d19bdd0-2e04-4bb6-8af9-3f5ad4d98fa2",
   "metadata": {},
   "source": [
    "Replacing the NULL age values with the median value of age: 27  years."
   ]
  },
  {
   "cell_type": "code",
   "execution_count": 10,
   "id": "701044a7-25cd-4bab-a90b-ffe83dea906b",
   "metadata": {},
   "outputs": [
    {
     "data": {
      "text/plain": [
       "27.0"
      ]
     },
     "execution_count": 10,
     "metadata": {},
     "output_type": "execute_result"
    }
   ],
   "source": [
    "median_age=train_df[train_df.Age_unknown==0].Age.astype(int).median()\n",
    "median_age"
   ]
  },
  {
   "cell_type": "code",
   "execution_count": 11,
   "id": "cc50fbfd-c707-4eb3-9032-d7afd147b885",
   "metadata": {},
   "outputs": [],
   "source": [
    "train_df.loc[train_df.Age_unknown==1,['Age']]=median_age\n",
    "test_df.loc[test_df.Age_unknown==1,['Age']]=median_age"
   ]
  },
  {
   "cell_type": "code",
   "execution_count": 12,
   "id": "c69ac0d3-16f6-458e-acca-216564aa58dc",
   "metadata": {},
   "outputs": [
    {
     "name": "stdout",
     "output_type": "stream",
     "text": [
      "<class 'pandas.core.frame.DataFrame'>\n",
      "RangeIndex: 8693 entries, 0 to 8692\n",
      "Data columns (total 16 columns):\n",
      " #   Column         Non-Null Count  Dtype  \n",
      "---  ------         --------------  -----  \n",
      " 0   HomePlanet     8492 non-null   object \n",
      " 1   CryoSleep      8476 non-null   object \n",
      " 2   Destination    8511 non-null   object \n",
      " 3   Age            8693 non-null   float64\n",
      " 4   VIP            8490 non-null   object \n",
      " 5   RoomService    8512 non-null   float64\n",
      " 6   FoodCourt      8510 non-null   float64\n",
      " 7   ShoppingMall   8485 non-null   float64\n",
      " 8   Spa            8510 non-null   float64\n",
      " 9   VRDeck         8505 non-null   float64\n",
      " 10  Transported    8693 non-null   float64\n",
      " 11  Deck           8494 non-null   object \n",
      " 12  Cabin_num      8693 non-null   float64\n",
      " 13  Side           8494 non-null   object \n",
      " 14  Cabin_unknown  8693 non-null   float64\n",
      " 15  Age_unknown    8693 non-null   float64\n",
      "dtypes: float64(10), object(6)\n",
      "memory usage: 1.1+ MB\n"
     ]
    }
   ],
   "source": [
    "train_df.info()"
   ]
  },
  {
   "cell_type": "code",
   "execution_count": 13,
   "id": "498b6b38-bd9f-4cf0-9cee-d8cb8acc0b59",
   "metadata": {},
   "outputs": [
    {
     "name": "stdout",
     "output_type": "stream",
     "text": [
      "<class 'pandas.core.frame.DataFrame'>\n",
      "RangeIndex: 4277 entries, 0 to 4276\n",
      "Data columns (total 16 columns):\n",
      " #   Column         Non-Null Count  Dtype  \n",
      "---  ------         --------------  -----  \n",
      " 0   PassengerId    4277 non-null   object \n",
      " 1   HomePlanet     4190 non-null   object \n",
      " 2   CryoSleep      4184 non-null   object \n",
      " 3   Destination    4185 non-null   object \n",
      " 4   Age            4277 non-null   float64\n",
      " 5   VIP            4184 non-null   object \n",
      " 6   RoomService    4195 non-null   float64\n",
      " 7   FoodCourt      4171 non-null   float64\n",
      " 8   ShoppingMall   4179 non-null   float64\n",
      " 9   Spa            4176 non-null   float64\n",
      " 10  VRDeck         4197 non-null   float64\n",
      " 11  Deck           4177 non-null   object \n",
      " 12  Cabin_num      4277 non-null   float64\n",
      " 13  Side           4177 non-null   object \n",
      " 14  Cabin_unknown  4277 non-null   float64\n",
      " 15  Age_unknown    4277 non-null   float64\n",
      "dtypes: float64(9), object(7)\n",
      "memory usage: 534.8+ KB\n"
     ]
    }
   ],
   "source": [
    "test_df.info()"
   ]
  },
  {
   "cell_type": "markdown",
   "id": "90e97e0b-2011-442d-9ec9-4b9238da93e9",
   "metadata": {},
   "source": [
    "Here's how the distribution of `Age` values looks now."
   ]
  },
  {
   "cell_type": "code",
   "execution_count": 14,
   "id": "918fbdba-6ec0-4aea-b5be-0353154ed719",
   "metadata": {},
   "outputs": [
    {
     "data": {
      "image/png": "[encoded data removed]",
      "text/plain": [
       "<Figure size 640x480 with 1 Axes>"
      ]
     },
     "metadata": {},
     "output_type": "display_data"
    }
   ],
   "source": [
    "sns.histplot(train_df['Age'], color='b', bins=50);"
   ]
  },
  {
   "cell_type": "markdown",
   "id": "aa3ce18f-a669-4ca3-9bd5-d6d58c3d42ed",
   "metadata": {},
   "source": [
    "#### Categorical columns"
   ]
  },
  {
   "cell_type": "markdown",
   "id": "aeb0f25f-a9b5-4a3d-937f-0e34c77413af",
   "metadata": {},
   "source": [
    "Convert all the categorical features to strings and replace the NULL values with the string 'Unknown'"
   ]
  },
  {
   "cell_type": "code",
   "execution_count": 15,
   "id": "eaec5ec6-545a-4199-a38f-59566c931dfe",
   "metadata": {},
   "outputs": [],
   "source": [
    "categ_features=['HomePlanet', 'CryoSleep', 'Destination', 'VIP', 'Deck', 'Side']\n",
    "for col in categ_features:\n",
    "    train_df.loc[train_df[col].isnull(),[col]]='Unknown'\n",
    "    train_df[col]=train_df[col].astype(\"string\")\n",
    "    test_df.loc[test_df[col].isnull(),[col]]='Unknown'\n",
    "    test_df[col]=test_df[col].astype(\"string\")"
   ]
  },
  {
   "cell_type": "code",
   "execution_count": 16,
   "id": "4180076d-bc38-4212-bda7-63d777faff9c",
   "metadata": {},
   "outputs": [
    {
     "name": "stdout",
     "output_type": "stream",
     "text": [
      "<class 'pandas.core.frame.DataFrame'>\n",
      "RangeIndex: 8693 entries, 0 to 8692\n",
      "Data columns (total 16 columns):\n",
      " #   Column         Non-Null Count  Dtype  \n",
      "---  ------         --------------  -----  \n",
      " 0   HomePlanet     8693 non-null   string \n",
      " 1   CryoSleep      8693 non-null   string \n",
      " 2   Destination    8693 non-null   string \n",
      " 3   Age            8693 non-null   float64\n",
      " 4   VIP            8693 non-null   string \n",
      " 5   RoomService    8512 non-null   float64\n",
      " 6   FoodCourt      8510 non-null   float64\n",
      " 7   ShoppingMall   8485 non-null   float64\n",
      " 8   Spa            8510 non-null   float64\n",
      " 9   VRDeck         8505 non-null   float64\n",
      " 10  Transported    8693 non-null   float64\n",
      " 11  Deck           8693 non-null   string \n",
      " 12  Cabin_num      8693 non-null   float64\n",
      " 13  Side           8693 non-null   string \n",
      " 14  Cabin_unknown  8693 non-null   float64\n",
      " 15  Age_unknown    8693 non-null   float64\n",
      "dtypes: float64(10), string(6)\n",
      "memory usage: 1.1 MB\n"
     ]
    }
   ],
   "source": [
    "train_df.info()"
   ]
  },
  {
   "cell_type": "code",
   "execution_count": 17,
   "id": "d0bb027f-f7d9-4e5a-9deb-00b48c741ac6",
   "metadata": {},
   "outputs": [
    {
     "name": "stdout",
     "output_type": "stream",
     "text": [
      "<class 'pandas.core.frame.DataFrame'>\n",
      "RangeIndex: 4277 entries, 0 to 4276\n",
      "Data columns (total 16 columns):\n",
      " #   Column         Non-Null Count  Dtype  \n",
      "---  ------         --------------  -----  \n",
      " 0   PassengerId    4277 non-null   object \n",
      " 1   HomePlanet     4277 non-null   string \n",
      " 2   CryoSleep      4277 non-null   string \n",
      " 3   Destination    4277 non-null   string \n",
      " 4   Age            4277 non-null   float64\n",
      " 5   VIP            4277 non-null   string \n",
      " 6   RoomService    4195 non-null   float64\n",
      " 7   FoodCourt      4171 non-null   float64\n",
      " 8   ShoppingMall   4179 non-null   float64\n",
      " 9   Spa            4176 non-null   float64\n",
      " 10  VRDeck         4197 non-null   float64\n",
      " 11  Deck           4277 non-null   string \n",
      " 12  Cabin_num      4277 non-null   float64\n",
      " 13  Side           4277 non-null   string \n",
      " 14  Cabin_unknown  4277 non-null   float64\n",
      " 15  Age_unknown    4277 non-null   float64\n",
      "dtypes: float64(9), object(1), string(6)\n",
      "memory usage: 534.8+ KB\n"
     ]
    }
   ],
   "source": [
    "test_df.info()"
   ]
  },
  {
   "cell_type": "markdown",
   "id": "1fd9adc1-b0a1-4771-8f4c-e43b0165db1d",
   "metadata": {},
   "source": [
    "#### Other numerical columns"
   ]
  },
  {
   "cell_type": "markdown",
   "id": "3f1fa444-77de-49c4-9e09-62b629308273",
   "metadata": {},
   "source": [
    "Looking at the distributions of all the other numerical columns."
   ]
  },
  {
   "cell_type": "code",
   "execution_count": 18,
   "id": "031470f7-95b8-4a73-842c-5fe1f5beeeb0",
   "metadata": {},
   "outputs": [
    {
     "data": {
      "image/png": "[encoded data removed]",
      "text/plain": [
       "<Figure size 1000x1000 with 5 Axes>"
      ]
     },
     "metadata": {},
     "output_type": "display_data"
    }
   ],
   "source": [
    "fig, ax = plt.subplots(5,1,  figsize=(10, 10))\n",
    "plt.subplots_adjust(top = 2)\n",
    "\n",
    "sns.histplot(train_df['RoomService'], color='b', bins=50, ax=ax[0]);\n",
    "sns.histplot(train_df['FoodCourt'], color='b', bins=50, ax=ax[1]);\n",
    "sns.histplot(train_df['ShoppingMall'], color='b', bins=50, ax=ax[2]);\n",
    "sns.histplot(train_df['Spa'], color='b', bins=50, ax=ax[3]);\n",
    "sns.histplot(train_df['VRDeck'], color='b', bins=50, ax=ax[4]);"
   ]
  },
  {
   "cell_type": "markdown",
   "id": "f42d3acb-9092-42c1-88ac-7a77055c5d53",
   "metadata": {},
   "source": [
    "In these columns, relatively few values are missing and most of the existing ones are 0. It's reasonable to just replace the NULL values with 0 without adding more columns."
   ]
  },
  {
   "cell_type": "code",
   "execution_count": 19,
   "id": "028570e9-2bfb-47c2-9a60-38f3d7394702",
   "metadata": {},
   "outputs": [],
   "source": [
    "train_df.fillna(value=0, inplace=True)\n",
    "test_df.fillna(value=0, inplace=True)"
   ]
  },
  {
   "cell_type": "code",
   "execution_count": 20,
   "id": "7665f532-49f5-4186-b5cc-b95bd4bb62f4",
   "metadata": {},
   "outputs": [
    {
     "name": "stdout",
     "output_type": "stream",
     "text": [
      "<class 'pandas.core.frame.DataFrame'>\n",
      "RangeIndex: 8693 entries, 0 to 8692\n",
      "Data columns (total 16 columns):\n",
      " #   Column         Non-Null Count  Dtype  \n",
      "---  ------         --------------  -----  \n",
      " 0   HomePlanet     8693 non-null   string \n",
      " 1   CryoSleep      8693 non-null   string \n",
      " 2   Destination    8693 non-null   string \n",
      " 3   Age            8693 non-null   float64\n",
      " 4   VIP            8693 non-null   string \n",
      " 5   RoomService    8693 non-null   float64\n",
      " 6   FoodCourt      8693 non-null   float64\n",
      " 7   ShoppingMall   8693 non-null   float64\n",
      " 8   Spa            8693 non-null   float64\n",
      " 9   VRDeck         8693 non-null   float64\n",
      " 10  Transported    8693 non-null   float64\n",
      " 11  Deck           8693 non-null   string \n",
      " 12  Cabin_num      8693 non-null   float64\n",
      " 13  Side           8693 non-null   string \n",
      " 14  Cabin_unknown  8693 non-null   float64\n",
      " 15  Age_unknown    8693 non-null   float64\n",
      "dtypes: float64(10), string(6)\n",
      "memory usage: 1.1 MB\n"
     ]
    }
   ],
   "source": [
    "train_df.info()"
   ]
  },
  {
   "cell_type": "code",
   "execution_count": 21,
   "id": "28218fd6-0044-4281-af0e-5f0f96b9a518",
   "metadata": {},
   "outputs": [
    {
     "name": "stdout",
     "output_type": "stream",
     "text": [
      "<class 'pandas.core.frame.DataFrame'>\n",
      "RangeIndex: 4277 entries, 0 to 4276\n",
      "Data columns (total 16 columns):\n",
      " #   Column         Non-Null Count  Dtype  \n",
      "---  ------         --------------  -----  \n",
      " 0   PassengerId    4277 non-null   object \n",
      " 1   HomePlanet     4277 non-null   string \n",
      " 2   CryoSleep      4277 non-null   string \n",
      " 3   Destination    4277 non-null   string \n",
      " 4   Age            4277 non-null   float64\n",
      " 5   VIP            4277 non-null   string \n",
      " 6   RoomService    4277 non-null   float64\n",
      " 7   FoodCourt      4277 non-null   float64\n",
      " 8   ShoppingMall   4277 non-null   float64\n",
      " 9   Spa            4277 non-null   float64\n",
      " 10  VRDeck         4277 non-null   float64\n",
      " 11  Deck           4277 non-null   string \n",
      " 12  Cabin_num      4277 non-null   float64\n",
      " 13  Side           4277 non-null   string \n",
      " 14  Cabin_unknown  4277 non-null   float64\n",
      " 15  Age_unknown    4277 non-null   float64\n",
      "dtypes: float64(9), object(1), string(6)\n",
      "memory usage: 534.8+ KB\n"
     ]
    }
   ],
   "source": [
    "test_df.info()"
   ]
  },
  {
   "cell_type": "markdown",
   "id": "ae3a6663-6cef-4981-8aa9-c4993df508dd",
   "metadata": {},
   "source": [
    "Now, all the NULL values are finally filled. Next, categorical features need to be one-hot encoded."
   ]
  },
  {
   "cell_type": "markdown",
   "id": "3a3e2ac1-1747-4b25-b3f7-0cbba78da400",
   "metadata": {},
   "source": [
    "## OHC"
   ]
  },
  {
   "cell_type": "markdown",
   "id": "77c6b533-d657-409a-8274-731bdc1486ec",
   "metadata": {},
   "source": [
    "Here, categorical features are one-hot encoded fully, i.e. without dropping any categories. Then, the one-hot encoded columns are added to the dataset and the old categorical columns are dropped."
   ]
  },
  {
   "cell_type": "code",
   "execution_count": 22,
   "id": "0aba0b42-1bc6-4e7a-8dc1-783e65681c89",
   "metadata": {},
   "outputs": [],
   "source": [
    "OHC=OneHotEncoder(sparse_output=False)\n",
    "\n",
    "OHC_train=OHC.fit_transform(train_df[categ_features])\n",
    "OHC_test=OHC.transform(test_df[categ_features])\n",
    "\n",
    "OHC_train=pd.DataFrame(OHC_train, index=train_df.index, columns=OHC.get_feature_names_out())\n",
    "OHC_test=pd.DataFrame(OHC_test, index=test_df.index, columns=OHC.get_feature_names_out())\n",
    "\n",
    "train_df=pd.concat([train_df, OHC_train], axis=1)\n",
    "test_df=pd.concat([test_df, OHC_test], axis=1)\n",
    "\n",
    "train_df.drop(columns=categ_features, inplace=True)\n",
    "test_df.drop(columns=categ_features, inplace=True)"
   ]
  },
  {
   "cell_type": "code",
   "execution_count": 23,
   "id": "030f85e7-be2a-40ae-a033-e20ee629a12c",
   "metadata": {},
   "outputs": [
    {
     "name": "stdout",
     "output_type": "stream",
     "text": [
      "<class 'pandas.core.frame.DataFrame'>\n",
      "RangeIndex: 8693 entries, 0 to 8692\n",
      "Data columns (total 36 columns):\n",
      " #   Column                     Non-Null Count  Dtype  \n",
      "---  ------                     --------------  -----  \n",
      " 0   Age                        8693 non-null   float64\n",
      " 1   RoomService                8693 non-null   float64\n",
      " 2   FoodCourt                  8693 non-null   float64\n",
      " 3   ShoppingMall               8693 non-null   float64\n",
      " 4   Spa                        8693 non-null   float64\n",
      " 5   VRDeck                     8693 non-null   float64\n",
      " 6   Transported                8693 non-null   float64\n",
      " 7   Cabin_num                  8693 non-null   float64\n",
      " 8   Cabin_unknown              8693 non-null   float64\n",
      " 9   Age_unknown                8693 non-null   float64\n",
      " 10  HomePlanet_Earth           8693 non-null   float64\n",
      " 11  HomePlanet_Europa          8693 non-null   float64\n",
      " 12  HomePlanet_Mars            8693 non-null   float64\n",
      " 13  HomePlanet_Unknown         8693 non-null   float64\n",
      " 14  CryoSleep_False            8693 non-null   float64\n",
      " 15  CryoSleep_True             8693 non-null   float64\n",
      " 16  CryoSleep_Unknown          8693 non-null   float64\n",
      " 17  Destination_55 Cancri e    8693 non-null   float64\n",
      " 18  Destination_PSO J318.5-22  8693 non-null   float64\n",
      " 19  Destination_TRAPPIST-1e    8693 non-null   float64\n",
      " 20  Destination_Unknown        8693 non-null   float64\n",
      " 21  VIP_False                  8693 non-null   float64\n",
      " 22  VIP_True                   8693 non-null   float64\n",
      " 23  VIP_Unknown                8693 non-null   float64\n",
      " 24  Deck_A                     8693 non-null   float64\n",
      " 25  Deck_B                     8693 non-null   float64\n",
      " 26  Deck_C                     8693 non-null   float64\n",
      " 27  Deck_D                     8693 non-null   float64\n",
      " 28  Deck_E                     8693 non-null   float64\n",
      " 29  Deck_F                     8693 non-null   float64\n",
      " 30  Deck_G                     8693 non-null   float64\n",
      " 31  Deck_T                     8693 non-null   float64\n",
      " 32  Deck_Unknown               8693 non-null   float64\n",
      " 33  Side_P                     8693 non-null   float64\n",
      " 34  Side_S                     8693 non-null   float64\n",
      " 35  Side_Unknown               8693 non-null   float64\n",
      "dtypes: float64(36)\n",
      "memory usage: 2.4 MB\n"
     ]
    }
   ],
   "source": [
    "train_df.info()"
   ]
  },
  {
   "cell_type": "code",
   "execution_count": 24,
   "id": "2a0b4c9b-f824-4e07-b949-61604e01d442",
   "metadata": {},
   "outputs": [
    {
     "name": "stdout",
     "output_type": "stream",
     "text": [
      "<class 'pandas.core.frame.DataFrame'>\n",
      "RangeIndex: 4277 entries, 0 to 4276\n",
      "Data columns (total 36 columns):\n",
      " #   Column                     Non-Null Count  Dtype  \n",
      "---  ------                     --------------  -----  \n",
      " 0   PassengerId                4277 non-null   object \n",
      " 1   Age                        4277 non-null   float64\n",
      " 2   RoomService                4277 non-null   float64\n",
      " 3   FoodCourt                  4277 non-null   float64\n",
      " 4   ShoppingMall               4277 non-null   float64\n",
      " 5   Spa                        4277 non-null   float64\n",
      " 6   VRDeck                     4277 non-null   float64\n",
      " 7   Cabin_num                  4277 non-null   float64\n",
      " 8   Cabin_unknown              4277 non-null   float64\n",
      " 9   Age_unknown                4277 non-null   float64\n",
      " 10  HomePlanet_Earth           4277 non-null   float64\n",
      " 11  HomePlanet_Europa          4277 non-null   float64\n",
      " 12  HomePlanet_Mars            4277 non-null   float64\n",
      " 13  HomePlanet_Unknown         4277 non-null   float64\n",
      " 14  CryoSleep_False            4277 non-null   float64\n",
      " 15  CryoSleep_True             4277 non-null   float64\n",
      " 16  CryoSleep_Unknown          4277 non-null   float64\n",
      " 17  Destination_55 Cancri e    4277 non-null   float64\n",
      " 18  Destination_PSO J318.5-22  4277 non-null   float64\n",
      " 19  Destination_TRAPPIST-1e    4277 non-null   float64\n",
      " 20  Destination_Unknown        4277 non-null   float64\n",
      " 21  VIP_False                  4277 non-null   float64\n",
      " 22  VIP_True                   4277 non-null   float64\n",
      " 23  VIP_Unknown                4277 non-null   float64\n",
      " 24  Deck_A                     4277 non-null   float64\n",
      " 25  Deck_B                     4277 non-null   float64\n",
      " 26  Deck_C                     4277 non-null   float64\n",
      " 27  Deck_D                     4277 non-null   float64\n",
      " 28  Deck_E                     4277 non-null   float64\n",
      " 29  Deck_F                     4277 non-null   float64\n",
      " 30  Deck_G                     4277 non-null   float64\n",
      " 31  Deck_T                     4277 non-null   float64\n",
      " 32  Deck_Unknown               4277 non-null   float64\n",
      " 33  Side_P                     4277 non-null   float64\n",
      " 34  Side_S                     4277 non-null   float64\n",
      " 35  Side_Unknown               4277 non-null   float64\n",
      "dtypes: float64(35), object(1)\n",
      "memory usage: 1.2+ MB\n"
     ]
    }
   ],
   "source": [
    "test_df.info()"
   ]
  },
  {
   "cell_type": "markdown",
   "id": "ef07b7e1-e25d-4886-8992-699cfc60a4ba",
   "metadata": {},
   "source": [
    "## Transformations"
   ]
  },
  {
   "cell_type": "markdown",
   "id": "27fe49ce-d0f7-48eb-9144-39994337f7d9",
   "metadata": {},
   "source": [
    "For artificial neural network models, it could be beneficial to transform the input data so that its distribution is more normal.  Looking at he skew of all numerical columns, it's clear that some are heavily skewed."
   ]
  },
  {
   "cell_type": "code",
   "execution_count": 25,
   "id": "1576f7e9-b1f1-4e36-aa10-87292ea481fa",
   "metadata": {},
   "outputs": [
    {
     "data": {
      "text/plain": [
       "ShoppingMall    12.763842\n",
       "VRDeck           7.904554\n",
       "Spa              7.716450\n",
       "FoodCourt        7.177515\n",
       "RoomService      6.397766\n",
       "Cabin_num        0.737448\n",
       "Age              0.431102\n",
       "dtype: float64"
      ]
     },
     "execution_count": 25,
     "metadata": {},
     "output_type": "execute_result"
    }
   ],
   "source": [
    "continious_cols=['Age', 'RoomService', 'FoodCourt', 'ShoppingMall', 'Spa', 'VRDeck', 'Cabin_num']\n",
    "skew=train_df[continious_cols].skew().sort_values(ascending=False)\n",
    "skew"
   ]
  },
  {
   "cell_type": "markdown",
   "id": "be7bc9f4-5c8a-4b6e-b188-d8232e83daa7",
   "metadata": {},
   "source": [
    "Setting a common skew threshold of 0.75.  "
   ]
  },
  {
   "cell_type": "code",
   "execution_count": 26,
   "id": "b509fbf7-4ae9-444e-967b-6ce46b14167b",
   "metadata": {},
   "outputs": [
    {
     "data": {
      "text/plain": [
       "['ShoppingMall', 'VRDeck', 'Spa', 'FoodCourt', 'RoomService']"
      ]
     },
     "execution_count": 26,
     "metadata": {},
     "output_type": "execute_result"
    }
   ],
   "source": [
    "cols_to_unskew=skew[skew>0.75].index.tolist()\n",
    "cols_to_unskew"
   ]
  },
  {
   "cell_type": "markdown",
   "id": "ef2f6e51-f593-4849-87cf-ed68479eca69",
   "metadata": {},
   "source": [
    "Here, transformations will be done using the Box-Cox method. For this method, all input values need to be positive."
   ]
  },
  {
   "cell_type": "code",
   "execution_count": 27,
   "id": "03ec8862-9aa1-4cd8-8a45-c169d6c5133b",
   "metadata": {},
   "outputs": [
    {
     "data": {
      "text/plain": [
       "ShoppingMall    0.0\n",
       "VRDeck          0.0\n",
       "Spa             0.0\n",
       "FoodCourt       0.0\n",
       "RoomService     0.0\n",
       "dtype: float64"
      ]
     },
     "execution_count": 27,
     "metadata": {},
     "output_type": "execute_result"
    }
   ],
   "source": [
    "train_df[cols_to_unskew].min()"
   ]
  },
  {
   "cell_type": "markdown",
   "id": "1cb6a3cf-d7fd-4e6c-8888-f04d526098b7",
   "metadata": {},
   "source": [
    "Adding a small number to the values so that hey are all positive, then transforming them. "
   ]
  },
  {
   "cell_type": "code",
   "execution_count": 28,
   "id": "740baef3-7933-4ac7-9b36-b5e8cb0c3b2e",
   "metadata": {},
   "outputs": [],
   "source": [
    "epsilon=0.01\n",
    "for col in cols_to_unskew:\n",
    "    train_df[col]=train_df[col] + epsilon\n",
    "    test_df[col]=test_df[col] + epsilon"
   ]
  },
  {
   "cell_type": "code",
   "execution_count": 29,
   "id": "ab0b7dee-bb11-408a-81f4-bc290e62207a",
   "metadata": {},
   "outputs": [],
   "source": [
    "for col in cols_to_unskew:\n",
    "    newcol, lmax_mle = boxcox(train_df[col])\n",
    "    train_df[col] = newcol\n",
    "    newcol = boxcox(test_df[col], lmbda=lmax_mle)\n",
    "    test_df[col] = newcol"
   ]
  },
  {
   "cell_type": "markdown",
   "id": "ddbaf664-a0a7-4a8c-924c-1c1e9608bb62",
   "metadata": {},
   "source": [
    "Now all the skews are below the 0.75 threshold and the distributions look more normal."
   ]
  },
  {
   "cell_type": "code",
   "execution_count": 30,
   "id": "b2299497-0304-45a7-98f5-0d757655f78b",
   "metadata": {},
   "outputs": [
    {
     "data": {
      "text/plain": [
       "ShoppingMall    0.740733\n",
       "Cabin_num       0.737448\n",
       "RoomService     0.720910\n",
       "VRDeck          0.686919\n",
       "FoodCourt       0.667141\n",
       "Spa             0.606437\n",
       "Age             0.431102\n",
       "dtype: float64"
      ]
     },
     "execution_count": 30,
     "metadata": {},
     "output_type": "execute_result"
    }
   ],
   "source": [
    "train_df[continious_cols].skew().sort_values(ascending=False)"
   ]
  },
  {
   "cell_type": "code",
   "execution_count": 31,
   "id": "7499ecea-e18f-49ea-b183-c15a46848c6c",
   "metadata": {},
   "outputs": [
    {
     "data": {
      "image/png": "[encoded data removed]",
      "text/plain": [
       "<Figure size 1000x1000 with 5 Axes>"
      ]
     },
     "metadata": {},
     "output_type": "display_data"
    }
   ],
   "source": [
    "fig, ax = plt.subplots(5,1,  figsize=(10, 10))\n",
    "plt.subplots_adjust(top = 2)\n",
    "\n",
    "sns.histplot(train_df['RoomService'], color='b', bins=50, ax=ax[0]);\n",
    "sns.histplot(train_df['FoodCourt'], color='b', bins=50, ax=ax[1]);\n",
    "sns.histplot(train_df['ShoppingMall'], color='b', bins=50, ax=ax[2]);\n",
    "sns.histplot(train_df['Spa'], color='b', bins=50, ax=ax[3]);\n",
    "sns.histplot(train_df['VRDeck'], color='b', bins=50, ax=ax[4]);"
   ]
  },
  {
   "cell_type": "markdown",
   "id": "ae78be12-75ab-4258-a31c-2053491185db",
   "metadata": {},
   "source": [
    "Looking at the scale of the features, the continious columns are all on different scales. It could be beneficial to use min-max scaling on them."
   ]
  },
  {
   "cell_type": "code",
   "execution_count": 32,
   "id": "b639dea8-2bb0-4268-80a8-9b687b9ac30c",
   "metadata": {},
   "outputs": [
    {
     "data": {
      "text/html": [
       "<div>\n",
       "<style scoped>\n",
       "    .dataframe tbody tr th:only-of-type {\n",
       "        vertical-align: middle;\n",
       "    }\n",
       "\n",
       "    .dataframe tbody tr th {\n",
       "        vertical-align: top;\n",
       "    }\n",
       "\n",
       "    .dataframe thead th {\n",
       "        text-align: right;\n",
       "    }\n",
       "</style>\n",
       "<table border=\"1\" class=\"dataframe\">\n",
       "  <thead>\n",
       "    <tr style=\"text-align: right;\">\n",
       "      <th></th>\n",
       "      <th>Age</th>\n",
       "      <th>RoomService</th>\n",
       "      <th>FoodCourt</th>\n",
       "      <th>ShoppingMall</th>\n",
       "      <th>Spa</th>\n",
       "      <th>VRDeck</th>\n",
       "      <th>Transported</th>\n",
       "      <th>Cabin_num</th>\n",
       "      <th>Cabin_unknown</th>\n",
       "      <th>Age_unknown</th>\n",
       "      <th>...</th>\n",
       "      <th>Deck_C</th>\n",
       "      <th>Deck_D</th>\n",
       "      <th>Deck_E</th>\n",
       "      <th>Deck_F</th>\n",
       "      <th>Deck_G</th>\n",
       "      <th>Deck_T</th>\n",
       "      <th>Deck_Unknown</th>\n",
       "      <th>Side_P</th>\n",
       "      <th>Side_S</th>\n",
       "      <th>Side_Unknown</th>\n",
       "    </tr>\n",
       "  </thead>\n",
       "  <tbody>\n",
       "    <tr>\n",
       "      <th>count</th>\n",
       "      <td>8693.000000</td>\n",
       "      <td>8693.000000</td>\n",
       "      <td>8693.000000</td>\n",
       "      <td>8693.000000</td>\n",
       "      <td>8693.000000</td>\n",
       "      <td>8693.000000</td>\n",
       "      <td>8693.000000</td>\n",
       "      <td>8693.000000</td>\n",
       "      <td>8693.000000</td>\n",
       "      <td>8693.000000</td>\n",
       "      <td>...</td>\n",
       "      <td>8693.000000</td>\n",
       "      <td>8693.000000</td>\n",
       "      <td>8693.000000</td>\n",
       "      <td>8693.000000</td>\n",
       "      <td>8693.000000</td>\n",
       "      <td>8693.000000</td>\n",
       "      <td>8693.000000</td>\n",
       "      <td>8693.000000</td>\n",
       "      <td>8693.000000</td>\n",
       "      <td>8693.000000</td>\n",
       "    </tr>\n",
       "    <tr>\n",
       "      <th>mean</th>\n",
       "      <td>28.790291</td>\n",
       "      <td>-4.337191</td>\n",
       "      <td>-3.797910</td>\n",
       "      <td>-4.664918</td>\n",
       "      <td>-3.543681</td>\n",
       "      <td>-4.104842</td>\n",
       "      <td>0.503624</td>\n",
       "      <td>586.624065</td>\n",
       "      <td>0.022892</td>\n",
       "      <td>0.020591</td>\n",
       "      <td>...</td>\n",
       "      <td>0.085931</td>\n",
       "      <td>0.054987</td>\n",
       "      <td>0.100771</td>\n",
       "      <td>0.321408</td>\n",
       "      <td>0.294375</td>\n",
       "      <td>0.000575</td>\n",
       "      <td>0.022892</td>\n",
       "      <td>0.483838</td>\n",
       "      <td>0.493270</td>\n",
       "      <td>0.022892</td>\n",
       "    </tr>\n",
       "    <tr>\n",
       "      <th>std</th>\n",
       "      <td>14.341404</td>\n",
       "      <td>5.157880</td>\n",
       "      <td>5.098626</td>\n",
       "      <td>5.187403</td>\n",
       "      <td>5.019126</td>\n",
       "      <td>5.106992</td>\n",
       "      <td>0.500016</td>\n",
       "      <td>513.880084</td>\n",
       "      <td>0.149568</td>\n",
       "      <td>0.142020</td>\n",
       "      <td>...</td>\n",
       "      <td>0.280279</td>\n",
       "      <td>0.227968</td>\n",
       "      <td>0.301042</td>\n",
       "      <td>0.467044</td>\n",
       "      <td>0.455787</td>\n",
       "      <td>0.023977</td>\n",
       "      <td>0.149568</td>\n",
       "      <td>0.499767</td>\n",
       "      <td>0.499983</td>\n",
       "      <td>0.149568</td>\n",
       "    </tr>\n",
       "    <tr>\n",
       "      <th>min</th>\n",
       "      <td>0.000000</td>\n",
       "      <td>-7.997523</td>\n",
       "      <td>-7.520552</td>\n",
       "      <td>-8.311794</td>\n",
       "      <td>-7.325517</td>\n",
       "      <td>-7.794963</td>\n",
       "      <td>0.000000</td>\n",
       "      <td>0.000000</td>\n",
       "      <td>0.000000</td>\n",
       "      <td>0.000000</td>\n",
       "      <td>...</td>\n",
       "      <td>0.000000</td>\n",
       "      <td>0.000000</td>\n",
       "      <td>0.000000</td>\n",
       "      <td>0.000000</td>\n",
       "      <td>0.000000</td>\n",
       "      <td>0.000000</td>\n",
       "      <td>0.000000</td>\n",
       "      <td>0.000000</td>\n",
       "      <td>0.000000</td>\n",
       "      <td>0.000000</td>\n",
       "    </tr>\n",
       "    <tr>\n",
       "      <th>25%</th>\n",
       "      <td>20.000000</td>\n",
       "      <td>-7.997523</td>\n",
       "      <td>-7.520552</td>\n",
       "      <td>-8.311794</td>\n",
       "      <td>-7.325517</td>\n",
       "      <td>-7.794963</td>\n",
       "      <td>0.000000</td>\n",
       "      <td>152.000000</td>\n",
       "      <td>0.000000</td>\n",
       "      <td>0.000000</td>\n",
       "      <td>...</td>\n",
       "      <td>0.000000</td>\n",
       "      <td>0.000000</td>\n",
       "      <td>0.000000</td>\n",
       "      <td>0.000000</td>\n",
       "      <td>0.000000</td>\n",
       "      <td>0.000000</td>\n",
       "      <td>0.000000</td>\n",
       "      <td>0.000000</td>\n",
       "      <td>0.000000</td>\n",
       "      <td>0.000000</td>\n",
       "    </tr>\n",
       "    <tr>\n",
       "      <th>50%</th>\n",
       "      <td>27.000000</td>\n",
       "      <td>-7.997523</td>\n",
       "      <td>-7.520552</td>\n",
       "      <td>-8.311794</td>\n",
       "      <td>-7.325517</td>\n",
       "      <td>-7.794963</td>\n",
       "      <td>1.000000</td>\n",
       "      <td>407.000000</td>\n",
       "      <td>0.000000</td>\n",
       "      <td>0.000000</td>\n",
       "      <td>...</td>\n",
       "      <td>0.000000</td>\n",
       "      <td>0.000000</td>\n",
       "      <td>0.000000</td>\n",
       "      <td>0.000000</td>\n",
       "      <td>0.000000</td>\n",
       "      <td>0.000000</td>\n",
       "      <td>0.000000</td>\n",
       "      <td>0.000000</td>\n",
       "      <td>0.000000</td>\n",
       "      <td>0.000000</td>\n",
       "    </tr>\n",
       "    <tr>\n",
       "      <th>75%</th>\n",
       "      <td>37.000000</td>\n",
       "      <td>2.533046</td>\n",
       "      <td>2.812415</td>\n",
       "      <td>2.196292</td>\n",
       "      <td>2.797146</td>\n",
       "      <td>2.561146</td>\n",
       "      <td>1.000000</td>\n",
       "      <td>983.000000</td>\n",
       "      <td>0.000000</td>\n",
       "      <td>0.000000</td>\n",
       "      <td>...</td>\n",
       "      <td>0.000000</td>\n",
       "      <td>0.000000</td>\n",
       "      <td>0.000000</td>\n",
       "      <td>1.000000</td>\n",
       "      <td>1.000000</td>\n",
       "      <td>0.000000</td>\n",
       "      <td>0.000000</td>\n",
       "      <td>1.000000</td>\n",
       "      <td>1.000000</td>\n",
       "      <td>0.000000</td>\n",
       "    </tr>\n",
       "    <tr>\n",
       "      <th>max</th>\n",
       "      <td>79.000000</td>\n",
       "      <td>3.977631</td>\n",
       "      <td>4.392923</td>\n",
       "      <td>3.850768</td>\n",
       "      <td>4.508551</td>\n",
       "      <td>4.168245</td>\n",
       "      <td>1.000000</td>\n",
       "      <td>1894.000000</td>\n",
       "      <td>1.000000</td>\n",
       "      <td>1.000000</td>\n",
       "      <td>...</td>\n",
       "      <td>1.000000</td>\n",
       "      <td>1.000000</td>\n",
       "      <td>1.000000</td>\n",
       "      <td>1.000000</td>\n",
       "      <td>1.000000</td>\n",
       "      <td>1.000000</td>\n",
       "      <td>1.000000</td>\n",
       "      <td>1.000000</td>\n",
       "      <td>1.000000</td>\n",
       "      <td>1.000000</td>\n",
       "    </tr>\n",
       "  </tbody>\n",
       "</table>\n",
       "<p>8 rows × 36 columns</p>\n",
       "</div>"
      ],
      "text/plain": [
       "               Age  RoomService    FoodCourt  ShoppingMall          Spa  \\\n",
       "count  8693.000000  8693.000000  8693.000000   8693.000000  8693.000000   \n",
       "mean     28.790291    -4.337191    -3.797910     -4.664918    -3.543681   \n",
       "std      14.341404     5.157880     5.098626      5.187403     5.019126   \n",
       "min       0.000000    -7.997523    -7.520552     -8.311794    -7.325517   \n",
       "25%      20.000000    -7.997523    -7.520552     -8.311794    -7.325517   \n",
       "50%      27.000000    -7.997523    -7.520552     -8.311794    -7.325517   \n",
       "75%      37.000000     2.533046     2.812415      2.196292     2.797146   \n",
       "max      79.000000     3.977631     4.392923      3.850768     4.508551   \n",
       "\n",
       "            VRDeck  Transported    Cabin_num  Cabin_unknown  Age_unknown  ...  \\\n",
       "count  8693.000000  8693.000000  8693.000000    8693.000000  8693.000000  ...   \n",
       "mean     -4.104842     0.503624   586.624065       0.022892     0.020591  ...   \n",
       "std       5.106992     0.500016   513.880084       0.149568     0.142020  ...   \n",
       "min      -7.794963     0.000000     0.000000       0.000000     0.000000  ...   \n",
       "25%      -7.794963     0.000000   152.000000       0.000000     0.000000  ...   \n",
       "50%      -7.794963     1.000000   407.000000       0.000000     0.000000  ...   \n",
       "75%       2.561146     1.000000   983.000000       0.000000     0.000000  ...   \n",
       "max       4.168245     1.000000  1894.000000       1.000000     1.000000  ...   \n",
       "\n",
       "            Deck_C       Deck_D       Deck_E       Deck_F       Deck_G  \\\n",
       "count  8693.000000  8693.000000  8693.000000  8693.000000  8693.000000   \n",
       "mean      0.085931     0.054987     0.100771     0.321408     0.294375   \n",
       "std       0.280279     0.227968     0.301042     0.467044     0.455787   \n",
       "min       0.000000     0.000000     0.000000     0.000000     0.000000   \n",
       "25%       0.000000     0.000000     0.000000     0.000000     0.000000   \n",
       "50%       0.000000     0.000000     0.000000     0.000000     0.000000   \n",
       "75%       0.000000     0.000000     0.000000     1.000000     1.000000   \n",
       "max       1.000000     1.000000     1.000000     1.000000     1.000000   \n",
       "\n",
       "            Deck_T  Deck_Unknown       Side_P       Side_S  Side_Unknown  \n",
       "count  8693.000000   8693.000000  8693.000000  8693.000000   8693.000000  \n",
       "mean      0.000575      0.022892     0.483838     0.493270      0.022892  \n",
       "std       0.023977      0.149568     0.499767     0.499983      0.149568  \n",
       "min       0.000000      0.000000     0.000000     0.000000      0.000000  \n",
       "25%       0.000000      0.000000     0.000000     0.000000      0.000000  \n",
       "50%       0.000000      0.000000     0.000000     0.000000      0.000000  \n",
       "75%       0.000000      0.000000     1.000000     1.000000      0.000000  \n",
       "max       1.000000      1.000000     1.000000     1.000000      1.000000  \n",
       "\n",
       "[8 rows x 36 columns]"
      ]
     },
     "execution_count": 32,
     "metadata": {},
     "output_type": "execute_result"
    }
   ],
   "source": [
    "train_df.describe()"
   ]
  },
  {
   "cell_type": "markdown",
   "id": "8fe4c4c1-d92b-40f5-bf79-2a9f2d1cbcaa",
   "metadata": {},
   "source": [
    "## Scaling"
   ]
  },
  {
   "cell_type": "markdown",
   "id": "0d2975e4-6479-4db3-8519-479ae3d6ee21",
   "metadata": {},
   "source": [
    "Here, minmax scaling is applied to all numerical columns in the dataset. Then, the transformed columns are added to the dataset and the old columns are dropped."
   ]
  },
  {
   "cell_type": "code",
   "execution_count": 33,
   "id": "40e0bf6c-1691-4c8d-8c05-15e98599f728",
   "metadata": {},
   "outputs": [],
   "source": [
    "scaler=MinMaxScaler()\n",
    "\n",
    "scaler_train=scaler.fit_transform(train_df[continious_cols])\n",
    "scaler_test=scaler.transform(test_df[continious_cols])\n",
    "\n",
    "new_col_names=[str+'_transformed' for str in scaler.get_feature_names_out()]\n",
    "\n",
    "scaler_train=pd.DataFrame(scaler_train, index=train_df.index, columns=new_col_names)\n",
    "scaler_test=pd.DataFrame(scaler_test, index=test_df.index, columns=new_col_names)\n",
    "\n",
    "train_df=pd.concat([train_df, scaler_train], axis=1)\n",
    "test_df=pd.concat([test_df, scaler_test], axis=1)\n",
    "\n",
    "train_df.drop(columns=continious_cols, inplace=True)\n",
    "test_df.drop(columns=continious_cols, inplace=True)"
   ]
  },
  {
   "cell_type": "code",
   "execution_count": 34,
   "id": "3d37d6d1-cd87-4e01-a3d3-eb41caa5eb6b",
   "metadata": {},
   "outputs": [
    {
     "name": "stdout",
     "output_type": "stream",
     "text": [
      "<class 'pandas.core.frame.DataFrame'>\n",
      "RangeIndex: 8693 entries, 0 to 8692\n",
      "Data columns (total 36 columns):\n",
      " #   Column                     Non-Null Count  Dtype  \n",
      "---  ------                     --------------  -----  \n",
      " 0   Transported                8693 non-null   float64\n",
      " 1   Cabin_unknown              8693 non-null   float64\n",
      " 2   Age_unknown                8693 non-null   float64\n",
      " 3   HomePlanet_Earth           8693 non-null   float64\n",
      " 4   HomePlanet_Europa          8693 non-null   float64\n",
      " 5   HomePlanet_Mars            8693 non-null   float64\n",
      " 6   HomePlanet_Unknown         8693 non-null   float64\n",
      " 7   CryoSleep_False            8693 non-null   float64\n",
      " 8   CryoSleep_True             8693 non-null   float64\n",
      " 9   CryoSleep_Unknown          8693 non-null   float64\n",
      " 10  Destination_55 Cancri e    8693 non-null   float64\n",
      " 11  Destination_PSO J318.5-22  8693 non-null   float64\n",
      " 12  Destination_TRAPPIST-1e    8693 non-null   float64\n",
      " 13  Destination_Unknown        8693 non-null   float64\n",
      " 14  VIP_False                  8693 non-null   float64\n",
      " 15  VIP_True                   8693 non-null   float64\n",
      " 16  VIP_Unknown                8693 non-null   float64\n",
      " 17  Deck_A                     8693 non-null   float64\n",
      " 18  Deck_B                     8693 non-null   float64\n",
      " 19  Deck_C                     8693 non-null   float64\n",
      " 20  Deck_D                     8693 non-null   float64\n",
      " 21  Deck_E                     8693 non-null   float64\n",
      " 22  Deck_F                     8693 non-null   float64\n",
      " 23  Deck_G                     8693 non-null   float64\n",
      " 24  Deck_T                     8693 non-null   float64\n",
      " 25  Deck_Unknown               8693 non-null   float64\n",
      " 26  Side_P                     8693 non-null   float64\n",
      " 27  Side_S                     8693 non-null   float64\n",
      " 28  Side_Unknown               8693 non-null   float64\n",
      " 29  Age_transformed            8693 non-null   float64\n",
      " 30  RoomService_transformed    8693 non-null   float64\n",
      " 31  FoodCourt_transformed      8693 non-null   float64\n",
      " 32  ShoppingMall_transformed   8693 non-null   float64\n",
      " 33  Spa_transformed            8693 non-null   float64\n",
      " 34  VRDeck_transformed         8693 non-null   float64\n",
      " 35  Cabin_num_transformed      8693 non-null   float64\n",
      "dtypes: float64(36)\n",
      "memory usage: 2.4 MB\n"
     ]
    }
   ],
   "source": [
    "train_df.info()"
   ]
  },
  {
   "cell_type": "code",
   "execution_count": 35,
   "id": "fc22ceed-bacf-484f-8737-f8df11a6a8c6",
   "metadata": {},
   "outputs": [
    {
     "name": "stdout",
     "output_type": "stream",
     "text": [
      "<class 'pandas.core.frame.DataFrame'>\n",
      "RangeIndex: 4277 entries, 0 to 4276\n",
      "Data columns (total 36 columns):\n",
      " #   Column                     Non-Null Count  Dtype  \n",
      "---  ------                     --------------  -----  \n",
      " 0   PassengerId                4277 non-null   object \n",
      " 1   Cabin_unknown              4277 non-null   float64\n",
      " 2   Age_unknown                4277 non-null   float64\n",
      " 3   HomePlanet_Earth           4277 non-null   float64\n",
      " 4   HomePlanet_Europa          4277 non-null   float64\n",
      " 5   HomePlanet_Mars            4277 non-null   float64\n",
      " 6   HomePlanet_Unknown         4277 non-null   float64\n",
      " 7   CryoSleep_False            4277 non-null   float64\n",
      " 8   CryoSleep_True             4277 non-null   float64\n",
      " 9   CryoSleep_Unknown          4277 non-null   float64\n",
      " 10  Destination_55 Cancri e    4277 non-null   float64\n",
      " 11  Destination_PSO J318.5-22  4277 non-null   float64\n",
      " 12  Destination_TRAPPIST-1e    4277 non-null   float64\n",
      " 13  Destination_Unknown        4277 non-null   float64\n",
      " 14  VIP_False                  4277 non-null   float64\n",
      " 15  VIP_True                   4277 non-null   float64\n",
      " 16  VIP_Unknown                4277 non-null   float64\n",
      " 17  Deck_A                     4277 non-null   float64\n",
      " 18  Deck_B                     4277 non-null   float64\n",
      " 19  Deck_C                     4277 non-null   float64\n",
      " 20  Deck_D                     4277 non-null   float64\n",
      " 21  Deck_E                     4277 non-null   float64\n",
      " 22  Deck_F                     4277 non-null   float64\n",
      " 23  Deck_G                     4277 non-null   float64\n",
      " 24  Deck_T                     4277 non-null   float64\n",
      " 25  Deck_Unknown               4277 non-null   float64\n",
      " 26  Side_P                     4277 non-null   float64\n",
      " 27  Side_S                     4277 non-null   float64\n",
      " 28  Side_Unknown               4277 non-null   float64\n",
      " 29  Age_transformed            4277 non-null   float64\n",
      " 30  RoomService_transformed    4277 non-null   float64\n",
      " 31  FoodCourt_transformed      4277 non-null   float64\n",
      " 32  ShoppingMall_transformed   4277 non-null   float64\n",
      " 33  Spa_transformed            4277 non-null   float64\n",
      " 34  VRDeck_transformed         4277 non-null   float64\n",
      " 35  Cabin_num_transformed      4277 non-null   float64\n",
      "dtypes: float64(35), object(1)\n",
      "memory usage: 1.2+ MB\n"
     ]
    }
   ],
   "source": [
    "test_df.info()"
   ]
  },
  {
   "cell_type": "code",
   "execution_count": 36,
   "id": "915ae1dc-976b-47ac-9b51-3df3c9188c48",
   "metadata": {},
   "outputs": [
    {
     "name": "stdout",
     "output_type": "stream",
     "text": [
      "Train data MAX value:  1.0000000000000002\n",
      "Train data MIN value:  0.0\n",
      "--------------------\n",
      "Test data MAX value:  1.0\n",
      "Test data MIN value:  0.0\n"
     ]
    }
   ],
   "source": [
    "print(\"Train data MAX value: \", train_df.max().max())\n",
    "print(\"Train data MIN value: \", train_df.min().min())\n",
    "print('-'*20)\n",
    "print(\"Test data MAX value: \", test_df[test_df.columns[1:]].max().max())\n",
    "print(\"Test data MIN value: \", test_df[test_df.columns[1:]].min().min())"
   ]
  },
  {
   "cell_type": "markdown",
   "id": "f54f008e-5301-4f76-b9f5-406632add684",
   "metadata": {},
   "source": [
    "Now, the data is ready to be used in artificial neural networks. \n",
    "\n",
    "Saving the transformed data."
   ]
  },
  {
   "cell_type": "code",
   "execution_count": 37,
   "id": "4f6afbe1-793c-4594-aa68-7aba9b6d5112",
   "metadata": {},
   "outputs": [],
   "source": [
    "train_df.to_csv('data/train_transformed.csv')\n",
    "test_df.to_csv('data/test_transformed.csv')"
   ]
  },
  {
   "cell_type": "markdown",
   "id": "1ac35069-5700-42f5-9a3e-9b38069470ff",
   "metadata": {},
   "source": [
    "The two classes in the dataset are balanced, which is convenient."
   ]
  },
  {
   "cell_type": "code",
   "execution_count": 39,
   "id": "553349a0-72a0-4d2c-b986-c35cfec52c56",
   "metadata": {},
   "outputs": [
    {
     "data": {
      "image/png": "[encoded data removed]",
      "text/plain": [
       "<Figure size 640x480 with 1 Axes>"
      ]
     },
     "metadata": {},
     "output_type": "display_data"
    }
   ],
   "source": [
    "train_df.Transported.value_counts().plot(kind=\"bar\");"
   ]
  },
  {
   "cell_type": "markdown",
   "id": "a6ec875d-3c92-4e02-928c-9a702a9e588a",
   "metadata": {},
   "source": [
    "# Artificial neural network models"
   ]
  },
  {
   "cell_type": "markdown",
   "id": "51898807-05ac-4c36-b1b6-8f4b5584f44e",
   "metadata": {},
   "source": [
    "## Preparation"
   ]
  },
  {
   "cell_type": "markdown",
   "id": "a30ab480-1a7f-4671-ada8-f538489f18ed",
   "metadata": {},
   "source": [
    "First, splitting the train data into X and y. "
   ]
  },
  {
   "cell_type": "code",
   "execution_count": 40,
   "id": "f4674a8d-d92f-494e-ae49-c6b9904fc819",
   "metadata": {},
   "outputs": [
    {
     "data": {
      "text/plain": [
       "(8693, 35)"
      ]
     },
     "execution_count": 40,
     "metadata": {},
     "output_type": "execute_result"
    }
   ],
   "source": [
    "y=train_df['Transported'].to_numpy()\n",
    "X=train_df.drop(columns='Transported').to_numpy()\n",
    "X.shape"
   ]
  },
  {
   "cell_type": "code",
   "execution_count": 41,
   "id": "a0e2d0fe-f478-4488-9551-bd260432cc7f",
   "metadata": {},
   "outputs": [
    {
     "data": {
      "text/plain": [
       "(8693,)"
      ]
     },
     "execution_count": 41,
     "metadata": {},
     "output_type": "execute_result"
    }
   ],
   "source": [
    "y.shape"
   ]
  },
  {
   "cell_type": "markdown",
   "id": "d6bea503-2bec-4864-8c67-0e5f882f266c",
   "metadata": {},
   "source": [
    "Saving the indices of the 5 K-Fold splits for model selection."
   ]
  },
  {
   "cell_type": "code",
   "execution_count": 42,
   "id": "bbb1f3cc-2209-4922-ab05-e895a440d850",
   "metadata": {},
   "outputs": [
    {
     "name": "stdout",
     "output_type": "stream",
     "text": [
      "Fold 0:\n",
      "       Train: index=[   0    1    2 ... 8690 8691 8692]\n",
      "  Validation: index=[   5   14   15 ... 8671 8676 8679]\n",
      "Fold 1:\n",
      "       Train: index=[   0    2    3 ... 8689 8691 8692]\n",
      "  Validation: index=[   1    7    8 ... 8684 8688 8690]\n",
      "Fold 2:\n",
      "       Train: index=[   1    2    4 ... 8690 8691 8692]\n",
      "  Validation: index=[   0    3    6 ... 8667 8669 8677]\n",
      "Fold 3:\n",
      "       Train: index=[   0    1    2 ... 8690 8691 8692]\n",
      "  Validation: index=[  18   20   24 ... 8681 8682 8685]\n",
      "Fold 4:\n",
      "       Train: index=[   0    1    3 ... 8685 8688 8690]\n",
      "  Validation: index=[   2    4    9 ... 8689 8691 8692]\n"
     ]
    }
   ],
   "source": [
    "train_indices = {}\n",
    "validation_indices = {}\n",
    "SKF = StratifiedKFold(n_splits=5, random_state=123, shuffle=True)\n",
    "for i, (train_index, validation_index) in enumerate(SKF.split(X, y)):\n",
    "    print(f\"Fold {i}:\")\n",
    "    print(f\"       Train: index={train_index}\")\n",
    "    print(f\"  Validation: index={validation_index}\")\n",
    "    train_indices[i+1]=train_index\n",
    "    validation_indices[i+1]=validation_index"
   ]
  },
  {
   "cell_type": "markdown",
   "id": "2fc2eacc-3f43-4434-9d88-f8269a719fb1",
   "metadata": {},
   "source": [
    "In this project, all networks have one input layer for the 35 features and the output layer consisting of 1 neuron with sigmoid activation for binary classification.\n",
    "\n",
    "Four different types of networks are created:\n",
    "1. `Shallow`: 2 hidden layers\n",
    "2. `Deeper`: 3 hidden layers\n",
    "3. `Batchnorm`: 4 hidden layers with batch normalization layers after the first 3.\n",
    "4. `Dropout`: 4 hidden layers with dropout after the first 2.\n",
    "\n",
    "These models are created with different hidden layer sizes and activation functions using the functions below."
   ]
  },
  {
   "cell_type": "code",
   "execution_count": 53,
   "id": "91abe109-ea9c-4c21-be31-5352e81d6385",
   "metadata": {},
   "outputs": [],
   "source": [
    "def create_shallow_model(activation, hidden_dim):\n",
    "    inputs = Input(shape=(35,))\n",
    "    layer1 = Dense(hidden_dim, activation=activation)(inputs)\n",
    "    layer2 = Dense(int(hidden_dim/3), activation=activation)(layer1)\n",
    "    outputs = Dense(1, activation='sigmoid')(layer2)\n",
    "    return Model(inputs, outputs)\n",
    "\n",
    "def create_deeper_model(activation, hidden_dim):\n",
    "    inputs = Input(shape=(35,))\n",
    "    layer1 = Dense(hidden_dim, activation=activation)(inputs)\n",
    "    layer2 = Dense(int(2*hidden_dim/3), activation=activation)(layer1)\n",
    "    layer3 = Dense(int(hidden_dim/3), activation=activation)(layer2)\n",
    "    outputs = Dense(1, activation='sigmoid')(layer3)\n",
    "    return keras.Model(inputs, outputs)\n",
    "\n",
    "def create_batchnorm_model(activation, hidden_dim):\n",
    "    inputs = Input(shape=(35,))\n",
    "    layer1 = Dense(hidden_dim, activation=activation)(inputs)\n",
    "    bnorm1 = BatchNormalization()(layer1)\n",
    "    layer2 = Dense(int(3*hidden_dim/4), activation=activation)(bnorm1)\n",
    "    bnorm2 = BatchNormalization()(layer2)\n",
    "    layer3 = Dense(int(hidden_dim/2), activation=activation)(bnorm2)\n",
    "    bnorm3 = BatchNormalization()(layer3)\n",
    "    layer4 = Dense(int(hidden_dim/4), activation=activation)(bnorm3)\n",
    "    outputs = Dense(1, activation='sigmoid')(layer4)\n",
    "    return keras.Model(inputs, outputs)\n",
    "\n",
    "def create_dropout_model(activation, hidden_dim, drop_rate, drop_seed=123):\n",
    "    inputs = Input(shape=(35,))\n",
    "    layer1 = Dense(hidden_dim, activation=activation)(inputs)\n",
    "    drop1 = Dropout(rate=drop_rate, seed=drop_seed)(layer1)\n",
    "    layer2 = Dense(int(3*hidden_dim/4), activation=activation)(drop1)\n",
    "    drop2 = Dropout(rate=drop_rate, seed=drop_seed)(layer2)\n",
    "    layer3 = Dense(int(hidden_dim/2), activation=activation)(layer2)\n",
    "    layer4 = Dense(int(hidden_dim/4), activation=activation)(layer3)\n",
    "    outputs = Dense(1, activation='sigmoid')(layer4)\n",
    "    return keras.Model(inputs, outputs)"
   ]
  },
  {
   "cell_type": "markdown",
   "id": "a705bab3-f06a-4386-83ec-b7eed5e182f5",
   "metadata": {},
   "source": [
    "Creating some folders."
   ]
  },
  {
   "cell_type": "code",
   "execution_count": 43,
   "id": "62453135-a5d3-41b3-a36b-cc974139f129",
   "metadata": {},
   "outputs": [],
   "source": [
    "try:\n",
    "    os.mkdir('model_weights')\n",
    "except FileExistsError:\n",
    "    pass\n",
    "try:\n",
    "    os.mkdir('model_scores')\n",
    "except FileExistsError:\n",
    "    pass\n",
    "try:\n",
    "    os.mkdir('predictions')\n",
    "except FileExistsError:\n",
    "    pass"
   ]
  },
  {
   "cell_type": "markdown",
   "id": "97f1aa8a-275f-4262-8178-3d4bea50680f",
   "metadata": {
    "jp-MarkdownHeadingCollapsed": true
   },
   "source": [
    "## Searches for best models"
   ]
  },
  {
   "cell_type": "markdown",
   "id": "25417f9e-2215-4e7e-8691-8d4bbbdf5e1d",
   "metadata": {
    "jp-MarkdownHeadingCollapsed": true
   },
   "source": [
    "### Shallow model search"
   ]
  },
  {
   "cell_type": "markdown",
   "id": "3090ee77-7961-48fa-9003-11d3efbf3e07",
   "metadata": {},
   "source": [
    "Here, best hyperparameters for shallow models are searched for using 50 optuna trials. In each trial, a learning rate, optimizer, hidden layer size, hidden layer activation function and batch size are chosen. Then, five models with these hyperparameters are trained for 50 epochs on each K-fold. After every epoch, model performance is checked on the validation sets. The weights of the models with the best accuracy on validation sets are stored in separate files. The accuracies on the validation sets achieved with those weights are stored in a separate Pandas Dataframe. The optimizer tries to maximize the average validation accuracy among the 5 K-folds."
   ]
  },
  {
   "cell_type": "markdown",
   "id": "440f1766-6df5-42c7-abf1-15410db5f97b",
   "metadata": {},
   "source": [
    "Note: this cell can take multiple hours to run."
   ]
  },
  {
   "cell_type": "code",
   "execution_count": 98,
   "id": "5b86514f-cd79-41f1-ba61-2bcf960f7564",
   "metadata": {
    "scrolled": true
   },
   "outputs": [
    {
     "name": "stderr",
     "output_type": "stream",
     "text": [
      "[I 2024-05-31 13:15:18,933] A new study created in memory with name: no-name-1a024c83-5f69-43ae-a449-88130dc64399\n"
     ]
    },
    {
     "data": {
      "application/vnd.jupyter.widget-view+json": {
       "model_id": "19138a057f4b4a5088ffe8d7c876da0b",
       "version_major": 2,
       "version_minor": 0
      },
      "text/plain": [
       "  0%|          | 0/50 [00:00<?, ?it/s]"
      ]
     },
     "metadata": {},
     "output_type": "display_data"
    },
    {
     "name": "stdout",
     "output_type": "stream",
     "text": [
      "[I 2024-05-31 13:16:09,537] Trial 0 finished with value: 0.5800055146217347 and parameters: {'learning_rate': 7.041381853688856e-06, 'hidden_dim': 72, 'activation': 'leaky_relu', 'optimizer': 'SGD', 'batch_size': 72}. Best is trial 0 with value: 0.5800055146217347.\n",
      "[I 2024-05-31 13:17:04,583] Trial 1 finished with value: 0.5097206115722657 and parameters: {'learning_rate': 0.00015138347301837788, 'hidden_dim': 150, 'activation': 'sigmoid', 'optimizer': 'SGD', 'batch_size': 64}. Best is trial 0 with value: 0.5800055146217347.\n",
      "[I 2024-05-31 13:22:47,647] Trial 2 finished with value: 0.7599220633506775 and parameters: {'learning_rate': 0.0017231168147321704, 'hidden_dim': 159, 'activation': 'leaky_relu', 'optimizer': 'SGD', 'batch_size': 8}. Best is trial 2 with value: 0.7599220633506775.\n",
      "[I 2024-05-31 13:23:58,945] Trial 3 finished with value: 0.7644091367721557 and parameters: {'learning_rate': 0.00025787426613426323, 'hidden_dim': 123, 'activation': 'relu', 'optimizer': 'Adam', 'batch_size': 48}. Best is trial 3 with value: 0.7644091367721557.\n",
      "[I 2024-05-31 13:27:02,097] Trial 4 finished with value: 0.7675151586532593 and parameters: {'learning_rate': 0.00447479493421639, 'hidden_dim': 63, 'activation': 'leaky_relu', 'optimizer': 'Adam', 'batch_size': 16}. Best is trial 4 with value: 0.7675151586532593.\n",
      "[I 2024-05-31 13:28:37,177] Trial 5 finished with value: 0.7366861581802369 and parameters: {'learning_rate': 0.0018590478846439167, 'hidden_dim': 90, 'activation': 'sigmoid', 'optimizer': 'SGD', 'batch_size': 32}. Best is trial 4 with value: 0.7675151586532593.\n",
      "[I 2024-05-31 13:31:44,070] Trial 6 finished with value: 0.7692406177520752 and parameters: {'learning_rate': 0.0032379542594369597, 'hidden_dim': 138, 'activation': 'leaky_relu', 'optimizer': 'Adam', 'batch_size': 16}. Best is trial 6 with value: 0.7692406177520752.\n",
      "[I 2024-05-31 13:32:35,172] Trial 7 finished with value: 0.7662494063377381 and parameters: {'learning_rate': 0.001463524206607855, 'hidden_dim': 117, 'activation': 'leaky_relu', 'optimizer': 'Adam', 'batch_size': 72}. Best is trial 6 with value: 0.7692406177520752.\n",
      "[I 2024-05-31 13:33:48,908] Trial 8 finished with value: 0.6334990859031677 and parameters: {'learning_rate': 0.001006180124230344, 'hidden_dim': 138, 'activation': 'sigmoid', 'optimizer': 'SGD', 'batch_size': 48}. Best is trial 6 with value: 0.7692406177520752.\n",
      "[I 2024-05-31 13:35:14,230] Trial 9 finished with value: 0.7602674961090088 and parameters: {'learning_rate': 4.425279380223748e-05, 'hidden_dim': 156, 'activation': 'relu', 'optimizer': 'Adam', 'batch_size': 40}. Best is trial 6 with value: 0.7692406177520752.\n",
      "[I 2024-05-31 13:37:31,162] Trial 10 finished with value: 0.7362256050109863 and parameters: {'learning_rate': 1.171228775506079e-06, 'hidden_dim': 210, 'activation': 'leaky_relu', 'optimizer': 'RMSprop', 'batch_size': 24}. Best is trial 6 with value: 0.7692406177520752.\n",
      "[I 2024-05-31 13:43:05,124] Trial 11 finished with value: 0.7556643009185791 and parameters: {'learning_rate': 0.009896423558478844, 'hidden_dim': 45, 'activation': 'leaky_relu', 'optimizer': 'Adagrad', 'batch_size': 8}. Best is trial 6 with value: 0.7692406177520752.\n",
      "[I 2024-05-31 13:45:15,423] Trial 12 finished with value: 0.7655591487884521 and parameters: {'learning_rate': 0.009865750271533443, 'hidden_dim': 186, 'activation': 'leaky_relu', 'optimizer': 'Adam', 'batch_size': 24}. Best is trial 6 with value: 0.7692406177520752.\n",
      "[I 2024-05-31 13:48:19,164] Trial 13 finished with value: 0.7654440879821778 and parameters: {'learning_rate': 0.000518015746590367, 'hidden_dim': 99, 'activation': 'leaky_relu', 'optimizer': 'Adam', 'batch_size': 16}. Best is trial 6 with value: 0.7692406177520752.\n",
      "[I 2024-05-31 13:50:29,002] Trial 14 finished with value: 0.6270509719848633 and parameters: {'learning_rate': 5.251119468718e-05, 'hidden_dim': 48, 'activation': 'leaky_relu', 'optimizer': 'Adagrad', 'batch_size': 24}. Best is trial 6 with value: 0.7692406177520752.\n",
      "[I 2024-05-31 13:56:04,838] Trial 15 finished with value: 0.7645234107971192 and parameters: {'learning_rate': 0.0032403678534199914, 'hidden_dim': 75, 'activation': 'relu', 'optimizer': 'RMSprop', 'batch_size': 8}. Best is trial 6 with value: 0.7692406177520752.\n",
      "[I 2024-05-31 13:57:26,236] Trial 16 finished with value: 0.7688951253890991 and parameters: {'learning_rate': 0.005277062472027914, 'hidden_dim': 111, 'activation': 'leaky_relu', 'optimizer': 'Adam', 'batch_size': 40}. Best is trial 6 with value: 0.7692406177520752.\n",
      "[I 2024-05-31 13:58:28,793] Trial 17 finished with value: 0.7653290748596191 and parameters: {'learning_rate': 0.0004383407097420413, 'hidden_dim': 108, 'activation': 'leaky_relu', 'optimizer': 'Adam', 'batch_size': 56}. Best is trial 6 with value: 0.7692406177520752.\n",
      "[I 2024-05-31 13:59:54,724] Trial 18 finished with value: 0.7567003726959228 and parameters: {'learning_rate': 1.8256341149609175e-05, 'hidden_dim': 177, 'activation': 'relu', 'optimizer': 'Adam', 'batch_size': 40}. Best is trial 6 with value: 0.7692406177520752.\n",
      "[I 2024-05-31 14:01:33,865] Trial 19 finished with value: 0.7408268809318542 and parameters: {'learning_rate': 0.004284176655421673, 'hidden_dim': 141, 'activation': 'sigmoid', 'optimizer': 'Adagrad', 'batch_size': 32}. Best is trial 6 with value: 0.7692406177520752.\n",
      "[I 2024-05-31 14:02:19,493] Trial 20 finished with value: 0.7652145266532898 and parameters: {'learning_rate': 0.0006921461295886438, 'hidden_dim': 129, 'activation': 'leaky_relu', 'optimizer': 'RMSprop', 'batch_size': 80}. Best is trial 6 with value: 0.7692406177520752.\n",
      "[I 2024-05-31 14:05:20,608] Trial 21 finished with value: 0.767630684375763 and parameters: {'learning_rate': 0.004320922446336213, 'hidden_dim': 69, 'activation': 'leaky_relu', 'optimizer': 'Adam', 'batch_size': 16}. Best is trial 6 with value: 0.7692406177520752.\n",
      "[I 2024-05-31 14:08:24,852] Trial 22 finished with value: 0.769356083869934 and parameters: {'learning_rate': 0.0041715020342222835, 'hidden_dim': 90, 'activation': 'leaky_relu', 'optimizer': 'Adam', 'batch_size': 16}. Best is trial 22 with value: 0.769356083869934.\n",
      "[I 2024-05-31 14:10:01,914] Trial 23 finished with value: 0.7692397475242615 and parameters: {'learning_rate': 0.008654578204247207, 'hidden_dim': 93, 'activation': 'leaky_relu', 'optimizer': 'Adam', 'batch_size': 32}. Best is trial 22 with value: 0.769356083869934.\n",
      "[I 2024-05-31 14:11:40,336] Trial 24 finished with value: 0.7672856092453003 and parameters: {'learning_rate': 0.002224948973486883, 'hidden_dim': 99, 'activation': 'leaky_relu', 'optimizer': 'Adam', 'batch_size': 32}. Best is trial 22 with value: 0.769356083869934.\n",
      "[I 2024-05-31 14:14:43,496] Trial 25 finished with value: 0.7653287291526795 and parameters: {'learning_rate': 0.008897595759540803, 'hidden_dim': 84, 'activation': 'leaky_relu', 'optimizer': 'Adam', 'batch_size': 16}. Best is trial 22 with value: 0.769356083869934.\n",
      "[I 2024-05-31 14:16:51,638] Trial 26 finished with value: 0.7650992393493652 and parameters: {'learning_rate': 0.00022842646562086532, 'hidden_dim': 90, 'activation': 'leaky_relu', 'optimizer': 'Adam', 'batch_size': 24}. Best is trial 22 with value: 0.769356083869934.\n",
      "[I 2024-05-31 14:18:31,656] Trial 27 finished with value: 0.7677454471588134 and parameters: {'learning_rate': 0.0007245777505433752, 'hidden_dim': 129, 'activation': 'leaky_relu', 'optimizer': 'Adam', 'batch_size': 32}. Best is trial 22 with value: 0.769356083869934.\n",
      "[I 2024-05-31 14:21:31,335] Trial 28 finished with value: 0.7659046411514282 and parameters: {'learning_rate': 0.002646483926185728, 'hidden_dim': 102, 'activation': 'relu', 'optimizer': 'RMSprop', 'batch_size': 16}. Best is trial 22 with value: 0.769356083869934.\n",
      "[I 2024-05-31 14:27:04,895] Trial 29 finished with value: 0.5036235809326172 and parameters: {'learning_rate': 2.8943720169460785e-06, 'hidden_dim': 60, 'activation': 'sigmoid', 'optimizer': 'Adagrad', 'batch_size': 8}. Best is trial 22 with value: 0.769356083869934.\n",
      "[I 2024-05-31 14:29:22,735] Trial 30 finished with value: 0.7515247941017151 and parameters: {'learning_rate': 9.495829056568273e-06, 'hidden_dim': 81, 'activation': 'leaky_relu', 'optimizer': 'Adam', 'batch_size': 24}. Best is trial 22 with value: 0.769356083869934.\n",
      "[I 2024-05-31 14:30:44,382] Trial 31 finished with value: 0.7668240427970886 and parameters: {'learning_rate': 0.00543251123601002, 'hidden_dim': 114, 'activation': 'leaky_relu', 'optimizer': 'Adam', 'batch_size': 40}. Best is trial 22 with value: 0.769356083869934.\n",
      "[I 2024-05-31 14:31:54,807] Trial 32 finished with value: 0.7671697854995727 and parameters: {'learning_rate': 0.006386511259836378, 'hidden_dim': 108, 'activation': 'leaky_relu', 'optimizer': 'Adam', 'batch_size': 48}. Best is trial 22 with value: 0.769356083869934.\n",
      "[I 2024-05-31 14:32:57,416] Trial 33 finished with value: 0.7653298616409302 and parameters: {'learning_rate': 0.0013678996442962105, 'hidden_dim': 141, 'activation': 'leaky_relu', 'optimizer': 'Adam', 'batch_size': 56}. Best is trial 22 with value: 0.769356083869934.\n",
      "[I 2024-05-31 14:34:00,404] Trial 34 finished with value: 0.7512947678565979 and parameters: {'learning_rate': 0.003024368081461054, 'hidden_dim': 165, 'activation': 'leaky_relu', 'optimizer': 'SGD', 'batch_size': 56}. Best is trial 22 with value: 0.769356083869934.\n",
      "[I 2024-05-31 14:35:43,776] Trial 35 finished with value: 0.7629130244255066 and parameters: {'learning_rate': 9.455971089547033e-05, 'hidden_dim': 120, 'activation': 'leaky_relu', 'optimizer': 'Adam', 'batch_size': 32}. Best is trial 22 with value: 0.769356083869934.\n",
      "[I 2024-05-31 14:37:08,136] Trial 36 finished with value: 0.7683204174041748 and parameters: {'learning_rate': 0.005281564028555746, 'hidden_dim': 93, 'activation': 'sigmoid', 'optimizer': 'Adam', 'batch_size': 40}. Best is trial 22 with value: 0.769356083869934.\n",
      "[I 2024-05-31 14:40:09,485] Trial 37 finished with value: 0.7552060723304749 and parameters: {'learning_rate': 0.001756750309979301, 'hidden_dim': 129, 'activation': 'leaky_relu', 'optimizer': 'SGD', 'batch_size': 16}. Best is trial 22 with value: 0.769356083869934.\n",
      "[I 2024-05-31 14:46:13,084] Trial 38 finished with value: 0.7657898902893067 and parameters: {'learning_rate': 0.0011140801287596069, 'hidden_dim': 111, 'activation': 'leaky_relu', 'optimizer': 'Adam', 'batch_size': 8}. Best is trial 22 with value: 0.769356083869934.\n",
      "[I 2024-05-31 14:47:10,049] Trial 39 finished with value: 0.7654450058937072 and parameters: {'learning_rate': 0.00034027788327394324, 'hidden_dim': 150, 'activation': 'relu', 'optimizer': 'Adam', 'batch_size': 64}. Best is trial 22 with value: 0.769356083869934.\n",
      "[I 2024-05-31 14:48:20,744] Trial 40 finished with value: 0.7267926335334778 and parameters: {'learning_rate': 0.002920557575900829, 'hidden_dim': 81, 'activation': 'sigmoid', 'optimizer': 'SGD', 'batch_size': 48}. Best is trial 22 with value: 0.769356083869934.\n",
      "[I 2024-05-31 14:49:43,241] Trial 41 finished with value: 0.7686656355857849 and parameters: {'learning_rate': 0.005939488323768202, 'hidden_dim': 93, 'activation': 'sigmoid', 'optimizer': 'Adam', 'batch_size': 40}. Best is trial 22 with value: 0.769356083869934.\n",
      "[I 2024-05-31 14:51:05,848] Trial 42 finished with value: 0.7670551180839539 and parameters: {'learning_rate': 0.006834843562917864, 'hidden_dim': 93, 'activation': 'sigmoid', 'optimizer': 'Adam', 'batch_size': 40}. Best is trial 22 with value: 0.769356083869934.\n",
      "[I 2024-05-31 14:52:49,056] Trial 43 finished with value: 0.768090796470642 and parameters: {'learning_rate': 0.00418325700048294, 'hidden_dim': 102, 'activation': 'sigmoid', 'optimizer': 'Adam', 'batch_size': 32}. Best is trial 22 with value: 0.769356083869934.\n",
      "[I 2024-05-31 14:53:59,450] Trial 44 finished with value: 0.7679744720458984 and parameters: {'learning_rate': 0.007340802128306634, 'hidden_dim': 60, 'activation': 'sigmoid', 'optimizer': 'Adam', 'batch_size': 48}. Best is trial 22 with value: 0.769356083869934.\n",
      "[I 2024-05-31 14:56:10,698] Trial 45 finished with value: 0.7633733868598938 and parameters: {'learning_rate': 0.0019293817845774878, 'hidden_dim': 75, 'activation': 'sigmoid', 'optimizer': 'Adam', 'batch_size': 24}. Best is trial 22 with value: 0.769356083869934.\n",
      "[I 2024-05-31 14:57:32,942] Trial 46 finished with value: 0.767744779586792 and parameters: {'learning_rate': 0.0036106303726851753, 'hidden_dim': 135, 'activation': 'leaky_relu', 'optimizer': 'RMSprop', 'batch_size': 40}. Best is trial 22 with value: 0.769356083869934.\n",
      "[I 2024-05-31 14:59:09,311] Trial 47 finished with value: 0.7588862180709839 and parameters: {'learning_rate': 0.009556448872830619, 'hidden_dim': 120, 'activation': 'leaky_relu', 'optimizer': 'Adagrad', 'batch_size': 32}. Best is trial 22 with value: 0.769356083869934.\n",
      "[I 2024-05-31 15:01:20,211] Trial 48 finished with value: 0.7655594706535339 and parameters: {'learning_rate': 0.0007733724628591145, 'hidden_dim': 87, 'activation': 'leaky_relu', 'optimizer': 'Adam', 'batch_size': 24}. Best is trial 22 with value: 0.769356083869934.\n",
      "[I 2024-05-31 15:04:23,709] Trial 49 finished with value: 0.7644094586372375 and parameters: {'learning_rate': 0.001106445850883105, 'hidden_dim': 69, 'activation': 'relu', 'optimizer': 'Adam', 'batch_size': 16}. Best is trial 22 with value: 0.769356083869934.\n"
     ]
    }
   ],
   "source": [
    "n_trials=50\n",
    "shallow_model_scores=pd.DataFrame(np.zeros(shape=(n_trials, 5)), \n",
    "                                  columns=[f'Fold{i}' for i in range(1,6)])\n",
    "\n",
    "def shallow_model_trial(trial):\n",
    "    learning_rate = trial.suggest_float(\"learning_rate\", 0.000001, 0.01, log=True)\n",
    "    hidden_dim = trial.suggest_int(\"hidden_dim\", 45, 210, step=3)\n",
    "    activation = trial.suggest_categorical(\"activation\", [\"relu\", \"leaky_relu\", \"sigmoid\"])\n",
    "    optimizer = trial.suggest_categorical(\"optimizer\", [\"SGD\", \"Adam\", \"RMSprop\", \"Adagrad\"])\n",
    "    batch_size = trial.suggest_int(\"batch_size\", 8, 80, step=8)\n",
    "\n",
    "    model = create_shallow_model(activation=activation, hidden_dim=hidden_dim)\n",
    "\n",
    "    if optimizer=='SGD':\n",
    "        optmzr = SGD(learning_rate=learning_rate)\n",
    "    elif optimizer=='RMSprop':\n",
    "        optmzr = RMSprop(learning_rate=learning_rate)\n",
    "    elif optimizer=='Adagrad':\n",
    "        optmzr = Adagrad(learning_rate=learning_rate)\n",
    "    else:\n",
    "        optmzr = Adam(learning_rate=learning_rate, beta_1=0.9, beta_2=0.999)\n",
    "    \n",
    "    model.compile(loss='binary_crossentropy',\n",
    "                  optimizer=optmzr,\n",
    "                  metrics=['accuracy'])\n",
    "    \n",
    "    model.save_weights('model_weights/initial.h5')\n",
    "\n",
    "    for fold_number in range(1,6):\n",
    "        model.load_weights('model_weights/initial.h5')\n",
    "        checkpoint = ModelCheckpoint(filepath=f'model_weights/shallow_trial{trial.number}_fold{fold_number}.h5', \n",
    "                                     save_weights_only=True, \n",
    "                                     monitor='val_accuracy', \n",
    "                                     mode='max', \n",
    "                                     save_best_only=True)\n",
    "        hist = model.fit(X[train_indices[fold_number], :], y[train_indices[fold_number]], \n",
    "                         validation_data=(X[validation_indices[fold_number], :], y[validation_indices[fold_number]]), \n",
    "                         epochs=50, \n",
    "                         batch_size=batch_size, \n",
    "                         shuffle=True, verbose=0, \n",
    "                         callbacks=[checkpoint])\n",
    "        shallow_model_scores.at[trial.number, f'Fold{fold_number}'] = max(hist.history['val_accuracy'])\n",
    "\n",
    "    os.remove('model_weights/initial.h5')\n",
    "\n",
    "    return shallow_model_scores.loc[trial.number, :].mean()\n",
    "\n",
    "\n",
    "study = optuna.create_study(direction=\"maximize\")\n",
    "study.optimize(shallow_model_trial, n_trials=n_trials, show_progress_bar=True)"
   ]
  },
  {
   "cell_type": "markdown",
   "id": "48441a0e-b4bc-4a51-9b60-5f6343b429bf",
   "metadata": {},
   "source": [
    "Here's how the best validation accuracies look after the cell is done running."
   ]
  },
  {
   "cell_type": "code",
   "execution_count": 99,
   "id": "33636223-ed6b-4157-a750-a32500ed6735",
   "metadata": {},
   "outputs": [
    {
     "data": {
      "text/html": [
       "<div>\n",
       "<style scoped>\n",
       "    .dataframe tbody tr th:only-of-type {\n",
       "        vertical-align: middle;\n",
       "    }\n",
       "\n",
       "    .dataframe tbody tr th {\n",
       "        vertical-align: top;\n",
       "    }\n",
       "\n",
       "    .dataframe thead th {\n",
       "        text-align: right;\n",
       "    }\n",
       "</style>\n",
       "<table border=\"1\" class=\"dataframe\">\n",
       "  <thead>\n",
       "    <tr style=\"text-align: right;\">\n",
       "      <th></th>\n",
       "      <th>Fold1</th>\n",
       "      <th>Fold2</th>\n",
       "      <th>Fold3</th>\n",
       "      <th>Fold4</th>\n",
       "      <th>Fold5</th>\n",
       "    </tr>\n",
       "  </thead>\n",
       "  <tbody>\n",
       "    <tr>\n",
       "      <th>0</th>\n",
       "      <td>0.584244</td>\n",
       "      <td>0.577343</td>\n",
       "      <td>0.590569</td>\n",
       "      <td>0.569620</td>\n",
       "      <td>0.578251</td>\n",
       "    </tr>\n",
       "    <tr>\n",
       "      <th>1</th>\n",
       "      <td>0.510063</td>\n",
       "      <td>0.509488</td>\n",
       "      <td>0.508338</td>\n",
       "      <td>0.510357</td>\n",
       "      <td>0.510357</td>\n",
       "    </tr>\n",
       "    <tr>\n",
       "      <th>2</th>\n",
       "      <td>0.765382</td>\n",
       "      <td>0.762507</td>\n",
       "      <td>0.749281</td>\n",
       "      <td>0.772727</td>\n",
       "      <td>0.749712</td>\n",
       "    </tr>\n",
       "    <tr>\n",
       "      <th>3</th>\n",
       "      <td>0.769408</td>\n",
       "      <td>0.760207</td>\n",
       "      <td>0.755032</td>\n",
       "      <td>0.777330</td>\n",
       "      <td>0.760069</td>\n",
       "    </tr>\n",
       "    <tr>\n",
       "      <th>4</th>\n",
       "      <td>0.775733</td>\n",
       "      <td>0.759632</td>\n",
       "      <td>0.757907</td>\n",
       "      <td>0.775029</td>\n",
       "      <td>0.769275</td>\n",
       "    </tr>\n",
       "    <tr>\n",
       "      <th>5</th>\n",
       "      <td>0.741806</td>\n",
       "      <td>0.727430</td>\n",
       "      <td>0.728005</td>\n",
       "      <td>0.747986</td>\n",
       "      <td>0.738205</td>\n",
       "    </tr>\n",
       "    <tr>\n",
       "      <th>6</th>\n",
       "      <td>0.776308</td>\n",
       "      <td>0.759632</td>\n",
       "      <td>0.763082</td>\n",
       "      <td>0.775604</td>\n",
       "      <td>0.771577</td>\n",
       "    </tr>\n",
       "    <tr>\n",
       "      <th>7</th>\n",
       "      <td>0.772283</td>\n",
       "      <td>0.761357</td>\n",
       "      <td>0.759057</td>\n",
       "      <td>0.771001</td>\n",
       "      <td>0.767549</td>\n",
       "    </tr>\n",
       "    <tr>\n",
       "      <th>8</th>\n",
       "      <td>0.635998</td>\n",
       "      <td>0.607246</td>\n",
       "      <td>0.649799</td>\n",
       "      <td>0.653049</td>\n",
       "      <td>0.621404</td>\n",
       "    </tr>\n",
       "    <tr>\n",
       "      <th>9</th>\n",
       "      <td>0.769983</td>\n",
       "      <td>0.757332</td>\n",
       "      <td>0.748131</td>\n",
       "      <td>0.770426</td>\n",
       "      <td>0.755466</td>\n",
       "    </tr>\n",
       "    <tr>\n",
       "      <th>10</th>\n",
       "      <td>0.746406</td>\n",
       "      <td>0.722829</td>\n",
       "      <td>0.730305</td>\n",
       "      <td>0.747986</td>\n",
       "      <td>0.733602</td>\n",
       "    </tr>\n",
       "    <tr>\n",
       "      <th>11</th>\n",
       "      <td>0.774008</td>\n",
       "      <td>0.756757</td>\n",
       "      <td>0.746406</td>\n",
       "      <td>0.761220</td>\n",
       "      <td>0.739931</td>\n",
       "    </tr>\n",
       "    <tr>\n",
       "      <th>12</th>\n",
       "      <td>0.770558</td>\n",
       "      <td>0.760207</td>\n",
       "      <td>0.760207</td>\n",
       "      <td>0.771577</td>\n",
       "      <td>0.765247</td>\n",
       "    </tr>\n",
       "    <tr>\n",
       "      <th>13</th>\n",
       "      <td>0.773433</td>\n",
       "      <td>0.761357</td>\n",
       "      <td>0.756182</td>\n",
       "      <td>0.772727</td>\n",
       "      <td>0.763521</td>\n",
       "    </tr>\n",
       "    <tr>\n",
       "      <th>14</th>\n",
       "      <td>0.673375</td>\n",
       "      <td>0.624497</td>\n",
       "      <td>0.629097</td>\n",
       "      <td>0.616226</td>\n",
       "      <td>0.592060</td>\n",
       "    </tr>\n",
       "    <tr>\n",
       "      <th>15</th>\n",
       "      <td>0.769983</td>\n",
       "      <td>0.760782</td>\n",
       "      <td>0.760782</td>\n",
       "      <td>0.775604</td>\n",
       "      <td>0.755466</td>\n",
       "    </tr>\n",
       "    <tr>\n",
       "      <th>16</th>\n",
       "      <td>0.775733</td>\n",
       "      <td>0.763657</td>\n",
       "      <td>0.761932</td>\n",
       "      <td>0.773878</td>\n",
       "      <td>0.769275</td>\n",
       "    </tr>\n",
       "    <tr>\n",
       "      <th>17</th>\n",
       "      <td>0.774583</td>\n",
       "      <td>0.763657</td>\n",
       "      <td>0.752156</td>\n",
       "      <td>0.773878</td>\n",
       "      <td>0.762371</td>\n",
       "    </tr>\n",
       "    <tr>\n",
       "      <th>18</th>\n",
       "      <td>0.766532</td>\n",
       "      <td>0.758482</td>\n",
       "      <td>0.748706</td>\n",
       "      <td>0.764672</td>\n",
       "      <td>0.745109</td>\n",
       "    </tr>\n",
       "    <tr>\n",
       "      <th>19</th>\n",
       "      <td>0.744106</td>\n",
       "      <td>0.732030</td>\n",
       "      <td>0.738355</td>\n",
       "      <td>0.751438</td>\n",
       "      <td>0.738205</td>\n",
       "    </tr>\n",
       "    <tr>\n",
       "      <th>20</th>\n",
       "      <td>0.768833</td>\n",
       "      <td>0.760782</td>\n",
       "      <td>0.756182</td>\n",
       "      <td>0.775029</td>\n",
       "      <td>0.765247</td>\n",
       "    </tr>\n",
       "    <tr>\n",
       "      <th>21</th>\n",
       "      <td>0.769983</td>\n",
       "      <td>0.757332</td>\n",
       "      <td>0.761932</td>\n",
       "      <td>0.776179</td>\n",
       "      <td>0.772727</td>\n",
       "    </tr>\n",
       "    <tr>\n",
       "      <th>22</th>\n",
       "      <td>0.773433</td>\n",
       "      <td>0.760207</td>\n",
       "      <td>0.761932</td>\n",
       "      <td>0.775604</td>\n",
       "      <td>0.775604</td>\n",
       "    </tr>\n",
       "    <tr>\n",
       "      <th>23</th>\n",
       "      <td>0.780334</td>\n",
       "      <td>0.763082</td>\n",
       "      <td>0.763082</td>\n",
       "      <td>0.775604</td>\n",
       "      <td>0.764097</td>\n",
       "    </tr>\n",
       "    <tr>\n",
       "      <th>24</th>\n",
       "      <td>0.774008</td>\n",
       "      <td>0.756757</td>\n",
       "      <td>0.757332</td>\n",
       "      <td>0.777330</td>\n",
       "      <td>0.771001</td>\n",
       "    </tr>\n",
       "    <tr>\n",
       "      <th>25</th>\n",
       "      <td>0.772283</td>\n",
       "      <td>0.760782</td>\n",
       "      <td>0.760207</td>\n",
       "      <td>0.768700</td>\n",
       "      <td>0.764672</td>\n",
       "    </tr>\n",
       "    <tr>\n",
       "      <th>26</th>\n",
       "      <td>0.772858</td>\n",
       "      <td>0.763082</td>\n",
       "      <td>0.751581</td>\n",
       "      <td>0.775604</td>\n",
       "      <td>0.762371</td>\n",
       "    </tr>\n",
       "    <tr>\n",
       "      <th>27</th>\n",
       "      <td>0.776308</td>\n",
       "      <td>0.759057</td>\n",
       "      <td>0.756757</td>\n",
       "      <td>0.781358</td>\n",
       "      <td>0.765247</td>\n",
       "    </tr>\n",
       "    <tr>\n",
       "      <th>28</th>\n",
       "      <td>0.775158</td>\n",
       "      <td>0.754457</td>\n",
       "      <td>0.759057</td>\n",
       "      <td>0.776755</td>\n",
       "      <td>0.764097</td>\n",
       "    </tr>\n",
       "    <tr>\n",
       "      <th>29</th>\n",
       "      <td>0.503738</td>\n",
       "      <td>0.503738</td>\n",
       "      <td>0.503738</td>\n",
       "      <td>0.503452</td>\n",
       "      <td>0.503452</td>\n",
       "    </tr>\n",
       "    <tr>\n",
       "      <th>30</th>\n",
       "      <td>0.759632</td>\n",
       "      <td>0.745256</td>\n",
       "      <td>0.744681</td>\n",
       "      <td>0.757768</td>\n",
       "      <td>0.750288</td>\n",
       "    </tr>\n",
       "    <tr>\n",
       "      <th>31</th>\n",
       "      <td>0.780909</td>\n",
       "      <td>0.762507</td>\n",
       "      <td>0.755607</td>\n",
       "      <td>0.769850</td>\n",
       "      <td>0.765247</td>\n",
       "    </tr>\n",
       "    <tr>\n",
       "      <th>32</th>\n",
       "      <td>0.772283</td>\n",
       "      <td>0.757332</td>\n",
       "      <td>0.764807</td>\n",
       "      <td>0.772152</td>\n",
       "      <td>0.769275</td>\n",
       "    </tr>\n",
       "    <tr>\n",
       "      <th>33</th>\n",
       "      <td>0.769408</td>\n",
       "      <td>0.759057</td>\n",
       "      <td>0.755032</td>\n",
       "      <td>0.775604</td>\n",
       "      <td>0.767549</td>\n",
       "    </tr>\n",
       "    <tr>\n",
       "      <th>34</th>\n",
       "      <td>0.755607</td>\n",
       "      <td>0.752156</td>\n",
       "      <td>0.740656</td>\n",
       "      <td>0.765247</td>\n",
       "      <td>0.742808</td>\n",
       "    </tr>\n",
       "    <tr>\n",
       "      <th>35</th>\n",
       "      <td>0.774008</td>\n",
       "      <td>0.759057</td>\n",
       "      <td>0.752731</td>\n",
       "      <td>0.775029</td>\n",
       "      <td>0.753740</td>\n",
       "    </tr>\n",
       "    <tr>\n",
       "      <th>36</th>\n",
       "      <td>0.771133</td>\n",
       "      <td>0.764807</td>\n",
       "      <td>0.759632</td>\n",
       "      <td>0.778481</td>\n",
       "      <td>0.767549</td>\n",
       "    </tr>\n",
       "    <tr>\n",
       "      <th>37</th>\n",
       "      <td>0.761357</td>\n",
       "      <td>0.752156</td>\n",
       "      <td>0.745831</td>\n",
       "      <td>0.768700</td>\n",
       "      <td>0.747986</td>\n",
       "    </tr>\n",
       "    <tr>\n",
       "      <th>38</th>\n",
       "      <td>0.772283</td>\n",
       "      <td>0.757907</td>\n",
       "      <td>0.755607</td>\n",
       "      <td>0.775029</td>\n",
       "      <td>0.768124</td>\n",
       "    </tr>\n",
       "    <tr>\n",
       "      <th>39</th>\n",
       "      <td>0.773433</td>\n",
       "      <td>0.756757</td>\n",
       "      <td>0.752731</td>\n",
       "      <td>0.777906</td>\n",
       "      <td>0.766398</td>\n",
       "    </tr>\n",
       "    <tr>\n",
       "      <th>40</th>\n",
       "      <td>0.723979</td>\n",
       "      <td>0.722254</td>\n",
       "      <td>0.725704</td>\n",
       "      <td>0.732451</td>\n",
       "      <td>0.729574</td>\n",
       "    </tr>\n",
       "    <tr>\n",
       "      <th>41</th>\n",
       "      <td>0.771133</td>\n",
       "      <td>0.766532</td>\n",
       "      <td>0.757907</td>\n",
       "      <td>0.781358</td>\n",
       "      <td>0.766398</td>\n",
       "    </tr>\n",
       "    <tr>\n",
       "      <th>42</th>\n",
       "      <td>0.774008</td>\n",
       "      <td>0.761932</td>\n",
       "      <td>0.755032</td>\n",
       "      <td>0.777906</td>\n",
       "      <td>0.766398</td>\n",
       "    </tr>\n",
       "    <tr>\n",
       "      <th>43</th>\n",
       "      <td>0.774008</td>\n",
       "      <td>0.760207</td>\n",
       "      <td>0.756757</td>\n",
       "      <td>0.782509</td>\n",
       "      <td>0.766974</td>\n",
       "    </tr>\n",
       "    <tr>\n",
       "      <th>44</th>\n",
       "      <td>0.778033</td>\n",
       "      <td>0.762507</td>\n",
       "      <td>0.761357</td>\n",
       "      <td>0.772152</td>\n",
       "      <td>0.765823</td>\n",
       "    </tr>\n",
       "    <tr>\n",
       "      <th>45</th>\n",
       "      <td>0.767108</td>\n",
       "      <td>0.763657</td>\n",
       "      <td>0.754457</td>\n",
       "      <td>0.776179</td>\n",
       "      <td>0.755466</td>\n",
       "    </tr>\n",
       "    <tr>\n",
       "      <th>46</th>\n",
       "      <td>0.774583</td>\n",
       "      <td>0.762507</td>\n",
       "      <td>0.760782</td>\n",
       "      <td>0.771577</td>\n",
       "      <td>0.769275</td>\n",
       "    </tr>\n",
       "    <tr>\n",
       "      <th>47</th>\n",
       "      <td>0.771708</td>\n",
       "      <td>0.761357</td>\n",
       "      <td>0.745831</td>\n",
       "      <td>0.767549</td>\n",
       "      <td>0.747986</td>\n",
       "    </tr>\n",
       "    <tr>\n",
       "      <th>48</th>\n",
       "      <td>0.769408</td>\n",
       "      <td>0.764807</td>\n",
       "      <td>0.753882</td>\n",
       "      <td>0.773878</td>\n",
       "      <td>0.765823</td>\n",
       "    </tr>\n",
       "    <tr>\n",
       "      <th>49</th>\n",
       "      <td>0.767683</td>\n",
       "      <td>0.757332</td>\n",
       "      <td>0.756757</td>\n",
       "      <td>0.774453</td>\n",
       "      <td>0.765823</td>\n",
       "    </tr>\n",
       "  </tbody>\n",
       "</table>\n",
       "</div>"
      ],
      "text/plain": [
       "       Fold1     Fold2     Fold3     Fold4     Fold5\n",
       "0   0.584244  0.577343  0.590569  0.569620  0.578251\n",
       "1   0.510063  0.509488  0.508338  0.510357  0.510357\n",
       "2   0.765382  0.762507  0.749281  0.772727  0.749712\n",
       "3   0.769408  0.760207  0.755032  0.777330  0.760069\n",
       "4   0.775733  0.759632  0.757907  0.775029  0.769275\n",
       "5   0.741806  0.727430  0.728005  0.747986  0.738205\n",
       "6   0.776308  0.759632  0.763082  0.775604  0.771577\n",
       "7   0.772283  0.761357  0.759057  0.771001  0.767549\n",
       "8   0.635998  0.607246  0.649799  0.653049  0.621404\n",
       "9   0.769983  0.757332  0.748131  0.770426  0.755466\n",
       "10  0.746406  0.722829  0.730305  0.747986  0.733602\n",
       "11  0.774008  0.756757  0.746406  0.761220  0.739931\n",
       "12  0.770558  0.760207  0.760207  0.771577  0.765247\n",
       "13  0.773433  0.761357  0.756182  0.772727  0.763521\n",
       "14  0.673375  0.624497  0.629097  0.616226  0.592060\n",
       "15  0.769983  0.760782  0.760782  0.775604  0.755466\n",
       "16  0.775733  0.763657  0.761932  0.773878  0.769275\n",
       "17  0.774583  0.763657  0.752156  0.773878  0.762371\n",
       "18  0.766532  0.758482  0.748706  0.764672  0.745109\n",
       "19  0.744106  0.732030  0.738355  0.751438  0.738205\n",
       "20  0.768833  0.760782  0.756182  0.775029  0.765247\n",
       "21  0.769983  0.757332  0.761932  0.776179  0.772727\n",
       "22  0.773433  0.760207  0.761932  0.775604  0.775604\n",
       "23  0.780334  0.763082  0.763082  0.775604  0.764097\n",
       "24  0.774008  0.756757  0.757332  0.777330  0.771001\n",
       "25  0.772283  0.760782  0.760207  0.768700  0.764672\n",
       "26  0.772858  0.763082  0.751581  0.775604  0.762371\n",
       "27  0.776308  0.759057  0.756757  0.781358  0.765247\n",
       "28  0.775158  0.754457  0.759057  0.776755  0.764097\n",
       "29  0.503738  0.503738  0.503738  0.503452  0.503452\n",
       "30  0.759632  0.745256  0.744681  0.757768  0.750288\n",
       "31  0.780909  0.762507  0.755607  0.769850  0.765247\n",
       "32  0.772283  0.757332  0.764807  0.772152  0.769275\n",
       "33  0.769408  0.759057  0.755032  0.775604  0.767549\n",
       "34  0.755607  0.752156  0.740656  0.765247  0.742808\n",
       "35  0.774008  0.759057  0.752731  0.775029  0.753740\n",
       "36  0.771133  0.764807  0.759632  0.778481  0.767549\n",
       "37  0.761357  0.752156  0.745831  0.768700  0.747986\n",
       "38  0.772283  0.757907  0.755607  0.775029  0.768124\n",
       "39  0.773433  0.756757  0.752731  0.777906  0.766398\n",
       "40  0.723979  0.722254  0.725704  0.732451  0.729574\n",
       "41  0.771133  0.766532  0.757907  0.781358  0.766398\n",
       "42  0.774008  0.761932  0.755032  0.777906  0.766398\n",
       "43  0.774008  0.760207  0.756757  0.782509  0.766974\n",
       "44  0.778033  0.762507  0.761357  0.772152  0.765823\n",
       "45  0.767108  0.763657  0.754457  0.776179  0.755466\n",
       "46  0.774583  0.762507  0.760782  0.771577  0.769275\n",
       "47  0.771708  0.761357  0.745831  0.767549  0.747986\n",
       "48  0.769408  0.764807  0.753882  0.773878  0.765823\n",
       "49  0.767683  0.757332  0.756757  0.774453  0.765823"
      ]
     },
     "execution_count": 99,
     "metadata": {},
     "output_type": "execute_result"
    }
   ],
   "source": [
    "shallow_model_scores"
   ]
  },
  {
   "cell_type": "markdown",
   "id": "40408347-df28-422e-8b26-f31429b89c9e",
   "metadata": {},
   "source": [
    "Saving these results in a separate file."
   ]
  },
  {
   "cell_type": "code",
   "execution_count": 102,
   "id": "346715a6-5a34-4eca-b946-fbd29ca69b64",
   "metadata": {},
   "outputs": [],
   "source": [
    "shallow_model_scores.to_csv('model_scores/shallow_model_scores.csv')"
   ]
  },
  {
   "cell_type": "markdown",
   "id": "43eca4ad-03bf-4616-bbd4-090ce2f3b882",
   "metadata": {},
   "source": [
    "Here, model hyperparameters should have also been saved, but I forgot to do that before killing the kernel. The hyperparameters were extracted separately using the output of the hyperparameter search cell."
   ]
  },
  {
   "cell_type": "markdown",
   "id": "ba960ef6-4c9e-4514-b457-50f9826c4d82",
   "metadata": {
    "jp-MarkdownHeadingCollapsed": true
   },
   "source": [
    "### Deeper model search"
   ]
  },
  {
   "cell_type": "markdown",
   "id": "8d40a66f-a1d7-42ec-851f-f104ab6a8c99",
   "metadata": {},
   "source": [
    "Here, best hyperparameters for deeper models are searched for using 50 optuna trials. In each trial, a learning rate, optimizer, hidden layer size, hidden layer activation function and batch size are chosen. Then, five models with these hyperparameters are trained for 50 epochs on each K-fold. After every epoch, model performance is checked on the validation sets. The weights of the models with the best accuracy on validation sets are stored in separate files. The accuracies on the validation sets achieved with those weights are stored in a separate Pandas Dataframe. The optimizer tries to maximize the average validation accuracy among the 5 K-folds."
   ]
  },
  {
   "cell_type": "markdown",
   "id": "50125730-8403-46e9-9eb3-71bfd56a45bd",
   "metadata": {},
   "source": [
    "Note: this cell can take multiple hours to run."
   ]
  },
  {
   "cell_type": "code",
   "execution_count": 44,
   "id": "86be98b6-a825-4252-8810-847ff18b6523",
   "metadata": {
    "scrolled": true
   },
   "outputs": [
    {
     "name": "stderr",
     "output_type": "stream",
     "text": [
      "[I 2024-05-31 20:34:02,771] A new study created in memory with name: no-name-88d4e8bd-7fc5-4485-bee2-ac0e1346f1d5\n"
     ]
    },
    {
     "data": {
      "application/vnd.jupyter.widget-view+json": {
       "model_id": "e720fdf0524c43f8bdfacd33b504d1f0",
       "version_major": 2,
       "version_minor": 0
      },
      "text/plain": [
       "  0%|          | 0/50 [00:00<?, ?it/s]"
      ]
     },
     "metadata": {},
     "output_type": "display_data"
    },
    {
     "name": "stdout",
     "output_type": "stream",
     "text": [
      "[I 2024-05-31 20:36:26,363] Trial 0 finished with value: 0.6204986691474914 and parameters: {'learning_rate': 3.14310317171781e-05, 'hidden_dim': 81, 'activation': 'relu', 'optimizer': 'SGD', 'batch_size': 24}. Best is trial 0 with value: 0.6204986691474914.\n",
      "[I 2024-05-31 20:37:30,939] Trial 1 finished with value: 0.7554354786872863 and parameters: {'learning_rate': 0.0019426197128611022, 'hidden_dim': 210, 'activation': 'relu', 'optimizer': 'Adagrad', 'batch_size': 72}. Best is trial 1 with value: 0.7554354786872863.\n",
      "[I 2024-05-31 20:38:21,355] Trial 2 finished with value: 0.7347301602363586 and parameters: {'learning_rate': 3.967667588534964e-06, 'hidden_dim': 108, 'activation': 'relu', 'optimizer': 'RMSprop', 'batch_size': 80}. Best is trial 1 with value: 0.7554354786872863.\n",
      "[I 2024-05-31 20:39:28,828] Trial 3 finished with value: 0.48004130721092225 and parameters: {'learning_rate': 2.635517486087582e-05, 'hidden_dim': 90, 'activation': 'leaky_relu', 'optimizer': 'SGD', 'batch_size': 48}. Best is trial 1 with value: 0.7554354786872863.\n",
      "[I 2024-05-31 20:40:34,674] Trial 4 finished with value: 0.7043606758117675 and parameters: {'learning_rate': 0.0003381649368344609, 'hidden_dim': 156, 'activation': 'relu', 'optimizer': 'SGD', 'batch_size': 64}. Best is trial 1 with value: 0.7554354786872863.\n",
      "[I 2024-05-31 20:41:26,487] Trial 5 finished with value: 0.6329233646392822 and parameters: {'learning_rate': 3.3206382118912365e-06, 'hidden_dim': 105, 'activation': 'sigmoid', 'optimizer': 'Adam', 'batch_size': 80}. Best is trial 1 with value: 0.7554354786872863.\n",
      "[I 2024-05-31 20:42:44,184] Trial 6 finished with value: 0.7613026380538941 and parameters: {'learning_rate': 0.003902835836817368, 'hidden_dim': 222, 'activation': 'sigmoid', 'optimizer': 'RMSprop', 'batch_size': 56}. Best is trial 6 with value: 0.7613026380538941.\n",
      "[I 2024-05-31 20:44:40,858] Trial 7 finished with value: 0.6731860399246216 and parameters: {'learning_rate': 0.00010483666027606345, 'hidden_dim': 231, 'activation': 'sigmoid', 'optimizer': 'SGD', 'batch_size': 32}. Best is trial 6 with value: 0.7613026380538941.\n",
      "[I 2024-05-31 20:46:01,672] Trial 8 finished with value: 0.7487635970115661 and parameters: {'learning_rate': 0.001548711590215481, 'hidden_dim': 174, 'activation': 'relu', 'optimizer': 'SGD', 'batch_size': 48}. Best is trial 6 with value: 0.7613026380538941.\n",
      "[I 2024-05-31 20:47:46,581] Trial 9 finished with value: 0.7370303869247437 and parameters: {'learning_rate': 0.006216727084141742, 'hidden_dim': 165, 'activation': 'sigmoid', 'optimizer': 'Adagrad', 'batch_size': 32}. Best is trial 6 with value: 0.7613026380538941.\n",
      "[I 2024-05-31 20:48:46,372] Trial 10 finished with value: 0.7639481782913208 and parameters: {'learning_rate': 0.008558315472860688, 'hidden_dim': 51, 'activation': 'leaky_relu', 'optimizer': 'RMSprop', 'batch_size': 56}. Best is trial 10 with value: 0.7639481782913208.\n",
      "[I 2024-05-31 20:54:33,057] Trial 11 finished with value: 0.7619930148124695 and parameters: {'learning_rate': 0.007879498730053735, 'hidden_dim': 45, 'activation': 'leaky_relu', 'optimizer': 'RMSprop', 'batch_size': 8}. Best is trial 10 with value: 0.7639481782913208.\n",
      "[I 2024-05-31 21:00:21,511] Trial 12 finished with value: 0.7599223375320434 and parameters: {'learning_rate': 0.00966632361397885, 'hidden_dim': 45, 'activation': 'leaky_relu', 'optimizer': 'RMSprop', 'batch_size': 8}. Best is trial 10 with value: 0.7639481782913208.\n",
      "[I 2024-05-31 21:06:12,845] Trial 13 finished with value: 0.7650990605354309 and parameters: {'learning_rate': 0.000527544655407757, 'hidden_dim': 45, 'activation': 'leaky_relu', 'optimizer': 'RMSprop', 'batch_size': 8}. Best is trial 13 with value: 0.7650990605354309.\n",
      "[I 2024-05-31 21:08:20,057] Trial 14 finished with value: 0.7670543313026428 and parameters: {'learning_rate': 0.0004949773083703175, 'hidden_dim': 66, 'activation': 'leaky_relu', 'optimizer': 'RMSprop', 'batch_size': 24}. Best is trial 14 with value: 0.7670543313026428.\n",
      "[I 2024-05-31 21:11:42,121] Trial 15 finished with value: 0.7663642764091492 and parameters: {'learning_rate': 0.0005024262963594589, 'hidden_dim': 126, 'activation': 'leaky_relu', 'optimizer': 'Adam', 'batch_size': 16}. Best is trial 14 with value: 0.7670543313026428.\n",
      "[I 2024-05-31 21:14:08,169] Trial 16 finished with value: 0.7665950179100036 and parameters: {'learning_rate': 0.00032055764616752553, 'hidden_dim': 135, 'activation': 'leaky_relu', 'optimizer': 'Adam', 'batch_size': 24}. Best is trial 14 with value: 0.7670543313026428.\n",
      "[I 2024-05-31 21:16:12,509] Trial 17 finished with value: 0.7644083976745606 and parameters: {'learning_rate': 0.00012466216725165818, 'hidden_dim': 186, 'activation': 'leaky_relu', 'optimizer': 'Adam', 'batch_size': 32}. Best is trial 14 with value: 0.7670543313026428.\n",
      "[I 2024-05-31 21:18:42,146] Trial 18 finished with value: 0.7598075270652771 and parameters: {'learning_rate': 2.819707280324879e-05, 'hidden_dim': 138, 'activation': 'leaky_relu', 'optimizer': 'Adam', 'batch_size': 24}. Best is trial 14 with value: 0.7670543313026428.\n",
      "[I 2024-05-31 21:20:11,035] Trial 19 finished with value: 0.7653294086456299 and parameters: {'learning_rate': 0.00025911982631492836, 'hidden_dim': 72, 'activation': 'leaky_relu', 'optimizer': 'Adam', 'batch_size': 40}. Best is trial 14 with value: 0.7670543313026428.\n",
      "[I 2024-05-31 21:22:35,223] Trial 20 finished with value: 0.7474971055984497 and parameters: {'learning_rate': 0.0011942874570306328, 'hidden_dim': 195, 'activation': 'leaky_relu', 'optimizer': 'Adagrad', 'batch_size': 24}. Best is trial 14 with value: 0.7670543313026428.\n",
      "[I 2024-05-31 21:25:55,292] Trial 21 finished with value: 0.7664804697036743 and parameters: {'learning_rate': 0.0006488840142539711, 'hidden_dim': 132, 'activation': 'leaky_relu', 'optimizer': 'Adam', 'batch_size': 16}. Best is trial 14 with value: 0.7670543313026428.\n",
      "[I 2024-05-31 21:29:18,799] Trial 22 finished with value: 0.7677453041076661 and parameters: {'learning_rate': 0.00022165258589836273, 'hidden_dim': 135, 'activation': 'leaky_relu', 'optimizer': 'Adam', 'batch_size': 16}. Best is trial 22 with value: 0.7677453041076661.\n",
      "[I 2024-05-31 21:32:35,070] Trial 23 finished with value: 0.7645243406295776 and parameters: {'learning_rate': 0.00016106462238691722, 'hidden_dim': 117, 'activation': 'leaky_relu', 'optimizer': 'Adam', 'batch_size': 16}. Best is trial 22 with value: 0.7677453041076661.\n",
      "[I 2024-05-31 21:34:07,282] Trial 24 finished with value: 0.7609574794769287 and parameters: {'learning_rate': 5.0092825054584014e-05, 'hidden_dim': 150, 'activation': 'leaky_relu', 'optimizer': 'Adam', 'batch_size': 40}. Best is trial 22 with value: 0.7677453041076661.\n",
      "[I 2024-05-31 21:36:22,018] Trial 25 finished with value: 0.7631434440612793 and parameters: {'learning_rate': 7.072897242517014e-05, 'hidden_dim': 69, 'activation': 'leaky_relu', 'optimizer': 'Adam', 'batch_size': 24}. Best is trial 22 with value: 0.7677453041076661.\n",
      "[I 2024-05-31 21:39:40,050] Trial 26 finished with value: 0.7573914885520935 and parameters: {'learning_rate': 1.4476986955010877e-05, 'hidden_dim': 93, 'activation': 'leaky_relu', 'optimizer': 'Adam', 'batch_size': 16}. Best is trial 22 with value: 0.7677453041076661.\n",
      "[I 2024-05-31 21:41:27,137] Trial 27 finished with value: 0.7333498001098633 and parameters: {'learning_rate': 1.130107372090189e-06, 'hidden_dim': 144, 'activation': 'leaky_relu', 'optimizer': 'RMSprop', 'batch_size': 32}. Best is trial 22 with value: 0.7677453041076661.\n",
      "[I 2024-05-31 21:44:28,019] Trial 28 finished with value: 0.5036235809326172 and parameters: {'learning_rate': 0.00021227307614875984, 'hidden_dim': 120, 'activation': 'sigmoid', 'optimizer': 'Adagrad', 'batch_size': 16}. Best is trial 22 with value: 0.7677453041076661.\n",
      "[I 2024-05-31 21:46:39,318] Trial 29 finished with value: 0.7641787052154541 and parameters: {'learning_rate': 0.000956261505102199, 'hidden_dim': 63, 'activation': 'leaky_relu', 'optimizer': 'Adam', 'batch_size': 24}. Best is trial 22 with value: 0.7677453041076661.\n",
      "[I 2024-05-31 21:47:59,971] Trial 30 finished with value: 0.7645236015319824 and parameters: {'learning_rate': 0.0034920846023243158, 'hidden_dim': 99, 'activation': 'relu', 'optimizer': 'RMSprop', 'batch_size': 40}. Best is trial 22 with value: 0.7677453041076661.\n",
      "[I 2024-05-31 21:51:17,311] Trial 31 finished with value: 0.7671703934669495 and parameters: {'learning_rate': 0.0007638668960155185, 'hidden_dim': 132, 'activation': 'leaky_relu', 'optimizer': 'Adam', 'batch_size': 16}. Best is trial 22 with value: 0.7677453041076661.\n",
      "[I 2024-05-31 21:57:46,731] Trial 32 finished with value: 0.7695851802825928 and parameters: {'learning_rate': 0.002434819636314799, 'hidden_dim': 162, 'activation': 'leaky_relu', 'optimizer': 'Adam', 'batch_size': 8}. Best is trial 32 with value: 0.7695851802825928.\n",
      "[I 2024-05-31 22:04:22,247] Trial 33 finished with value: 0.7679756045341491 and parameters: {'learning_rate': 0.0017930892382649923, 'hidden_dim': 174, 'activation': 'leaky_relu', 'optimizer': 'Adam', 'batch_size': 8}. Best is trial 32 with value: 0.7695851802825928.\n",
      "[I 2024-05-31 22:11:01,129] Trial 34 finished with value: 0.7669396519660949 and parameters: {'learning_rate': 0.002400579057231777, 'hidden_dim': 177, 'activation': 'leaky_relu', 'optimizer': 'Adam', 'batch_size': 8}. Best is trial 32 with value: 0.7695851802825928.\n",
      "[I 2024-05-31 22:17:41,875] Trial 35 finished with value: 0.7648695707321167 and parameters: {'learning_rate': 0.0022620275911448737, 'hidden_dim': 201, 'activation': 'relu', 'optimizer': 'Adam', 'batch_size': 8}. Best is trial 32 with value: 0.7695851802825928.\n",
      "[I 2024-05-31 22:21:06,263] Trial 36 finished with value: 0.7683202862739563 and parameters: {'learning_rate': 0.0010397191660899685, 'hidden_dim': 165, 'activation': 'leaky_relu', 'optimizer': 'Adam', 'batch_size': 16}. Best is trial 32 with value: 0.7695851802825928.\n",
      "[I 2024-05-31 22:27:39,338] Trial 37 finished with value: 0.7646389484405518 and parameters: {'learning_rate': 0.004072373218541846, 'hidden_dim': 159, 'activation': 'relu', 'optimizer': 'Adam', 'batch_size': 8}. Best is trial 32 with value: 0.7695851802825928.\n",
      "[I 2024-05-31 22:30:54,320] Trial 38 finished with value: 0.7585413932800293 and parameters: {'learning_rate': 0.0016736802226539216, 'hidden_dim': 168, 'activation': 'leaky_relu', 'optimizer': 'SGD', 'batch_size': 16}. Best is trial 32 with value: 0.7695851802825928.\n",
      "[I 2024-05-31 22:32:04,532] Trial 39 finished with value: 0.7608426094055176 and parameters: {'learning_rate': 0.0009957824549806425, 'hidden_dim': 216, 'activation': 'sigmoid', 'optimizer': 'Adam', 'batch_size': 72}. Best is trial 32 with value: 0.7695851802825928.\n",
      "[I 2024-05-31 22:38:30,296] Trial 40 finished with value: 0.6881353259086609 and parameters: {'learning_rate': 1.3656690798951773e-05, 'hidden_dim': 180, 'activation': 'leaky_relu', 'optimizer': 'Adagrad', 'batch_size': 8}. Best is trial 32 with value: 0.7695851802825928.\n",
      "[I 2024-05-31 22:41:51,480] Trial 41 finished with value: 0.7688960671424866 and parameters: {'learning_rate': 0.0007902404062158922, 'hidden_dim': 150, 'activation': 'leaky_relu', 'optimizer': 'Adam', 'batch_size': 16}. Best is trial 32 with value: 0.7695851802825928.\n",
      "[I 2024-05-31 22:45:12,933] Trial 42 finished with value: 0.7671703338623047 and parameters: {'learning_rate': 0.0025252964980956613, 'hidden_dim': 153, 'activation': 'leaky_relu', 'optimizer': 'Adam', 'batch_size': 16}. Best is trial 32 with value: 0.7695851802825928.\n",
      "[I 2024-05-31 22:51:46,210] Trial 43 finished with value: 0.766019856929779 and parameters: {'learning_rate': 0.0012548168089397173, 'hidden_dim': 165, 'activation': 'leaky_relu', 'optimizer': 'Adam', 'batch_size': 8}. Best is trial 32 with value: 0.7695851802825928.\n",
      "[I 2024-05-31 22:55:01,693] Trial 44 finished with value: 0.7435873508453369 and parameters: {'learning_rate': 0.00040676932620035554, 'hidden_dim': 189, 'activation': 'leaky_relu', 'optimizer': 'SGD', 'batch_size': 16}. Best is trial 32 with value: 0.7695851802825928.\n",
      "[I 2024-05-31 23:01:29,760] Trial 45 finished with value: 0.7656743049621582 and parameters: {'learning_rate': 0.0017534298535199322, 'hidden_dim': 147, 'activation': 'sigmoid', 'optimizer': 'Adam', 'batch_size': 8}. Best is trial 32 with value: 0.7695851802825928.\n",
      "[I 2024-05-31 23:03:17,689] Trial 46 finished with value: 0.7644094705581665 and parameters: {'learning_rate': 0.005196437422152411, 'hidden_dim': 159, 'activation': 'relu', 'optimizer': 'Adam', 'batch_size': 32}. Best is trial 32 with value: 0.7695851802825928.\n",
      "[I 2024-05-31 23:04:23,438] Trial 47 finished with value: 0.7656742930412292 and parameters: {'learning_rate': 0.0008122772397086885, 'hidden_dim': 111, 'activation': 'leaky_relu', 'optimizer': 'Adam', 'batch_size': 56}. Best is trial 32 with value: 0.7695851802825928.\n",
      "[I 2024-05-31 23:06:45,234] Trial 48 finished with value: 0.7428980112075806 and parameters: {'learning_rate': 0.00031438129469479767, 'hidden_dim': 204, 'activation': 'leaky_relu', 'optimizer': 'SGD', 'batch_size': 24}. Best is trial 32 with value: 0.7695851802825928.\n",
      "[I 2024-05-31 23:13:46,488] Trial 49 finished with value: 0.7670548558235168 and parameters: {'learning_rate': 0.003353627349551664, 'hidden_dim': 237, 'activation': 'leaky_relu', 'optimizer': 'Adam', 'batch_size': 8}. Best is trial 32 with value: 0.7695851802825928.\n"
     ]
    }
   ],
   "source": [
    "n_trials=50\n",
    "deeper_model_scores=pd.DataFrame(np.zeros(shape=(n_trials, 5)), \n",
    "                                  columns=[f'Fold{i}' for i in range(1,6)])\n",
    "\n",
    "def deeper_model_trial(trial):\n",
    "    learning_rate = trial.suggest_float(\"learning_rate\", 0.000001, 0.01, log=True)\n",
    "    hidden_dim = trial.suggest_int(\"hidden_dim\", 45, 240, step=3)\n",
    "    activation = trial.suggest_categorical(\"activation\", [\"relu\", \"leaky_relu\", \"sigmoid\"])\n",
    "    optimizer = trial.suggest_categorical(\"optimizer\", [\"SGD\", \"Adam\", \"RMSprop\", \"Adagrad\"])\n",
    "    batch_size = trial.suggest_int(\"batch_size\", 8, 80, step=8)\n",
    "\n",
    "    model = create_deeper_model(activation=activation, hidden_dim=hidden_dim)\n",
    "\n",
    "    if optimizer=='SGD':\n",
    "        optmzr = SGD(learning_rate=learning_rate)\n",
    "    elif optimizer=='RMSprop':\n",
    "        optmzr = RMSprop(learning_rate=learning_rate)\n",
    "    elif optimizer=='Adagrad':\n",
    "        optmzr = Adagrad(learning_rate=learning_rate)\n",
    "    else:\n",
    "        optmzr = Adam(learning_rate=learning_rate, beta_1=0.9, beta_2=0.999)\n",
    "    \n",
    "    model.compile(loss='binary_crossentropy',\n",
    "                  optimizer=optmzr,\n",
    "                  metrics=['accuracy'])\n",
    "    \n",
    "    model.save_weights('model_weights/initial.h5')\n",
    "\n",
    "    for fold_number in range(1,6):\n",
    "        model.load_weights('model_weights/initial.h5')\n",
    "        checkpoint = ModelCheckpoint(filepath=f'model_weights/deeper_trial{trial.number}_fold{fold_number}.h5', \n",
    "                                     save_weights_only=True, \n",
    "                                     monitor='val_accuracy', \n",
    "                                     mode='max', \n",
    "                                     save_best_only=True)\n",
    "        hist = model.fit(X[train_indices[fold_number], :], y[train_indices[fold_number]], \n",
    "                         validation_data=(X[validation_indices[fold_number], :], y[validation_indices[fold_number]]), \n",
    "                         epochs=50, \n",
    "                         batch_size=batch_size, \n",
    "                         shuffle=True, verbose=0, \n",
    "                         callbacks=[checkpoint])\n",
    "        deeper_model_scores.at[trial.number, f'Fold{fold_number}'] = max(hist.history['val_accuracy'])\n",
    "\n",
    "    os.remove('model_weights/initial.h5')\n",
    "\n",
    "    return deeper_model_scores.loc[trial.number, :].mean()\n",
    "\n",
    "\n",
    "study = optuna.create_study(direction=\"maximize\")\n",
    "study.optimize(deeper_model_trial, n_trials=n_trials, show_progress_bar=True)"
   ]
  },
  {
   "cell_type": "code",
   "execution_count": 47,
   "id": "8a2174ce-bb0a-4271-9bdd-2639dd73eeef",
   "metadata": {},
   "outputs": [
    {
     "data": {
      "text/html": [
       "<div>\n",
       "<style scoped>\n",
       "    .dataframe tbody tr th:only-of-type {\n",
       "        vertical-align: middle;\n",
       "    }\n",
       "\n",
       "    .dataframe tbody tr th {\n",
       "        vertical-align: top;\n",
       "    }\n",
       "\n",
       "    .dataframe thead th {\n",
       "        text-align: right;\n",
       "    }\n",
       "</style>\n",
       "<table border=\"1\" class=\"dataframe\">\n",
       "  <thead>\n",
       "    <tr style=\"text-align: right;\">\n",
       "      <th></th>\n",
       "      <th>Fold1</th>\n",
       "      <th>Fold2</th>\n",
       "      <th>Fold3</th>\n",
       "      <th>Fold4</th>\n",
       "      <th>Fold5</th>\n",
       "    </tr>\n",
       "  </thead>\n",
       "  <tbody>\n",
       "    <tr>\n",
       "      <th>0</th>\n",
       "      <td>0.640598</td>\n",
       "      <td>0.612996</td>\n",
       "      <td>0.612996</td>\n",
       "      <td>0.613349</td>\n",
       "      <td>0.622555</td>\n",
       "    </tr>\n",
       "    <tr>\n",
       "      <th>1</th>\n",
       "      <td>0.763657</td>\n",
       "      <td>0.754457</td>\n",
       "      <td>0.747556</td>\n",
       "      <td>0.765823</td>\n",
       "      <td>0.745685</td>\n",
       "    </tr>\n",
       "    <tr>\n",
       "      <th>2</th>\n",
       "      <td>0.734330</td>\n",
       "      <td>0.733180</td>\n",
       "      <td>0.727430</td>\n",
       "      <td>0.748562</td>\n",
       "      <td>0.730150</td>\n",
       "    </tr>\n",
       "    <tr>\n",
       "      <th>3</th>\n",
       "      <td>0.481886</td>\n",
       "      <td>0.481886</td>\n",
       "      <td>0.477286</td>\n",
       "      <td>0.480437</td>\n",
       "      <td>0.478711</td>\n",
       "    </tr>\n",
       "    <tr>\n",
       "      <th>4</th>\n",
       "      <td>0.717079</td>\n",
       "      <td>0.692352</td>\n",
       "      <td>0.696377</td>\n",
       "      <td>0.707710</td>\n",
       "      <td>0.708285</td>\n",
       "    </tr>\n",
       "    <tr>\n",
       "      <th>5</th>\n",
       "      <td>0.652099</td>\n",
       "      <td>0.615296</td>\n",
       "      <td>0.628522</td>\n",
       "      <td>0.628884</td>\n",
       "      <td>0.639816</td>\n",
       "    </tr>\n",
       "    <tr>\n",
       "      <th>6</th>\n",
       "      <td>0.766532</td>\n",
       "      <td>0.763657</td>\n",
       "      <td>0.749856</td>\n",
       "      <td>0.775029</td>\n",
       "      <td>0.751438</td>\n",
       "    </tr>\n",
       "    <tr>\n",
       "      <th>7</th>\n",
       "      <td>0.671650</td>\n",
       "      <td>0.682001</td>\n",
       "      <td>0.659574</td>\n",
       "      <td>0.683544</td>\n",
       "      <td>0.669160</td>\n",
       "    </tr>\n",
       "    <tr>\n",
       "      <th>8</th>\n",
       "      <td>0.756182</td>\n",
       "      <td>0.747556</td>\n",
       "      <td>0.740656</td>\n",
       "      <td>0.753740</td>\n",
       "      <td>0.745685</td>\n",
       "    </tr>\n",
       "    <tr>\n",
       "      <th>9</th>\n",
       "      <td>0.742381</td>\n",
       "      <td>0.732030</td>\n",
       "      <td>0.731455</td>\n",
       "      <td>0.746260</td>\n",
       "      <td>0.733026</td>\n",
       "    </tr>\n",
       "    <tr>\n",
       "      <th>10</th>\n",
       "      <td>0.772858</td>\n",
       "      <td>0.759632</td>\n",
       "      <td>0.757907</td>\n",
       "      <td>0.771001</td>\n",
       "      <td>0.758343</td>\n",
       "    </tr>\n",
       "    <tr>\n",
       "      <th>11</th>\n",
       "      <td>0.767683</td>\n",
       "      <td>0.760207</td>\n",
       "      <td>0.752731</td>\n",
       "      <td>0.773303</td>\n",
       "      <td>0.756041</td>\n",
       "    </tr>\n",
       "    <tr>\n",
       "      <th>12</th>\n",
       "      <td>0.764807</td>\n",
       "      <td>0.759057</td>\n",
       "      <td>0.751006</td>\n",
       "      <td>0.771001</td>\n",
       "      <td>0.753740</td>\n",
       "    </tr>\n",
       "    <tr>\n",
       "      <th>13</th>\n",
       "      <td>0.770558</td>\n",
       "      <td>0.759632</td>\n",
       "      <td>0.759057</td>\n",
       "      <td>0.772152</td>\n",
       "      <td>0.764097</td>\n",
       "    </tr>\n",
       "    <tr>\n",
       "      <th>14</th>\n",
       "      <td>0.772283</td>\n",
       "      <td>0.765382</td>\n",
       "      <td>0.760207</td>\n",
       "      <td>0.773303</td>\n",
       "      <td>0.764097</td>\n",
       "    </tr>\n",
       "    <tr>\n",
       "      <th>15</th>\n",
       "      <td>0.776308</td>\n",
       "      <td>0.758482</td>\n",
       "      <td>0.759632</td>\n",
       "      <td>0.772152</td>\n",
       "      <td>0.765247</td>\n",
       "    </tr>\n",
       "    <tr>\n",
       "      <th>16</th>\n",
       "      <td>0.769408</td>\n",
       "      <td>0.759632</td>\n",
       "      <td>0.760207</td>\n",
       "      <td>0.777906</td>\n",
       "      <td>0.765823</td>\n",
       "    </tr>\n",
       "    <tr>\n",
       "      <th>17</th>\n",
       "      <td>0.769408</td>\n",
       "      <td>0.761932</td>\n",
       "      <td>0.759632</td>\n",
       "      <td>0.772727</td>\n",
       "      <td>0.758343</td>\n",
       "    </tr>\n",
       "    <tr>\n",
       "      <th>18</th>\n",
       "      <td>0.768258</td>\n",
       "      <td>0.755607</td>\n",
       "      <td>0.748706</td>\n",
       "      <td>0.775604</td>\n",
       "      <td>0.750863</td>\n",
       "    </tr>\n",
       "    <tr>\n",
       "      <th>19</th>\n",
       "      <td>0.770558</td>\n",
       "      <td>0.761932</td>\n",
       "      <td>0.755032</td>\n",
       "      <td>0.779056</td>\n",
       "      <td>0.760069</td>\n",
       "    </tr>\n",
       "    <tr>\n",
       "      <th>20</th>\n",
       "      <td>0.761932</td>\n",
       "      <td>0.748131</td>\n",
       "      <td>0.740081</td>\n",
       "      <td>0.749712</td>\n",
       "      <td>0.737629</td>\n",
       "    </tr>\n",
       "    <tr>\n",
       "      <th>21</th>\n",
       "      <td>0.773433</td>\n",
       "      <td>0.755607</td>\n",
       "      <td>0.755607</td>\n",
       "      <td>0.775604</td>\n",
       "      <td>0.772152</td>\n",
       "    </tr>\n",
       "    <tr>\n",
       "      <th>22</th>\n",
       "      <td>0.776308</td>\n",
       "      <td>0.761932</td>\n",
       "      <td>0.755032</td>\n",
       "      <td>0.775604</td>\n",
       "      <td>0.769850</td>\n",
       "    </tr>\n",
       "    <tr>\n",
       "      <th>23</th>\n",
       "      <td>0.771133</td>\n",
       "      <td>0.757907</td>\n",
       "      <td>0.754457</td>\n",
       "      <td>0.775604</td>\n",
       "      <td>0.763521</td>\n",
       "    </tr>\n",
       "    <tr>\n",
       "      <th>24</th>\n",
       "      <td>0.772858</td>\n",
       "      <td>0.759057</td>\n",
       "      <td>0.747556</td>\n",
       "      <td>0.772152</td>\n",
       "      <td>0.753165</td>\n",
       "    </tr>\n",
       "    <tr>\n",
       "      <th>25</th>\n",
       "      <td>0.770558</td>\n",
       "      <td>0.762507</td>\n",
       "      <td>0.750431</td>\n",
       "      <td>0.779056</td>\n",
       "      <td>0.753165</td>\n",
       "    </tr>\n",
       "    <tr>\n",
       "      <th>26</th>\n",
       "      <td>0.762507</td>\n",
       "      <td>0.758482</td>\n",
       "      <td>0.746981</td>\n",
       "      <td>0.768124</td>\n",
       "      <td>0.750863</td>\n",
       "    </tr>\n",
       "    <tr>\n",
       "      <th>27</th>\n",
       "      <td>0.736630</td>\n",
       "      <td>0.727430</td>\n",
       "      <td>0.726279</td>\n",
       "      <td>0.743383</td>\n",
       "      <td>0.733026</td>\n",
       "    </tr>\n",
       "    <tr>\n",
       "      <th>28</th>\n",
       "      <td>0.503738</td>\n",
       "      <td>0.503738</td>\n",
       "      <td>0.503738</td>\n",
       "      <td>0.503452</td>\n",
       "      <td>0.503452</td>\n",
       "    </tr>\n",
       "    <tr>\n",
       "      <th>29</th>\n",
       "      <td>0.769408</td>\n",
       "      <td>0.760207</td>\n",
       "      <td>0.757332</td>\n",
       "      <td>0.769850</td>\n",
       "      <td>0.764097</td>\n",
       "    </tr>\n",
       "    <tr>\n",
       "      <th>30</th>\n",
       "      <td>0.772283</td>\n",
       "      <td>0.755607</td>\n",
       "      <td>0.761932</td>\n",
       "      <td>0.770426</td>\n",
       "      <td>0.762371</td>\n",
       "    </tr>\n",
       "    <tr>\n",
       "      <th>31</th>\n",
       "      <td>0.773433</td>\n",
       "      <td>0.760207</td>\n",
       "      <td>0.755607</td>\n",
       "      <td>0.776179</td>\n",
       "      <td>0.770426</td>\n",
       "    </tr>\n",
       "    <tr>\n",
       "      <th>32</th>\n",
       "      <td>0.781484</td>\n",
       "      <td>0.760782</td>\n",
       "      <td>0.762507</td>\n",
       "      <td>0.775604</td>\n",
       "      <td>0.767549</td>\n",
       "    </tr>\n",
       "    <tr>\n",
       "      <th>33</th>\n",
       "      <td>0.776308</td>\n",
       "      <td>0.757907</td>\n",
       "      <td>0.757907</td>\n",
       "      <td>0.776755</td>\n",
       "      <td>0.771001</td>\n",
       "    </tr>\n",
       "    <tr>\n",
       "      <th>34</th>\n",
       "      <td>0.778033</td>\n",
       "      <td>0.757907</td>\n",
       "      <td>0.758482</td>\n",
       "      <td>0.772727</td>\n",
       "      <td>0.767549</td>\n",
       "    </tr>\n",
       "    <tr>\n",
       "      <th>35</th>\n",
       "      <td>0.773433</td>\n",
       "      <td>0.755607</td>\n",
       "      <td>0.754457</td>\n",
       "      <td>0.777330</td>\n",
       "      <td>0.763521</td>\n",
       "    </tr>\n",
       "    <tr>\n",
       "      <th>36</th>\n",
       "      <td>0.776308</td>\n",
       "      <td>0.761357</td>\n",
       "      <td>0.759057</td>\n",
       "      <td>0.775029</td>\n",
       "      <td>0.769850</td>\n",
       "    </tr>\n",
       "    <tr>\n",
       "      <th>37</th>\n",
       "      <td>0.771133</td>\n",
       "      <td>0.757907</td>\n",
       "      <td>0.758482</td>\n",
       "      <td>0.775604</td>\n",
       "      <td>0.760069</td>\n",
       "    </tr>\n",
       "    <tr>\n",
       "      <th>38</th>\n",
       "      <td>0.763657</td>\n",
       "      <td>0.761357</td>\n",
       "      <td>0.750431</td>\n",
       "      <td>0.770426</td>\n",
       "      <td>0.746835</td>\n",
       "    </tr>\n",
       "    <tr>\n",
       "      <th>39</th>\n",
       "      <td>0.767108</td>\n",
       "      <td>0.761357</td>\n",
       "      <td>0.749281</td>\n",
       "      <td>0.776755</td>\n",
       "      <td>0.749712</td>\n",
       "    </tr>\n",
       "    <tr>\n",
       "      <th>40</th>\n",
       "      <td>0.725129</td>\n",
       "      <td>0.703278</td>\n",
       "      <td>0.675676</td>\n",
       "      <td>0.671461</td>\n",
       "      <td>0.665132</td>\n",
       "    </tr>\n",
       "    <tr>\n",
       "      <th>41</th>\n",
       "      <td>0.779183</td>\n",
       "      <td>0.756757</td>\n",
       "      <td>0.757332</td>\n",
       "      <td>0.777330</td>\n",
       "      <td>0.773878</td>\n",
       "    </tr>\n",
       "    <tr>\n",
       "      <th>42</th>\n",
       "      <td>0.778033</td>\n",
       "      <td>0.758482</td>\n",
       "      <td>0.753307</td>\n",
       "      <td>0.777330</td>\n",
       "      <td>0.768700</td>\n",
       "    </tr>\n",
       "    <tr>\n",
       "      <th>43</th>\n",
       "      <td>0.771708</td>\n",
       "      <td>0.759632</td>\n",
       "      <td>0.756182</td>\n",
       "      <td>0.777906</td>\n",
       "      <td>0.764672</td>\n",
       "    </tr>\n",
       "    <tr>\n",
       "      <th>44</th>\n",
       "      <td>0.747556</td>\n",
       "      <td>0.736630</td>\n",
       "      <td>0.741806</td>\n",
       "      <td>0.753740</td>\n",
       "      <td>0.738205</td>\n",
       "    </tr>\n",
       "    <tr>\n",
       "      <th>45</th>\n",
       "      <td>0.768833</td>\n",
       "      <td>0.760207</td>\n",
       "      <td>0.761357</td>\n",
       "      <td>0.780207</td>\n",
       "      <td>0.757768</td>\n",
       "    </tr>\n",
       "    <tr>\n",
       "      <th>46</th>\n",
       "      <td>0.771708</td>\n",
       "      <td>0.753882</td>\n",
       "      <td>0.756182</td>\n",
       "      <td>0.780207</td>\n",
       "      <td>0.760069</td>\n",
       "    </tr>\n",
       "    <tr>\n",
       "      <th>47</th>\n",
       "      <td>0.772858</td>\n",
       "      <td>0.760782</td>\n",
       "      <td>0.756757</td>\n",
       "      <td>0.775604</td>\n",
       "      <td>0.762371</td>\n",
       "    </tr>\n",
       "    <tr>\n",
       "      <th>48</th>\n",
       "      <td>0.745256</td>\n",
       "      <td>0.732605</td>\n",
       "      <td>0.738355</td>\n",
       "      <td>0.755466</td>\n",
       "      <td>0.742808</td>\n",
       "    </tr>\n",
       "    <tr>\n",
       "      <th>49</th>\n",
       "      <td>0.775158</td>\n",
       "      <td>0.758482</td>\n",
       "      <td>0.759632</td>\n",
       "      <td>0.776755</td>\n",
       "      <td>0.765247</td>\n",
       "    </tr>\n",
       "  </tbody>\n",
       "</table>\n",
       "</div>"
      ],
      "text/plain": [
       "       Fold1     Fold2     Fold3     Fold4     Fold5\n",
       "0   0.640598  0.612996  0.612996  0.613349  0.622555\n",
       "1   0.763657  0.754457  0.747556  0.765823  0.745685\n",
       "2   0.734330  0.733180  0.727430  0.748562  0.730150\n",
       "3   0.481886  0.481886  0.477286  0.480437  0.478711\n",
       "4   0.717079  0.692352  0.696377  0.707710  0.708285\n",
       "5   0.652099  0.615296  0.628522  0.628884  0.639816\n",
       "6   0.766532  0.763657  0.749856  0.775029  0.751438\n",
       "7   0.671650  0.682001  0.659574  0.683544  0.669160\n",
       "8   0.756182  0.747556  0.740656  0.753740  0.745685\n",
       "9   0.742381  0.732030  0.731455  0.746260  0.733026\n",
       "10  0.772858  0.759632  0.757907  0.771001  0.758343\n",
       "11  0.767683  0.760207  0.752731  0.773303  0.756041\n",
       "12  0.764807  0.759057  0.751006  0.771001  0.753740\n",
       "13  0.770558  0.759632  0.759057  0.772152  0.764097\n",
       "14  0.772283  0.765382  0.760207  0.773303  0.764097\n",
       "15  0.776308  0.758482  0.759632  0.772152  0.765247\n",
       "16  0.769408  0.759632  0.760207  0.777906  0.765823\n",
       "17  0.769408  0.761932  0.759632  0.772727  0.758343\n",
       "18  0.768258  0.755607  0.748706  0.775604  0.750863\n",
       "19  0.770558  0.761932  0.755032  0.779056  0.760069\n",
       "20  0.761932  0.748131  0.740081  0.749712  0.737629\n",
       "21  0.773433  0.755607  0.755607  0.775604  0.772152\n",
       "22  0.776308  0.761932  0.755032  0.775604  0.769850\n",
       "23  0.771133  0.757907  0.754457  0.775604  0.763521\n",
       "24  0.772858  0.759057  0.747556  0.772152  0.753165\n",
       "25  0.770558  0.762507  0.750431  0.779056  0.753165\n",
       "26  0.762507  0.758482  0.746981  0.768124  0.750863\n",
       "27  0.736630  0.727430  0.726279  0.743383  0.733026\n",
       "28  0.503738  0.503738  0.503738  0.503452  0.503452\n",
       "29  0.769408  0.760207  0.757332  0.769850  0.764097\n",
       "30  0.772283  0.755607  0.761932  0.770426  0.762371\n",
       "31  0.773433  0.760207  0.755607  0.776179  0.770426\n",
       "32  0.781484  0.760782  0.762507  0.775604  0.767549\n",
       "33  0.776308  0.757907  0.757907  0.776755  0.771001\n",
       "34  0.778033  0.757907  0.758482  0.772727  0.767549\n",
       "35  0.773433  0.755607  0.754457  0.777330  0.763521\n",
       "36  0.776308  0.761357  0.759057  0.775029  0.769850\n",
       "37  0.771133  0.757907  0.758482  0.775604  0.760069\n",
       "38  0.763657  0.761357  0.750431  0.770426  0.746835\n",
       "39  0.767108  0.761357  0.749281  0.776755  0.749712\n",
       "40  0.725129  0.703278  0.675676  0.671461  0.665132\n",
       "41  0.779183  0.756757  0.757332  0.777330  0.773878\n",
       "42  0.778033  0.758482  0.753307  0.777330  0.768700\n",
       "43  0.771708  0.759632  0.756182  0.777906  0.764672\n",
       "44  0.747556  0.736630  0.741806  0.753740  0.738205\n",
       "45  0.768833  0.760207  0.761357  0.780207  0.757768\n",
       "46  0.771708  0.753882  0.756182  0.780207  0.760069\n",
       "47  0.772858  0.760782  0.756757  0.775604  0.762371\n",
       "48  0.745256  0.732605  0.738355  0.755466  0.742808\n",
       "49  0.775158  0.758482  0.759632  0.776755  0.765247"
      ]
     },
     "execution_count": 47,
     "metadata": {},
     "output_type": "execute_result"
    }
   ],
   "source": [
    "deeper_model_scores"
   ]
  },
  {
   "cell_type": "markdown",
   "id": "8739c08d-7ecd-4002-a442-c01627f0f0a3",
   "metadata": {},
   "source": [
    "Saving the validation scores and the hyperparameters in separate files."
   ]
  },
  {
   "cell_type": "code",
   "execution_count": 52,
   "id": "51eb69f4-40f2-469d-8cec-b4e3bfc92649",
   "metadata": {},
   "outputs": [],
   "source": [
    "deeper_model_scores.to_csv('model_scores/deeper_model_scores.csv')"
   ]
  },
  {
   "cell_type": "code",
   "execution_count": 63,
   "id": "dcf5bdec-8f59-4999-8bf1-b22c40d42a28",
   "metadata": {},
   "outputs": [],
   "source": [
    "pd.DataFrame({el.number : el.params for el in study.get_trials()}).T.to_csv('model_scores/deeper_model_params.csv')"
   ]
  },
  {
   "cell_type": "markdown",
   "id": "ea96f4b9-6873-4222-9431-b0cfd44d813c",
   "metadata": {
    "jp-MarkdownHeadingCollapsed": true
   },
   "source": [
    "### Batchnorm model search"
   ]
  },
  {
   "cell_type": "markdown",
   "id": "5667ce1e-93d3-4be6-b808-72778f5622f1",
   "metadata": {},
   "source": [
    "Here, best hyperparameters for batchnorm models are searched for using 50 optuna trials. In each trial, a learning rate, optimizer, hidden layer size, hidden layer activation function and batch size are chosen. Then, five models with these hyperparameters are trained for 70 epochs on each K-fold. After every epoch, model performance is checked on the validation sets. The weights of the models with the best accuracy on validation sets are stored in separate files. The accuracies on the validation sets achieved with those weights are stored in a separate Pandas Dataframe. The optimizer tries to maximize the average validation accuracy among the 5 K-folds."
   ]
  },
  {
   "cell_type": "markdown",
   "id": "3ab23963-e3bf-409e-a439-441e66ccf810",
   "metadata": {},
   "source": [
    "Note: this cell can take multiple hours to run."
   ]
  },
  {
   "cell_type": "code",
   "execution_count": 64,
   "id": "75e59535-ee39-4def-b499-b6e4d16e860b",
   "metadata": {
    "scrolled": true
   },
   "outputs": [
    {
     "name": "stderr",
     "output_type": "stream",
     "text": [
      "[I 2024-06-01 09:10:11,856] A new study created in memory with name: no-name-e1921ac3-d41c-4011-b048-5e782a693c2f\n"
     ]
    },
    {
     "data": {
      "application/vnd.jupyter.widget-view+json": {
       "model_id": "dbf0f1704e0b4d27a90a3f2d46f04054",
       "version_major": 2,
       "version_minor": 0
      },
      "text/plain": [
       "  0%|          | 0/50 [00:00<?, ?it/s]"
      ]
     },
     "metadata": {},
     "output_type": "display_data"
    },
    {
     "name": "stdout",
     "output_type": "stream",
     "text": [
      "[I 2024-06-01 09:14:18,835] Trial 0 finished with value: 0.7603827714920044 and parameters: {'learning_rate': 0.00024079352222961082, 'hidden_dim': 124, 'activation': 'relu', 'optimizer': 'RMSprop', 'batch_size': 24}. Best is trial 0 with value: 0.7603827714920044.\n",
      "[I 2024-06-01 09:16:45,365] Trial 1 finished with value: 0.7665946960449219 and parameters: {'learning_rate': 0.0007069954257200263, 'hidden_dim': 200, 'activation': 'sigmoid', 'optimizer': 'RMSprop', 'batch_size': 56}. Best is trial 1 with value: 0.7665946960449219.\n",
      "[I 2024-06-01 09:18:41,723] Trial 2 finished with value: 0.7724610447883606 and parameters: {'learning_rate': 0.005217404651361862, 'hidden_dim': 152, 'activation': 'leaky_relu', 'optimizer': 'RMSprop', 'batch_size': 64}. Best is trial 2 with value: 0.7724610447883606.\n",
      "[I 2024-06-01 09:20:59,555] Trial 3 finished with value: 0.7492233633995056 and parameters: {'learning_rate': 0.00020273754236319776, 'hidden_dim': 196, 'activation': 'leaky_relu', 'optimizer': 'Adagrad', 'batch_size': 64}. Best is trial 2 with value: 0.7724610447883606.\n",
      "[I 2024-06-01 09:27:56,719] Trial 4 finished with value: 0.7685500383377075 and parameters: {'learning_rate': 0.002434627406611545, 'hidden_dim': 244, 'activation': 'relu', 'optimizer': 'RMSprop', 'batch_size': 16}. Best is trial 2 with value: 0.7724610447883606.\n",
      "[I 2024-06-01 09:39:36,848] Trial 5 finished with value: 0.7624538540840149 and parameters: {'learning_rate': 0.005072086961670293, 'hidden_dim': 232, 'activation': 'relu', 'optimizer': 'SGD', 'batch_size': 8}. Best is trial 2 with value: 0.7724610447883606.\n",
      "[I 2024-06-01 09:43:22,173] Trial 6 finished with value: 0.7457721710205079 and parameters: {'learning_rate': 0.0001544881895723221, 'hidden_dim': 176, 'activation': 'sigmoid', 'optimizer': 'Adagrad', 'batch_size': 32}. Best is trial 2 with value: 0.7724610447883606.\n",
      "[I 2024-06-01 09:46:13,483] Trial 7 finished with value: 0.758196210861206 and parameters: {'learning_rate': 0.0031372369846861454, 'hidden_dim': 160, 'activation': 'sigmoid', 'optimizer': 'Adagrad', 'batch_size': 40}. Best is trial 2 with value: 0.7724610447883606.\n",
      "[I 2024-06-01 09:49:10,121] Trial 8 finished with value: 0.5934660792350769 and parameters: {'learning_rate': 1.2751781319715735e-06, 'hidden_dim': 284, 'activation': 'relu', 'optimizer': 'Adagrad', 'batch_size': 48}. Best is trial 2 with value: 0.7724610447883606.\n",
      "[I 2024-06-01 09:54:13,046] Trial 9 finished with value: 0.7529044985771179 and parameters: {'learning_rate': 1.6300660075277872e-06, 'hidden_dim': 244, 'activation': 'sigmoid', 'optimizer': 'RMSprop', 'batch_size': 24}. Best is trial 2 with value: 0.7724610447883606.\n",
      "[I 2024-06-01 09:56:08,459] Trial 10 finished with value: 0.7579662680625916 and parameters: {'learning_rate': 1.4019646458274768e-05, 'hidden_dim': 108, 'activation': 'leaky_relu', 'optimizer': 'Adam', 'batch_size': 64}. Best is trial 2 with value: 0.7724610447883606.\n",
      "[I 2024-06-01 10:09:53,606] Trial 11 finished with value: 0.7672846198081971 and parameters: {'learning_rate': 0.0091635423381877, 'hidden_dim': 296, 'activation': 'leaky_relu', 'optimizer': 'RMSprop', 'batch_size': 8}. Best is trial 2 with value: 0.7724610447883606.\n",
      "[I 2024-06-01 10:15:55,466] Trial 12 finished with value: 0.7706207156181335 and parameters: {'learning_rate': 0.001449116116178772, 'hidden_dim': 144, 'activation': 'leaky_relu', 'optimizer': 'RMSprop', 'batch_size': 16}. Best is trial 2 with value: 0.7724610447883606.\n",
      "[I 2024-06-01 10:18:35,235] Trial 13 finished with value: 0.7576214432716369 and parameters: {'learning_rate': 0.0011901750418642598, 'hidden_dim': 144, 'activation': 'leaky_relu', 'optimizer': 'SGD', 'batch_size': 40}. Best is trial 2 with value: 0.7724610447883606.\n",
      "[I 2024-06-01 10:22:52,144] Trial 14 finished with value: 0.7599220633506775 and parameters: {'learning_rate': 4.2524253056922315e-05, 'hidden_dim': 100, 'activation': 'leaky_relu', 'optimizer': 'Adam', 'batch_size': 24}. Best is trial 2 with value: 0.7724610447883606.\n",
      "[I 2024-06-01 10:25:15,103] Trial 15 finished with value: 0.7688947319984436 and parameters: {'learning_rate': 0.0007248597276442824, 'hidden_dim': 144, 'activation': 'leaky_relu', 'optimizer': 'RMSprop', 'batch_size': 48}. Best is trial 2 with value: 0.7724610447883606.\n",
      "[I 2024-06-01 10:28:37,142] Trial 16 finished with value: 0.7776379704475402 and parameters: {'learning_rate': 0.009556503974431174, 'hidden_dim': 164, 'activation': 'leaky_relu', 'optimizer': 'RMSprop', 'batch_size': 32}. Best is trial 16 with value: 0.7776379704475402.\n",
      "[I 2024-06-01 10:31:07,381] Trial 17 finished with value: 0.7744166612625122 and parameters: {'learning_rate': 0.005919971033606955, 'hidden_dim': 172, 'activation': 'leaky_relu', 'optimizer': 'RMSprop', 'batch_size': 48}. Best is trial 16 with value: 0.7776379704475402.\n",
      "[I 2024-06-01 10:34:00,290] Trial 18 finished with value: 0.7749921083450317 and parameters: {'learning_rate': 0.00945746741322235, 'hidden_dim': 220, 'activation': 'leaky_relu', 'optimizer': 'Adam', 'batch_size': 48}. Best is trial 16 with value: 0.7776379704475402.\n",
      "[I 2024-06-01 10:38:13,915] Trial 19 finished with value: 0.761763596534729 and parameters: {'learning_rate': 4.0850427430181564e-05, 'hidden_dim': 268, 'activation': 'leaky_relu', 'optimizer': 'Adam', 'batch_size': 32}. Best is trial 16 with value: 0.7776379704475402.\n",
      "[I 2024-06-01 10:40:45,375] Trial 20 finished with value: 0.7615333914756774 and parameters: {'learning_rate': 0.0004407791736045846, 'hidden_dim': 216, 'activation': 'leaky_relu', 'optimizer': 'Adam', 'batch_size': 56}. Best is trial 16 with value: 0.7776379704475402.\n",
      "[I 2024-06-01 10:43:25,605] Trial 21 finished with value: 0.7770625114440918 and parameters: {'learning_rate': 0.005547077660880905, 'hidden_dim': 180, 'activation': 'leaky_relu', 'optimizer': 'Adam', 'batch_size': 48}. Best is trial 16 with value: 0.7776379704475402.\n",
      "[I 2024-06-01 10:46:42,807] Trial 22 finished with value: 0.7761422038078308 and parameters: {'learning_rate': 0.009884586930090263, 'hidden_dim': 212, 'activation': 'leaky_relu', 'optimizer': 'Adam', 'batch_size': 40}. Best is trial 16 with value: 0.7776379704475402.\n",
      "[I 2024-06-01 10:50:31,709] Trial 23 finished with value: 0.7708512067794799 and parameters: {'learning_rate': 0.0021801593555818097, 'hidden_dim': 320, 'activation': 'leaky_relu', 'optimizer': 'Adam', 'batch_size': 40}. Best is trial 16 with value: 0.7776379704475402.\n",
      "[I 2024-06-01 10:54:23,316] Trial 24 finished with value: 0.7746466755867004 and parameters: {'learning_rate': 0.002807197442785792, 'hidden_dim': 188, 'activation': 'leaky_relu', 'optimizer': 'Adam', 'batch_size': 32}. Best is trial 16 with value: 0.7776379704475402.\n",
      "[I 2024-06-01 10:56:53,843] Trial 25 finished with value: 0.7746471405029297 and parameters: {'learning_rate': 0.009174448165321475, 'hidden_dim': 180, 'activation': 'leaky_relu', 'optimizer': 'Adam', 'batch_size': 56}. Best is trial 16 with value: 0.7776379704475402.\n",
      "[I 2024-06-01 11:00:23,179] Trial 26 finished with value: 0.6435077309608459 and parameters: {'learning_rate': 4.605533554710505e-06, 'hidden_dim': 212, 'activation': 'leaky_relu', 'optimizer': 'SGD', 'batch_size': 40}. Best is trial 16 with value: 0.7776379704475402.\n",
      "[I 2024-06-01 11:03:51,596] Trial 27 finished with value: 0.7707362651824952 and parameters: {'learning_rate': 0.00397873619918829, 'hidden_dim': 120, 'activation': 'leaky_relu', 'optimizer': 'Adam', 'batch_size': 32}. Best is trial 16 with value: 0.7776379704475402.\n",
      "[I 2024-06-01 11:06:59,828] Trial 28 finished with value: 0.7686656236648559 and parameters: {'learning_rate': 0.0011387247105744142, 'hidden_dim': 160, 'activation': 'sigmoid', 'optimizer': 'Adam', 'batch_size': 40}. Best is trial 16 with value: 0.7776379704475402.\n",
      "[I 2024-06-01 11:11:11,688] Trial 29 finished with value: 0.7539403676986695 and parameters: {'learning_rate': 0.00040544321236483445, 'hidden_dim': 132, 'activation': 'relu', 'optimizer': 'SGD', 'batch_size': 24}. Best is trial 16 with value: 0.7776379704475402.\n",
      "[I 2024-06-01 11:13:59,633] Trial 30 finished with value: 0.7516401290893555 and parameters: {'learning_rate': 9.382866146451506e-05, 'hidden_dim': 200, 'activation': 'relu', 'optimizer': 'Adam', 'batch_size': 48}. Best is trial 16 with value: 0.7776379704475402.\n",
      "[I 2024-06-01 11:16:51,878] Trial 31 finished with value: 0.7768333077430725 and parameters: {'learning_rate': 0.00963723494456786, 'hidden_dim': 224, 'activation': 'leaky_relu', 'optimizer': 'Adam', 'batch_size': 48}. Best is trial 16 with value: 0.7776379704475402.\n",
      "[I 2024-06-01 11:19:31,363] Trial 32 finished with value: 0.7724619150161743 and parameters: {'learning_rate': 0.0059141139426550715, 'hidden_dim': 232, 'activation': 'leaky_relu', 'optimizer': 'Adam', 'batch_size': 56}. Best is trial 16 with value: 0.7776379704475402.\n",
      "[I 2024-06-01 11:22:17,424] Trial 33 finished with value: 0.7745317935943603 and parameters: {'learning_rate': 0.009534010964727058, 'hidden_dim': 252, 'activation': 'leaky_relu', 'optimizer': 'Adam', 'batch_size': 56}. Best is trial 16 with value: 0.7776379704475402.\n",
      "[I 2024-06-01 11:25:11,588] Trial 34 finished with value: 0.7659040331840515 and parameters: {'learning_rate': 0.0014947799573339024, 'hidden_dim': 196, 'activation': 'leaky_relu', 'optimizer': 'Adam', 'batch_size': 48}. Best is trial 16 with value: 0.7776379704475402.\n",
      "[I 2024-06-01 11:28:30,457] Trial 35 finished with value: 0.7752220630645752 and parameters: {'learning_rate': 0.004132427275108074, 'hidden_dim': 228, 'activation': 'leaky_relu', 'optimizer': 'RMSprop', 'batch_size': 40}. Best is trial 16 with value: 0.7776379704475402.\n",
      "[I 2024-06-01 11:32:11,276] Trial 36 finished with value: 0.7675154209136963 and parameters: {'learning_rate': 0.0021458901642748634, 'hidden_dim': 168, 'activation': 'leaky_relu', 'optimizer': 'Adam', 'batch_size': 32}. Best is trial 16 with value: 0.7776379704475402.\n",
      "[I 2024-06-01 11:34:51,659] Trial 37 finished with value: 0.7524444103240967 and parameters: {'learning_rate': 0.0006855127510144997, 'hidden_dim': 188, 'activation': 'sigmoid', 'optimizer': 'Adagrad', 'batch_size': 56}. Best is trial 16 with value: 0.7776379704475402.\n",
      "[I 2024-06-01 11:41:23,766] Trial 38 finished with value: 0.769355309009552 and parameters: {'learning_rate': 0.00580648704270494, 'hidden_dim': 208, 'activation': 'relu', 'optimizer': 'RMSprop', 'batch_size': 16}. Best is trial 16 with value: 0.7776379704475402.\n",
      "[I 2024-06-01 11:44:39,057] Trial 39 finished with value: 0.7583119511604309 and parameters: {'learning_rate': 0.0041023394081976155, 'hidden_dim': 244, 'activation': 'leaky_relu', 'optimizer': 'SGD', 'batch_size': 40}. Best is trial 16 with value: 0.7776379704475402.\n",
      "[I 2024-06-01 11:47:21,300] Trial 40 finished with value: 0.758426570892334 and parameters: {'learning_rate': 0.002793257097544005, 'hidden_dim': 184, 'activation': 'sigmoid', 'optimizer': 'Adagrad', 'batch_size': 48}. Best is trial 16 with value: 0.7776379704475402.\n",
      "[I 2024-06-01 11:50:33,073] Trial 41 finished with value: 0.7754526019096375 and parameters: {'learning_rate': 0.005485248969736095, 'hidden_dim': 232, 'activation': 'leaky_relu', 'optimizer': 'RMSprop', 'batch_size': 40}. Best is trial 16 with value: 0.7776379704475402.\n",
      "[I 2024-06-01 11:54:13,191] Trial 42 finished with value: 0.7772930026054382 and parameters: {'learning_rate': 0.00553733824601145, 'hidden_dim': 204, 'activation': 'leaky_relu', 'optimizer': 'RMSprop', 'batch_size': 32}. Best is trial 16 with value: 0.7776379704475402.\n",
      "[I 2024-06-01 11:57:34,715] Trial 43 finished with value: 0.7775225758552551 and parameters: {'learning_rate': 0.006453334242957184, 'hidden_dim': 164, 'activation': 'leaky_relu', 'optimizer': 'RMSprop', 'batch_size': 32}. Best is trial 16 with value: 0.7776379704475402.\n",
      "[I 2024-06-01 12:00:51,174] Trial 44 finished with value: 0.7697003841400146 and parameters: {'learning_rate': 0.0019259292579343083, 'hidden_dim': 160, 'activation': 'leaky_relu', 'optimizer': 'RMSprop', 'batch_size': 32}. Best is trial 16 with value: 0.7776379704475402.\n",
      "[I 2024-06-01 12:05:27,735] Trial 45 finished with value: 0.7757974982261657 and parameters: {'learning_rate': 0.003655931728006767, 'hidden_dim': 200, 'activation': 'leaky_relu', 'optimizer': 'RMSprop', 'batch_size': 24}. Best is trial 16 with value: 0.7776379704475402.\n",
      "[I 2024-06-01 12:08:38,572] Trial 46 finished with value: 0.7691255450248718 and parameters: {'learning_rate': 0.005347972580419838, 'hidden_dim': 124, 'activation': 'relu', 'optimizer': 'RMSprop', 'batch_size': 32}. Best is trial 16 with value: 0.7776379704475402.\n",
      "[I 2024-06-01 12:12:56,327] Trial 47 finished with value: 0.7756821632385253 and parameters: {'learning_rate': 0.006772709034470612, 'hidden_dim': 164, 'activation': 'leaky_relu', 'optimizer': 'RMSprop', 'batch_size': 24}. Best is trial 16 with value: 0.7776379704475402.\n",
      "[I 2024-06-01 12:14:53,582] Trial 48 finished with value: 0.7668237924575806 and parameters: {'learning_rate': 0.0009747520664386228, 'hidden_dim': 152, 'activation': 'leaky_relu', 'optimizer': 'RMSprop', 'batch_size': 64}. Best is trial 16 with value: 0.7776379704475402.\n",
      "[I 2024-06-01 12:18:30,705] Trial 49 finished with value: 0.76314377784729 and parameters: {'learning_rate': 0.0032692149369420768, 'hidden_dim': 176, 'activation': 'sigmoid', 'optimizer': 'RMSprop', 'batch_size': 32}. Best is trial 16 with value: 0.7776379704475402.\n"
     ]
    }
   ],
   "source": [
    "n_trials=50\n",
    "batchnorm_model_scores=pd.DataFrame(np.zeros(shape=(n_trials, 5)), \n",
    "                                  columns=[f'Fold{i}' for i in range(1,6)])\n",
    "\n",
    "def batchnorm_model_trial(trial):\n",
    "    learning_rate = trial.suggest_float(\"learning_rate\", 0.000001, 0.01, log=True)\n",
    "    hidden_dim = trial.suggest_int(\"hidden_dim\", 100, 320, step=4)\n",
    "    activation = trial.suggest_categorical(\"activation\", [\"relu\", \"leaky_relu\", \"sigmoid\"])\n",
    "    optimizer = trial.suggest_categorical(\"optimizer\", [\"SGD\", \"Adam\", \"RMSprop\", \"Adagrad\"])\n",
    "    batch_size = trial.suggest_int(\"batch_size\", 8, 64, step=8)\n",
    "\n",
    "    model = create_batchnorm_model(activation=activation, hidden_dim=hidden_dim)\n",
    "\n",
    "    if optimizer=='SGD':\n",
    "        optmzr = SGD(learning_rate=learning_rate)\n",
    "    elif optimizer=='RMSprop':\n",
    "        optmzr = RMSprop(learning_rate=learning_rate)\n",
    "    elif optimizer=='Adagrad':\n",
    "        optmzr = Adagrad(learning_rate=learning_rate)\n",
    "    else:\n",
    "        optmzr = Adam(learning_rate=learning_rate, beta_1=0.9, beta_2=0.999)\n",
    "    \n",
    "    model.compile(loss='binary_crossentropy',\n",
    "                  optimizer=optmzr,\n",
    "                  metrics=['accuracy'])\n",
    "    \n",
    "    model.save_weights('model_weights/initial.h5')\n",
    "\n",
    "    for fold_number in range(1,6):\n",
    "        model.load_weights('model_weights/initial.h5')\n",
    "        checkpoint = ModelCheckpoint(filepath=f'model_weights/batchnorm_trial{trial.number}_fold{fold_number}.h5', \n",
    "                                     save_weights_only=True, \n",
    "                                     monitor='val_accuracy', \n",
    "                                     mode='max', \n",
    "                                     save_best_only=True)\n",
    "        hist = model.fit(X[train_indices[fold_number], :], y[train_indices[fold_number]], \n",
    "                         validation_data=(X[validation_indices[fold_number], :], y[validation_indices[fold_number]]), \n",
    "                         epochs=70, \n",
    "                         batch_size=batch_size, \n",
    "                         shuffle=True, verbose=0, \n",
    "                         callbacks=[checkpoint])\n",
    "        batchnorm_model_scores.at[trial.number, f'Fold{fold_number}'] = max(hist.history['val_accuracy'])\n",
    "\n",
    "    os.remove('model_weights/initial.h5')\n",
    "\n",
    "    return batchnorm_model_scores.loc[trial.number, :].mean()\n",
    "\n",
    "\n",
    "study = optuna.create_study(direction=\"maximize\")\n",
    "study.optimize(batchnorm_model_trial, n_trials=n_trials, show_progress_bar=True)"
   ]
  },
  {
   "cell_type": "markdown",
   "id": "70cd904f-04d8-4d6f-a9bf-7bdd2b923eb8",
   "metadata": {},
   "source": [
    "Saving the validation scores and the hyperparameters in separate files."
   ]
  },
  {
   "cell_type": "code",
   "execution_count": 66,
   "id": "75b9a2b6-2160-4d80-b5ef-74b189fbd969",
   "metadata": {},
   "outputs": [],
   "source": [
    "batchnorm_model_scores.to_csv('model_scores/batchnorm_model_scores.csv')"
   ]
  },
  {
   "cell_type": "code",
   "execution_count": 68,
   "id": "78e08a23-3f2b-44cf-882d-3e9c97674075",
   "metadata": {},
   "outputs": [],
   "source": [
    "pd.DataFrame({el.number : el.params for el in study.get_trials()}).T.to_csv('model_scores/batchnorm_model_params.csv')"
   ]
  },
  {
   "cell_type": "markdown",
   "id": "de70411a-d9fc-4b68-a221-10da3b890d8e",
   "metadata": {
    "jp-MarkdownHeadingCollapsed": true
   },
   "source": [
    "### Dropout model search"
   ]
  },
  {
   "cell_type": "markdown",
   "id": "ee5a83f2-ec5d-4df8-91b9-7336ad8e685d",
   "metadata": {},
   "source": [
    "Here, best hyperparameters for dropout models are searched for using 50 optuna trials. In each trial, a learning rate, optimizer, hidden layer size, hidden layer activation function, dropout rate and batch size are chosen. Then, five models with these hyperparameters are trained for 70 epochs on each K-fold. After every epoch, model performance is checked on the validation sets. The weights of the models with the best accuracy on validation sets are stored in separate files. The accuracies on the validation sets achieved with those weights are stored in a separate Pandas Dataframe. The optimizer tries to maximize the average validation accuracy among the 5 K-folds."
   ]
  },
  {
   "cell_type": "markdown",
   "id": "51b2094b-4180-4808-b956-3c5c446eb9e8",
   "metadata": {},
   "source": [
    "Note: this cell can take multiple hours to run."
   ]
  },
  {
   "cell_type": "code",
   "execution_count": 71,
   "id": "6bfaa3a2-c71d-4732-8f83-12047a9e6a06",
   "metadata": {
    "scrolled": true
   },
   "outputs": [
    {
     "name": "stderr",
     "output_type": "stream",
     "text": [
      "[I 2024-06-01 12:43:10,043] A new study created in memory with name: no-name-053ccf55-2846-4e10-83a2-68670689573b\n"
     ]
    },
    {
     "data": {
      "application/vnd.jupyter.widget-view+json": {
       "model_id": "e6a3a656c82f413da229b8b2f4a4189d",
       "version_major": 2,
       "version_minor": 0
      },
      "text/plain": [
       "  0%|          | 0/50 [00:00<?, ?it/s]"
      ]
     },
     "metadata": {},
     "output_type": "display_data"
    },
    {
     "name": "stdout",
     "output_type": "stream",
     "text": [
      "[I 2024-06-01 12:46:16,831] Trial 0 finished with value: 0.7596921324729919 and parameters: {'learning_rate': 0.004587767594176943, 'hidden_dim': 172, 'drop_rate': 0.45000000000000007, 'activation': 'leaky_relu', 'optimizer': 'Adagrad', 'batch_size': 32}. Best is trial 0 with value: 0.7596921324729919.\n",
      "[I 2024-06-01 12:53:08,213] Trial 1 finished with value: 0.750374436378479 and parameters: {'learning_rate': 6.06897781504284e-05, 'hidden_dim': 284, 'drop_rate': 0.35, 'activation': 'sigmoid', 'optimizer': 'Adam', 'batch_size': 16}. Best is trial 0 with value: 0.7596921324729919.\n",
      "[I 2024-06-01 12:55:11,238] Trial 2 finished with value: 0.7435877442359924 and parameters: {'learning_rate': 3.936183087793012e-05, 'hidden_dim': 132, 'drop_rate': 0.1, 'activation': 'sigmoid', 'optimizer': 'Adam', 'batch_size': 56}. Best is trial 0 with value: 0.7596921324729919.\n",
      "[I 2024-06-01 12:57:46,455] Trial 3 finished with value: 0.49637643694877626 and parameters: {'learning_rate': 2.494699587028014e-06, 'hidden_dim': 120, 'drop_rate': 0.4, 'activation': 'sigmoid', 'optimizer': 'SGD', 'batch_size': 32}. Best is trial 0 with value: 0.7596921324729919.\n",
      "[I 2024-06-01 12:59:47,274] Trial 4 finished with value: 0.49787155389785764 and parameters: {'learning_rate': 0.00014839717088919324, 'hidden_dim': 156, 'drop_rate': 0.15000000000000002, 'activation': 'sigmoid', 'optimizer': 'Adagrad', 'batch_size': 56}. Best is trial 0 with value: 0.7596921324729919.\n",
      "[I 2024-06-01 13:03:58,443] Trial 5 finished with value: 0.7295542359352112 and parameters: {'learning_rate': 0.004408324599583014, 'hidden_dim': 208, 'drop_rate': 0.45000000000000007, 'activation': 'sigmoid', 'optimizer': 'Adagrad', 'batch_size': 24}. Best is trial 0 with value: 0.7596921324729919.\n",
      "[I 2024-06-01 13:07:26,240] Trial 6 finished with value: 0.7561254024505615 and parameters: {'learning_rate': 0.00045728702115959346, 'hidden_dim': 348, 'drop_rate': 0.35, 'activation': 'sigmoid', 'optimizer': 'RMSprop', 'batch_size': 48}. Best is trial 0 with value: 0.7596921324729919.\n",
      "[I 2024-06-01 13:10:47,794] Trial 7 finished with value: 0.7699310660362244 and parameters: {'learning_rate': 0.0009025676405314316, 'hidden_dim': 272, 'drop_rate': 0.4, 'activation': 'leaky_relu', 'optimizer': 'Adam', 'batch_size': 40}. Best is trial 7 with value: 0.7699310660362244.\n",
      "[I 2024-06-01 13:14:05,965] Trial 8 finished with value: 0.5362902522087097 and parameters: {'learning_rate': 1.3093484847390448e-05, 'hidden_dim': 184, 'drop_rate': 0.15000000000000002, 'activation': 'relu', 'optimizer': 'Adagrad', 'batch_size': 32}. Best is trial 7 with value: 0.7699310660362244.\n",
      "[I 2024-06-01 13:24:10,843] Trial 9 finished with value: 0.736339008808136 and parameters: {'learning_rate': 0.00013670672981980735, 'hidden_dim': 164, 'drop_rate': 0.2, 'activation': 'leaky_relu', 'optimizer': 'Adagrad', 'batch_size': 8}. Best is trial 7 with value: 0.7699310660362244.\n",
      "[I 2024-06-01 13:26:19,294] Trial 10 finished with value: 0.7660197973251343 and parameters: {'learning_rate': 0.0015292902965986102, 'hidden_dim': 276, 'drop_rate': 0.25, 'activation': 'leaky_relu', 'optimizer': 'Adam', 'batch_size': 64}. Best is trial 7 with value: 0.7699310660362244.\n",
      "[I 2024-06-01 13:28:36,306] Trial 11 finished with value: 0.7670557737350464 and parameters: {'learning_rate': 0.00106417700578264, 'hidden_dim': 272, 'drop_rate': 0.25, 'activation': 'leaky_relu', 'optimizer': 'Adam', 'batch_size': 64}. Best is trial 7 with value: 0.7699310660362244.\n",
      "[I 2024-06-01 13:31:32,401] Trial 12 finished with value: 0.7693554282188415 and parameters: {'learning_rate': 0.0006677479927806816, 'hidden_dim': 260, 'drop_rate': 0.30000000000000004, 'activation': 'leaky_relu', 'optimizer': 'Adam', 'batch_size': 48}. Best is trial 7 with value: 0.7699310660362244.\n",
      "[I 2024-06-01 13:34:46,483] Trial 13 finished with value: 0.7687805771827698 and parameters: {'learning_rate': 0.0007034037509455083, 'hidden_dim': 320, 'drop_rate': 0.30000000000000004, 'activation': 'leaky_relu', 'optimizer': 'Adam', 'batch_size': 48}. Best is trial 7 with value: 0.7699310660362244.\n",
      "[I 2024-06-01 13:37:41,871] Trial 14 finished with value: 0.761532974243164 and parameters: {'learning_rate': 0.007971584229037973, 'hidden_dim': 228, 'drop_rate': 0.5, 'activation': 'relu', 'optimizer': 'SGD', 'batch_size': 40}. Best is trial 7 with value: 0.7699310660362244.\n",
      "[I 2024-06-01 13:40:52,092] Trial 15 finished with value: 0.7671700596809388 and parameters: {'learning_rate': 0.0003594866121575264, 'hidden_dim': 252, 'drop_rate': 0.35, 'activation': 'leaky_relu', 'optimizer': 'RMSprop', 'batch_size': 40}. Best is trial 7 with value: 0.7699310660362244.\n",
      "[I 2024-06-01 13:44:03,631] Trial 16 finished with value: 0.7684349536895752 and parameters: {'learning_rate': 0.0020215332336002666, 'hidden_dim': 316, 'drop_rate': 0.30000000000000004, 'activation': 'leaky_relu', 'optimizer': 'Adam', 'batch_size': 48}. Best is trial 7 with value: 0.7699310660362244.\n",
      "[I 2024-06-01 13:48:44,994] Trial 17 finished with value: 0.7675152897834778 and parameters: {'learning_rate': 0.0002183574180753, 'hidden_dim': 244, 'drop_rate': 0.4, 'activation': 'leaky_relu', 'optimizer': 'Adam', 'batch_size': 24}. Best is trial 7 with value: 0.7699310660362244.\n",
      "[I 2024-06-01 13:51:18,110] Trial 18 finished with value: 0.7540554523468017 and parameters: {'learning_rate': 1.402505456029262e-05, 'hidden_dim': 212, 'drop_rate': 0.5, 'activation': 'relu', 'optimizer': 'Adam', 'batch_size': 56}. Best is trial 7 with value: 0.7699310660362244.\n",
      "[I 2024-06-01 13:54:40,875] Trial 19 finished with value: 0.7592309713363647 and parameters: {'learning_rate': 0.0021524545802916106, 'hidden_dim': 300, 'drop_rate': 0.25, 'activation': 'leaky_relu', 'optimizer': 'SGD', 'batch_size': 40}. Best is trial 7 with value: 0.7699310660362244.\n",
      "[I 2024-06-01 14:00:38,204] Trial 20 finished with value: 0.7481884717941284 and parameters: {'learning_rate': 1.5778365438269725e-06, 'hidden_dim': 360, 'drop_rate': 0.4, 'activation': 'leaky_relu', 'optimizer': 'RMSprop', 'batch_size': 24}. Best is trial 7 with value: 0.7699310660362244.\n",
      "[I 2024-06-01 14:03:55,060] Trial 21 finished with value: 0.7665951490402222 and parameters: {'learning_rate': 0.0006719964099268229, 'hidden_dim': 328, 'drop_rate': 0.30000000000000004, 'activation': 'leaky_relu', 'optimizer': 'Adam', 'batch_size': 48}. Best is trial 7 with value: 0.7699310660362244.\n",
      "[I 2024-06-01 14:07:06,087] Trial 22 finished with value: 0.767745292186737 and parameters: {'learning_rate': 0.0007195125159965222, 'hidden_dim': 312, 'drop_rate': 0.30000000000000004, 'activation': 'leaky_relu', 'optimizer': 'Adam', 'batch_size': 48}. Best is trial 7 with value: 0.7699310660362244.\n",
      "[I 2024-06-01 14:10:21,815] Trial 23 finished with value: 0.7678598642349244 and parameters: {'learning_rate': 0.0003158207139947454, 'hidden_dim': 260, 'drop_rate': 0.35, 'activation': 'leaky_relu', 'optimizer': 'Adam', 'batch_size': 40}. Best is trial 7 with value: 0.7699310660362244.\n",
      "[I 2024-06-01 14:12:59,764] Trial 24 finished with value: 0.7646385550498962 and parameters: {'learning_rate': 6.77364678491214e-05, 'hidden_dim': 296, 'drop_rate': 0.2, 'activation': 'leaky_relu', 'optimizer': 'Adam', 'batch_size': 56}. Best is trial 7 with value: 0.7699310660362244.\n",
      "[I 2024-06-01 14:16:15,012] Trial 25 finished with value: 0.7676300406455994 and parameters: {'learning_rate': 0.003245656917753564, 'hidden_dim': 328, 'drop_rate': 0.45000000000000007, 'activation': 'relu', 'optimizer': 'Adam', 'batch_size': 48}. Best is trial 7 with value: 0.7699310660362244.\n",
      "[I 2024-06-01 14:19:21,413] Trial 26 finished with value: 0.7716567277908325 and parameters: {'learning_rate': 0.000894685071172676, 'hidden_dim': 236, 'drop_rate': 0.25, 'activation': 'leaky_relu', 'optimizer': 'Adam', 'batch_size': 40}. Best is trial 26 with value: 0.7716567277908325.\n",
      "[I 2024-06-01 14:22:52,126] Trial 27 finished with value: 0.7669394373893738 and parameters: {'learning_rate': 0.0011680661169820598, 'hidden_dim': 228, 'drop_rate': 0.2, 'activation': 'leaky_relu', 'optimizer': 'Adam', 'batch_size': 32}. Best is trial 26 with value: 0.7716567277908325.\n",
      "[I 2024-06-01 14:25:45,975] Trial 28 finished with value: 0.7615331172943115 and parameters: {'learning_rate': 0.008228759744979178, 'hidden_dim': 212, 'drop_rate': 0.25, 'activation': 'leaky_relu', 'optimizer': 'SGD', 'batch_size': 40}. Best is trial 26 with value: 0.7716567277908325.\n",
      "[I 2024-06-01 14:29:34,533] Trial 29 finished with value: 0.7655588269233704 and parameters: {'learning_rate': 0.0035281294600154486, 'hidden_dim': 264, 'drop_rate': 0.4, 'activation': 'leaky_relu', 'optimizer': 'RMSprop', 'batch_size': 32}. Best is trial 26 with value: 0.7716567277908325.\n",
      "[I 2024-06-01 14:32:36,421] Trial 30 finished with value: 0.7661348462104798 and parameters: {'learning_rate': 0.00021845541337504407, 'hidden_dim': 232, 'drop_rate': 0.35, 'activation': 'relu', 'optimizer': 'Adam', 'batch_size': 40}. Best is trial 26 with value: 0.7716567277908325.\n",
      "[I 2024-06-01 14:35:30,438] Trial 31 finished with value: 0.7675156950950622 and parameters: {'learning_rate': 0.0007089855542401209, 'hidden_dim': 288, 'drop_rate': 0.30000000000000004, 'activation': 'leaky_relu', 'optimizer': 'Adam', 'batch_size': 48}. Best is trial 26 with value: 0.7716567277908325.\n",
      "[I 2024-06-01 14:37:58,689] Trial 32 finished with value: 0.7676302313804626 and parameters: {'learning_rate': 0.0005324921071012549, 'hidden_dim': 244, 'drop_rate': 0.25, 'activation': 'leaky_relu', 'optimizer': 'Adam', 'batch_size': 56}. Best is trial 26 with value: 0.7716567277908325.\n",
      "[I 2024-06-01 14:40:29,272] Trial 33 finished with value: 0.7673996210098266 and parameters: {'learning_rate': 0.0009249986409807053, 'hidden_dim': 196, 'drop_rate': 0.30000000000000004, 'activation': 'leaky_relu', 'optimizer': 'Adam', 'batch_size': 48}. Best is trial 26 with value: 0.7716567277908325.\n",
      "[I 2024-06-01 14:43:50,133] Trial 34 finished with value: 0.7638336896896363 and parameters: {'learning_rate': 3.5993715025259866e-05, 'hidden_dim': 280, 'drop_rate': 0.2, 'activation': 'leaky_relu', 'optimizer': 'Adam', 'batch_size': 40}. Best is trial 26 with value: 0.7716567277908325.\n",
      "[I 2024-06-01 14:46:23,252] Trial 35 finished with value: 0.7691257476806641 and parameters: {'learning_rate': 0.002542694842134367, 'hidden_dim': 260, 'drop_rate': 0.15000000000000002, 'activation': 'leaky_relu', 'optimizer': 'Adam', 'batch_size': 56}. Best is trial 26 with value: 0.7716567277908325.\n",
      "[I 2024-06-01 14:48:38,380] Trial 36 finished with value: 0.7619929432868957 and parameters: {'learning_rate': 0.002342431494165707, 'hidden_dim': 260, 'drop_rate': 0.1, 'activation': 'sigmoid', 'optimizer': 'Adam', 'batch_size': 64}. Best is trial 26 with value: 0.7716567277908325.\n",
      "[I 2024-06-01 14:51:12,896] Trial 37 finished with value: 0.7261015415191651 and parameters: {'learning_rate': 0.005038048251006824, 'hidden_dim': 240, 'drop_rate': 0.15000000000000002, 'activation': 'sigmoid', 'optimizer': 'Adagrad', 'batch_size': 56}. Best is trial 26 with value: 0.7716567277908325.\n",
      "[I 2024-06-01 14:53:42,603] Trial 38 finished with value: 0.7555503487586975 and parameters: {'learning_rate': 0.0017726718743080203, 'hidden_dim': 296, 'drop_rate': 0.15000000000000002, 'activation': 'leaky_relu', 'optimizer': 'SGD', 'batch_size': 56}. Best is trial 26 with value: 0.7716567277908325.\n",
      "[I 2024-06-01 14:56:47,645] Trial 39 finished with value: 0.7648687720298767 and parameters: {'learning_rate': 8.68208514912763e-05, 'hidden_dim': 148, 'drop_rate': 0.1, 'activation': 'leaky_relu', 'optimizer': 'Adam', 'batch_size': 32}. Best is trial 26 with value: 0.7716567277908325.\n",
      "[I 2024-06-01 15:02:06,238] Trial 40 finished with value: 0.7328885078430176 and parameters: {'learning_rate': 0.005017682551470611, 'hidden_dim': 184, 'drop_rate': 0.45000000000000007, 'activation': 'sigmoid', 'optimizer': 'Adagrad', 'batch_size': 16}. Best is trial 26 with value: 0.7716567277908325.\n",
      "[I 2024-06-01 15:05:01,923] Trial 41 finished with value: 0.766939914226532 and parameters: {'learning_rate': 0.0014237916787113642, 'hidden_dim': 268, 'drop_rate': 0.4, 'activation': 'leaky_relu', 'optimizer': 'Adam', 'batch_size': 48}. Best is trial 26 with value: 0.7716567277908325.\n",
      "[I 2024-06-01 15:07:50,411] Trial 42 finished with value: 0.7683213353157043 and parameters: {'learning_rate': 0.0002481580065153926, 'hidden_dim': 252, 'drop_rate': 0.35, 'activation': 'leaky_relu', 'optimizer': 'Adam', 'batch_size': 48}. Best is trial 26 with value: 0.7716567277908325.\n",
      "[I 2024-06-01 15:10:29,068] Trial 43 finished with value: 0.7690114736557007 and parameters: {'learning_rate': 0.00045923724474755196, 'hidden_dim': 220, 'drop_rate': 0.25, 'activation': 'leaky_relu', 'optimizer': 'Adam', 'batch_size': 56}. Best is trial 26 with value: 0.7716567277908325.\n",
      "[I 2024-06-01 15:12:49,894] Trial 44 finished with value: 0.7688958525657654 and parameters: {'learning_rate': 0.0004930743955758926, 'hidden_dim': 216, 'drop_rate': 0.2, 'activation': 'leaky_relu', 'optimizer': 'Adam', 'batch_size': 64}. Best is trial 26 with value: 0.7716567277908325.\n",
      "[I 2024-06-01 15:15:13,502] Trial 45 finished with value: 0.7665948271751404 and parameters: {'learning_rate': 0.00013944107753943326, 'hidden_dim': 224, 'drop_rate': 0.25, 'activation': 'leaky_relu', 'optimizer': 'RMSprop', 'batch_size': 56}. Best is trial 26 with value: 0.7716567277908325.\n",
      "[I 2024-06-01 15:17:57,761] Trial 46 finished with value: 0.7698161244392395 and parameters: {'learning_rate': 0.00036453602378042576, 'hidden_dim': 252, 'drop_rate': 0.2, 'activation': 'leaky_relu', 'optimizer': 'Adam', 'batch_size': 56}. Best is trial 26 with value: 0.7716567277908325.\n",
      "[I 2024-06-01 15:20:14,796] Trial 47 finished with value: 0.7659045100212097 and parameters: {'learning_rate': 0.0010369895520093682, 'hidden_dim': 284, 'drop_rate': 0.15000000000000002, 'activation': 'relu', 'optimizer': 'Adam', 'batch_size': 64}. Best is trial 26 with value: 0.7716567277908325.\n",
      "[I 2024-06-01 15:23:48,623] Trial 48 finished with value: 0.6384374260902405 and parameters: {'learning_rate': 3.825842568684607e-05, 'hidden_dim': 236, 'drop_rate': 0.2, 'activation': 'leaky_relu', 'optimizer': 'Adagrad', 'batch_size': 40}. Best is trial 26 with value: 0.7716567277908325.\n",
      "[I 2024-06-01 15:26:45,314] Trial 49 finished with value: 0.7599218130111695 and parameters: {'learning_rate': 0.00032806554941545025, 'hidden_dim': 272, 'drop_rate': 0.15000000000000002, 'activation': 'sigmoid', 'optimizer': 'Adam', 'batch_size': 56}. Best is trial 26 with value: 0.7716567277908325.\n"
     ]
    }
   ],
   "source": [
    "n_trials=50\n",
    "dropout_model_scores=pd.DataFrame(np.zeros(shape=(n_trials, 5)), \n",
    "                                  columns=[f'Fold{i}' for i in range(1,6)])\n",
    "\n",
    "def dropout_model_trial(trial):\n",
    "    learning_rate = trial.suggest_float(\"learning_rate\", 0.000001, 0.01, log=True)\n",
    "    hidden_dim = trial.suggest_int(\"hidden_dim\", 120, 360, step=4)\n",
    "    drop_rate = trial.suggest_float(\"drop_rate\", 0.1, 0.5, step=0.05)\n",
    "    activation = trial.suggest_categorical(\"activation\", [\"relu\", \"leaky_relu\", \"sigmoid\"])\n",
    "    optimizer = trial.suggest_categorical(\"optimizer\", [\"SGD\", \"Adam\", \"RMSprop\", \"Adagrad\"])\n",
    "    batch_size = trial.suggest_int(\"batch_size\", 8, 64, step=8)\n",
    "\n",
    "    model = create_dropout_model(activation=activation, hidden_dim=hidden_dim, drop_rate=drop_rate)\n",
    "\n",
    "    if optimizer=='SGD':\n",
    "        optmzr = SGD(learning_rate=learning_rate)\n",
    "    elif optimizer=='RMSprop':\n",
    "        optmzr = RMSprop(learning_rate=learning_rate)\n",
    "    elif optimizer=='Adagrad':\n",
    "        optmzr = Adagrad(learning_rate=learning_rate)\n",
    "    else:\n",
    "        optmzr = Adam(learning_rate=learning_rate, beta_1=0.9, beta_2=0.999)\n",
    "    \n",
    "    model.compile(loss='binary_crossentropy',\n",
    "                  optimizer=optmzr,\n",
    "                  metrics=['accuracy'])\n",
    "    \n",
    "    model.save_weights('model_weights/initial.h5')\n",
    "\n",
    "    for fold_number in range(1,6):\n",
    "        model.load_weights('model_weights/initial.h5')\n",
    "        checkpoint = ModelCheckpoint(filepath=f'model_weights/dropout_trial{trial.number}_fold{fold_number}.h5', \n",
    "                                     save_weights_only=True, \n",
    "                                     monitor='val_accuracy', \n",
    "                                     mode='max', \n",
    "                                     save_best_only=True)\n",
    "        hist = model.fit(X[train_indices[fold_number], :], y[train_indices[fold_number]], \n",
    "                         validation_data=(X[validation_indices[fold_number], :], y[validation_indices[fold_number]]), \n",
    "                         epochs=70, \n",
    "                         batch_size=batch_size, \n",
    "                         shuffle=True, verbose=0, \n",
    "                         callbacks=[checkpoint])\n",
    "        dropout_model_scores.at[trial.number, f'Fold{fold_number}'] = max(hist.history['val_accuracy'])\n",
    "\n",
    "    os.remove('model_weights/initial.h5')\n",
    "\n",
    "    return dropout_model_scores.loc[trial.number, :].mean()\n",
    "\n",
    "\n",
    "study = optuna.create_study(direction=\"maximize\")\n",
    "study.optimize(dropout_model_trial, n_trials=n_trials, show_progress_bar=True)"
   ]
  },
  {
   "cell_type": "markdown",
   "id": "ed31a6af-6ec9-4f2d-93de-9351125fc245",
   "metadata": {},
   "source": [
    "Saving the validation scores and the hyperparameters in separate files."
   ]
  },
  {
   "cell_type": "code",
   "execution_count": 73,
   "id": "ea774372-af02-4a1c-b1bd-db3cd3df1638",
   "metadata": {},
   "outputs": [],
   "source": [
    "dropout_model_scores.to_csv('model_scores/dropout_model_scores.csv')"
   ]
  },
  {
   "cell_type": "code",
   "execution_count": 79,
   "id": "12628291-5da6-4c38-958e-4d7b2a504980",
   "metadata": {},
   "outputs": [],
   "source": [
    "pd.DataFrame({el.number : el.params for el in study.get_trials()}).T.to_csv('model_scores/dropout_model_params.csv')"
   ]
  },
  {
   "cell_type": "markdown",
   "id": "dc3a5546-fee9-4c92-a6b3-9f3e3cdcd01a",
   "metadata": {
    "jp-MarkdownHeadingCollapsed": true
   },
   "source": [
    "## Predictions on the test set"
   ]
  },
  {
   "cell_type": "markdown",
   "id": "17692365-41d7-4157-b37e-62e7a060bc51",
   "metadata": {},
   "source": [
    "Preparing the test dataset for predictions"
   ]
  },
  {
   "cell_type": "code",
   "execution_count": 44,
   "id": "352f9654-9726-4e53-b77e-fd07bc66e20b",
   "metadata": {},
   "outputs": [
    {
     "data": {
      "text/plain": [
       "(4277, 35)"
      ]
     },
     "execution_count": 44,
     "metadata": {},
     "output_type": "execute_result"
    }
   ],
   "source": [
    "test=test_df.drop(columns='PassengerId').to_numpy()\n",
    "test.shape"
   ]
  },
  {
   "cell_type": "markdown",
   "id": "fa8344ad-06d5-43da-b7ac-17aaa7855b19",
   "metadata": {},
   "source": [
    "In this section, for each of the 4 model types the following types of predictions are calculated:\n",
    "1. `Best single model`: using 1 model with the best validation accuracy.\n",
    "2. `Hard voting`: using the 5 models with the same hyperparameters that have the highest average validation accuracy for hard voting.\n",
    "3. `Soft voting`: using the 5 models with the same hyperparameters that have the highest average validation accuracy for soft voting. "
   ]
  },
  {
   "cell_type": "markdown",
   "id": "836bf714-db4f-474b-b16b-9f54a6b2b936",
   "metadata": {
    "jp-MarkdownHeadingCollapsed": true
   },
   "source": [
    "### Shallow models"
   ]
  },
  {
   "cell_type": "markdown",
   "id": "2aae2a23-6131-4517-9895-ef06e9888bff",
   "metadata": {},
   "source": [
    "Loading the shallow model scores and parameters."
   ]
  },
  {
   "cell_type": "code",
   "execution_count": 45,
   "id": "462db028-3d43-4535-8be9-c112598827fe",
   "metadata": {},
   "outputs": [],
   "source": [
    "shallow_scores=pd.read_csv('model_scores/shallow_model_scores.csv', index_col=0)\n",
    "shallow_params=pd.read_csv('model_scores/shallow_model_params.csv', index_col=0)"
   ]
  },
  {
   "cell_type": "markdown",
   "id": "e86f088f-c797-4329-8373-ac0ff1a42a19",
   "metadata": {
    "jp-MarkdownHeadingCollapsed": true
   },
   "source": [
    "#### Best single model"
   ]
  },
  {
   "cell_type": "markdown",
   "id": "5596b8c9-0258-4927-8faa-2ab715b48612",
   "metadata": {},
   "source": [
    "Seeing the best validation score for each fold and the number of trial associated with it."
   ]
  },
  {
   "cell_type": "code",
   "execution_count": 49,
   "id": "c8852156-9c1f-492b-ab25-6896a6696f85",
   "metadata": {},
   "outputs": [
    {
     "data": {
      "text/html": [
       "<div>\n",
       "<style scoped>\n",
       "    .dataframe tbody tr th:only-of-type {\n",
       "        vertical-align: middle;\n",
       "    }\n",
       "\n",
       "    .dataframe tbody tr th {\n",
       "        vertical-align: top;\n",
       "    }\n",
       "\n",
       "    .dataframe thead th {\n",
       "        text-align: right;\n",
       "    }\n",
       "</style>\n",
       "<table border=\"1\" class=\"dataframe\">\n",
       "  <thead>\n",
       "    <tr style=\"text-align: right;\">\n",
       "      <th></th>\n",
       "      <th>0</th>\n",
       "      <th>1</th>\n",
       "    </tr>\n",
       "  </thead>\n",
       "  <tbody>\n",
       "    <tr>\n",
       "      <th>Fold1</th>\n",
       "      <td>31</td>\n",
       "      <td>0.780909</td>\n",
       "    </tr>\n",
       "    <tr>\n",
       "      <th>Fold2</th>\n",
       "      <td>41</td>\n",
       "      <td>0.766532</td>\n",
       "    </tr>\n",
       "    <tr>\n",
       "      <th>Fold3</th>\n",
       "      <td>32</td>\n",
       "      <td>0.764807</td>\n",
       "    </tr>\n",
       "    <tr>\n",
       "      <th>Fold4</th>\n",
       "      <td>43</td>\n",
       "      <td>0.782509</td>\n",
       "    </tr>\n",
       "    <tr>\n",
       "      <th>Fold5</th>\n",
       "      <td>22</td>\n",
       "      <td>0.775604</td>\n",
       "    </tr>\n",
       "  </tbody>\n",
       "</table>\n",
       "</div>"
      ],
      "text/plain": [
       "        0         1\n",
       "Fold1  31  0.780909\n",
       "Fold2  41  0.766532\n",
       "Fold3  32  0.764807\n",
       "Fold4  43  0.782509\n",
       "Fold5  22  0.775604"
      ]
     },
     "execution_count": 49,
     "metadata": {},
     "output_type": "execute_result"
    }
   ],
   "source": [
    "pd.concat([shallow_scores.idxmax(), shallow_scores.max()], axis=1)"
   ]
  },
  {
   "cell_type": "markdown",
   "id": "f5ad0f3e-77a6-40c3-89d8-80bb89e8a7f9",
   "metadata": {},
   "source": [
    "The best score was achieved for fold 4 on trial 43. \n",
    "\n",
    "Checking the hyperparameters for trial 43."
   ]
  },
  {
   "cell_type": "code",
   "execution_count": 50,
   "id": "bf4caf5d-bf42-4fbd-9517-d1f36e8628fc",
   "metadata": {},
   "outputs": [
    {
     "data": {
      "text/plain": [
       "learning_rate    0.004183\n",
       "hidden_dim            102\n",
       "activation        sigmoid\n",
       "optimizer            Adam\n",
       "batch_size             32\n",
       "Name: 43, dtype: object"
      ]
     },
     "execution_count": 50,
     "metadata": {},
     "output_type": "execute_result"
    }
   ],
   "source": [
    "shallow_params.loc[43]"
   ]
  },
  {
   "cell_type": "markdown",
   "id": "cf62f951-bd38-4abe-a3d1-10f68ee7f006",
   "metadata": {},
   "source": [
    "Creating a model with these hyperparameters and loading weights from the appropriate file.  "
   ]
  },
  {
   "cell_type": "code",
   "execution_count": 54,
   "id": "e5e9f299-5a66-4fd7-a812-5666d0a59040",
   "metadata": {},
   "outputs": [
    {
     "name": "stdout",
     "output_type": "stream",
     "text": [
      "218/218 [==============================] - 0s 1ms/step\n",
      "Train score:  0.7677929547088426\n",
      "55/55 [==============================] - 0s 1ms/step\n",
      "Validation score:  0.7825086306098964\n"
     ]
    }
   ],
   "source": [
    "shallow_modle=create_shallow_model(activation='sigmoid', hidden_dim=102)\n",
    "shallow_modle.compile(loss='binary_crossentropy',\n",
    "              optimizer=Adam(learning_rate=0.004183, beta_1=0.9, beta_2=0.999),\n",
    "              metrics=['accuracy'])\n",
    "shallow_modle.load_weights('model_weights/shallow_trial43_fold4.h5')\n",
    "print('Train score: ', accuracy_score(y_true=y[train_indices[4]], \n",
    "               y_pred=(shallow_modle.predict(X[train_indices[4], :])>0.5).astype(float).reshape(-1)))\n",
    "print('Validation score: ', accuracy_score(y_true=y[validation_indices[4]], \n",
    "               y_pred=(shallow_modle.predict(X[validation_indices[4], :])>0.5).astype(float).reshape(-1)))"
   ]
  },
  {
   "cell_type": "markdown",
   "id": "c949b12c-7682-41ad-bb6f-0d27dae81d66",
   "metadata": {},
   "source": [
    "Creating the prediction on the test set and looking at the class distribution"
   ]
  },
  {
   "cell_type": "code",
   "execution_count": 55,
   "id": "6fc5b73b-ef0c-422e-a658-08d1084e1e4b",
   "metadata": {},
   "outputs": [
    {
     "name": "stdout",
     "output_type": "stream",
     "text": [
      "134/134 [==============================] - 0s 1ms/step\n"
     ]
    },
    {
     "data": {
      "text/plain": [
       "Transported\n",
       "0.0    2285\n",
       "1.0    1992\n",
       "Name: count, dtype: int64"
      ]
     },
     "execution_count": 55,
     "metadata": {},
     "output_type": "execute_result"
    }
   ],
   "source": [
    "test_pred=(shallow_modle.predict(test)>0.5).astype(float).reshape(-1)\n",
    "test_pred=pd.Series(test_pred, name='Transported')\n",
    "test_pred.value_counts()"
   ]
  },
  {
   "cell_type": "markdown",
   "id": "206dbb3c-d74b-46be-a32e-fc48aeed0925",
   "metadata": {},
   "source": [
    "This class distribution is more unbalanced than the one of the train set, which suggests that this model probably predicts True too few times."
   ]
  },
  {
   "cell_type": "markdown",
   "id": "4cabd275-3412-4c39-a5bc-8461cd28bc96",
   "metadata": {},
   "source": [
    "Saving the prediction as a separate csv file."
   ]
  },
  {
   "cell_type": "code",
   "execution_count": 56,
   "id": "f05c9f5a-5367-411c-8b82-80389399ab08",
   "metadata": {},
   "outputs": [
    {
     "data": {
      "text/html": [
       "<div>\n",
       "<style scoped>\n",
       "    .dataframe tbody tr th:only-of-type {\n",
       "        vertical-align: middle;\n",
       "    }\n",
       "\n",
       "    .dataframe tbody tr th {\n",
       "        vertical-align: top;\n",
       "    }\n",
       "\n",
       "    .dataframe thead th {\n",
       "        text-align: right;\n",
       "    }\n",
       "</style>\n",
       "<table border=\"1\" class=\"dataframe\">\n",
       "  <thead>\n",
       "    <tr style=\"text-align: right;\">\n",
       "      <th></th>\n",
       "      <th>PassengerId</th>\n",
       "      <th>Transported</th>\n",
       "    </tr>\n",
       "  </thead>\n",
       "  <tbody>\n",
       "    <tr>\n",
       "      <th>0</th>\n",
       "      <td>0013_01</td>\n",
       "      <td>True</td>\n",
       "    </tr>\n",
       "    <tr>\n",
       "      <th>1</th>\n",
       "      <td>0018_01</td>\n",
       "      <td>False</td>\n",
       "    </tr>\n",
       "    <tr>\n",
       "      <th>2</th>\n",
       "      <td>0019_01</td>\n",
       "      <td>True</td>\n",
       "    </tr>\n",
       "    <tr>\n",
       "      <th>3</th>\n",
       "      <td>0021_01</td>\n",
       "      <td>True</td>\n",
       "    </tr>\n",
       "    <tr>\n",
       "      <th>4</th>\n",
       "      <td>0023_01</td>\n",
       "      <td>False</td>\n",
       "    </tr>\n",
       "    <tr>\n",
       "      <th>...</th>\n",
       "      <td>...</td>\n",
       "      <td>...</td>\n",
       "    </tr>\n",
       "    <tr>\n",
       "      <th>4272</th>\n",
       "      <td>9266_02</td>\n",
       "      <td>True</td>\n",
       "    </tr>\n",
       "    <tr>\n",
       "      <th>4273</th>\n",
       "      <td>9269_01</td>\n",
       "      <td>False</td>\n",
       "    </tr>\n",
       "    <tr>\n",
       "      <th>4274</th>\n",
       "      <td>9271_01</td>\n",
       "      <td>True</td>\n",
       "    </tr>\n",
       "    <tr>\n",
       "      <th>4275</th>\n",
       "      <td>9273_01</td>\n",
       "      <td>True</td>\n",
       "    </tr>\n",
       "    <tr>\n",
       "      <th>4276</th>\n",
       "      <td>9277_01</td>\n",
       "      <td>True</td>\n",
       "    </tr>\n",
       "  </tbody>\n",
       "</table>\n",
       "<p>4277 rows × 2 columns</p>\n",
       "</div>"
      ],
      "text/plain": [
       "     PassengerId Transported\n",
       "0        0013_01        True\n",
       "1        0018_01       False\n",
       "2        0019_01        True\n",
       "3        0021_01        True\n",
       "4        0023_01       False\n",
       "...          ...         ...\n",
       "4272     9266_02        True\n",
       "4273     9269_01       False\n",
       "4274     9271_01        True\n",
       "4275     9273_01        True\n",
       "4276     9277_01        True\n",
       "\n",
       "[4277 rows x 2 columns]"
      ]
     },
     "execution_count": 56,
     "metadata": {},
     "output_type": "execute_result"
    }
   ],
   "source": [
    "prediction=pd.DataFrame([test_df.PassengerId, test_pred.astype(bool)]).T\n",
    "prediction"
   ]
  },
  {
   "cell_type": "code",
   "execution_count": 57,
   "id": "89ef4f7e-e7f2-4630-b5cd-f78d5637c1be",
   "metadata": {},
   "outputs": [],
   "source": [
    "prediction.to_csv('predictions/shallow_best_single_model.csv',index=False)"
   ]
  },
  {
   "cell_type": "markdown",
   "id": "358b1c83-3c71-4245-acdf-089c343a6e56",
   "metadata": {},
   "source": [
    "This prediction achieved the score of `0.76665` "
   ]
  },
  {
   "cell_type": "markdown",
   "id": "8cd390ad-b7b7-4f02-9354-cede3070dec1",
   "metadata": {
    "jp-MarkdownHeadingCollapsed": true
   },
   "source": [
    "#### Hard voting"
   ]
  },
  {
   "cell_type": "markdown",
   "id": "5dd78495-55e8-4753-892f-c0f9427daa49",
   "metadata": {},
   "source": [
    "The best-scoring trial, i.e. the trial with the highest average validation score, was trial 22.\n",
    "\n",
    "Checking the hyperparameters for trial 22. "
   ]
  },
  {
   "cell_type": "code",
   "execution_count": 58,
   "id": "89f32dc2-c327-431e-b609-628c5b1488d0",
   "metadata": {},
   "outputs": [
    {
     "data": {
      "text/plain": [
       "learning_rate      0.004172\n",
       "hidden_dim               90\n",
       "activation       leaky_relu\n",
       "optimizer              Adam\n",
       "batch_size               16\n",
       "Name: 22, dtype: object"
      ]
     },
     "execution_count": 58,
     "metadata": {},
     "output_type": "execute_result"
    }
   ],
   "source": [
    "shallow_params.loc[22]"
   ]
  },
  {
   "cell_type": "markdown",
   "id": "e51990c6-d596-4233-9cff-3ca36ac29340",
   "metadata": {},
   "source": [
    "Creating a model with these hyperparameters and getting the test predictions of the 5 models fit on 5 different folds by loading their weights.  "
   ]
  },
  {
   "cell_type": "code",
   "execution_count": 59,
   "id": "217ddcd5-55ba-48a0-af6c-6a2dba82f700",
   "metadata": {},
   "outputs": [
    {
     "name": "stdout",
     "output_type": "stream",
     "text": [
      "134/134 [==============================] - 0s 1ms/step\n",
      "134/134 [==============================] - 0s 1ms/step\n",
      "134/134 [==============================] - 0s 1ms/step\n",
      "134/134 [==============================] - 0s 1ms/step\n",
      "134/134 [==============================] - 0s 1ms/step\n"
     ]
    },
    {
     "data": {
      "text/html": [
       "<div>\n",
       "<style scoped>\n",
       "    .dataframe tbody tr th:only-of-type {\n",
       "        vertical-align: middle;\n",
       "    }\n",
       "\n",
       "    .dataframe tbody tr th {\n",
       "        vertical-align: top;\n",
       "    }\n",
       "\n",
       "    .dataframe thead th {\n",
       "        text-align: right;\n",
       "    }\n",
       "</style>\n",
       "<table border=\"1\" class=\"dataframe\">\n",
       "  <thead>\n",
       "    <tr style=\"text-align: right;\">\n",
       "      <th></th>\n",
       "      <th>1</th>\n",
       "      <th>2</th>\n",
       "      <th>3</th>\n",
       "      <th>4</th>\n",
       "      <th>5</th>\n",
       "    </tr>\n",
       "  </thead>\n",
       "  <tbody>\n",
       "    <tr>\n",
       "      <th>0</th>\n",
       "      <td>0.0</td>\n",
       "      <td>1.0</td>\n",
       "      <td>0.0</td>\n",
       "      <td>1.0</td>\n",
       "      <td>0.0</td>\n",
       "    </tr>\n",
       "    <tr>\n",
       "      <th>1</th>\n",
       "      <td>0.0</td>\n",
       "      <td>0.0</td>\n",
       "      <td>0.0</td>\n",
       "      <td>0.0</td>\n",
       "      <td>0.0</td>\n",
       "    </tr>\n",
       "    <tr>\n",
       "      <th>2</th>\n",
       "      <td>1.0</td>\n",
       "      <td>1.0</td>\n",
       "      <td>1.0</td>\n",
       "      <td>1.0</td>\n",
       "      <td>1.0</td>\n",
       "    </tr>\n",
       "    <tr>\n",
       "      <th>3</th>\n",
       "      <td>1.0</td>\n",
       "      <td>1.0</td>\n",
       "      <td>1.0</td>\n",
       "      <td>1.0</td>\n",
       "      <td>1.0</td>\n",
       "    </tr>\n",
       "    <tr>\n",
       "      <th>4</th>\n",
       "      <td>0.0</td>\n",
       "      <td>0.0</td>\n",
       "      <td>0.0</td>\n",
       "      <td>0.0</td>\n",
       "      <td>0.0</td>\n",
       "    </tr>\n",
       "    <tr>\n",
       "      <th>...</th>\n",
       "      <td>...</td>\n",
       "      <td>...</td>\n",
       "      <td>...</td>\n",
       "      <td>...</td>\n",
       "      <td>...</td>\n",
       "    </tr>\n",
       "    <tr>\n",
       "      <th>4272</th>\n",
       "      <td>1.0</td>\n",
       "      <td>1.0</td>\n",
       "      <td>1.0</td>\n",
       "      <td>1.0</td>\n",
       "      <td>1.0</td>\n",
       "    </tr>\n",
       "    <tr>\n",
       "      <th>4273</th>\n",
       "      <td>0.0</td>\n",
       "      <td>0.0</td>\n",
       "      <td>0.0</td>\n",
       "      <td>0.0</td>\n",
       "      <td>0.0</td>\n",
       "    </tr>\n",
       "    <tr>\n",
       "      <th>4274</th>\n",
       "      <td>1.0</td>\n",
       "      <td>1.0</td>\n",
       "      <td>1.0</td>\n",
       "      <td>1.0</td>\n",
       "      <td>1.0</td>\n",
       "    </tr>\n",
       "    <tr>\n",
       "      <th>4275</th>\n",
       "      <td>0.0</td>\n",
       "      <td>1.0</td>\n",
       "      <td>0.0</td>\n",
       "      <td>0.0</td>\n",
       "      <td>1.0</td>\n",
       "    </tr>\n",
       "    <tr>\n",
       "      <th>4276</th>\n",
       "      <td>1.0</td>\n",
       "      <td>1.0</td>\n",
       "      <td>1.0</td>\n",
       "      <td>1.0</td>\n",
       "      <td>1.0</td>\n",
       "    </tr>\n",
       "  </tbody>\n",
       "</table>\n",
       "<p>4277 rows × 5 columns</p>\n",
       "</div>"
      ],
      "text/plain": [
       "        1    2    3    4    5\n",
       "0     0.0  1.0  0.0  1.0  0.0\n",
       "1     0.0  0.0  0.0  0.0  0.0\n",
       "2     1.0  1.0  1.0  1.0  1.0\n",
       "3     1.0  1.0  1.0  1.0  1.0\n",
       "4     0.0  0.0  0.0  0.0  0.0\n",
       "...   ...  ...  ...  ...  ...\n",
       "4272  1.0  1.0  1.0  1.0  1.0\n",
       "4273  0.0  0.0  0.0  0.0  0.0\n",
       "4274  1.0  1.0  1.0  1.0  1.0\n",
       "4275  0.0  1.0  0.0  0.0  1.0\n",
       "4276  1.0  1.0  1.0  1.0  1.0\n",
       "\n",
       "[4277 rows x 5 columns]"
      ]
     },
     "execution_count": 59,
     "metadata": {},
     "output_type": "execute_result"
    }
   ],
   "source": [
    "test_preds={}\n",
    "muddle=create_shallow_model(activation='leaky_relu', hidden_dim=90)\n",
    "muddle.compile(loss='binary_crossentropy',\n",
    "              optimizer=Adam(learning_rate=0.004172, beta_1=0.9, beta_2=0.999),\n",
    "              metrics=['accuracy'])\n",
    "for fold_number in range(1,6):\n",
    "    muddle.load_weights(f'model_weights/shallow_trial22_fold{fold_number}.h5')\n",
    "    test_preds[fold_number]=(muddle.predict(test)>0.5).astype(float).reshape(-1)\n",
    "test_preds=pd.DataFrame(test_preds)\n",
    "test_preds"
   ]
  },
  {
   "cell_type": "markdown",
   "id": "d70b2842-64b0-439c-a6b8-0698f15dec4d",
   "metadata": {},
   "source": [
    "Creating the hard voting prediction by calculating the median value and looking at the class distribution."
   ]
  },
  {
   "cell_type": "code",
   "execution_count": 60,
   "id": "9da81d9f-e198-4988-a7d3-073be704b4c0",
   "metadata": {},
   "outputs": [
    {
     "data": {
      "text/plain": [
       "Transported\n",
       "0.0    2326\n",
       "1.0    1951\n",
       "Name: count, dtype: int64"
      ]
     },
     "execution_count": 60,
     "metadata": {},
     "output_type": "execute_result"
    }
   ],
   "source": [
    "combo_pred=test_preds.median(axis=1)\n",
    "combo_pred.name='Transported'\n",
    "combo_pred.value_counts()"
   ]
  },
  {
   "cell_type": "markdown",
   "id": "89d946ef-ad9c-4b09-94f7-e4957056c291",
   "metadata": {},
   "source": [
    "This distribution of this prediction is more unbalanced than the distribution of the \"best single model\" prediction.\n",
    "\n",
    "Saving the prediction as a separate csv file."
   ]
  },
  {
   "cell_type": "code",
   "execution_count": 61,
   "id": "85205cdf-bd38-4800-a92e-de9aa4a7a67e",
   "metadata": {},
   "outputs": [
    {
     "data": {
      "text/html": [
       "<div>\n",
       "<style scoped>\n",
       "    .dataframe tbody tr th:only-of-type {\n",
       "        vertical-align: middle;\n",
       "    }\n",
       "\n",
       "    .dataframe tbody tr th {\n",
       "        vertical-align: top;\n",
       "    }\n",
       "\n",
       "    .dataframe thead th {\n",
       "        text-align: right;\n",
       "    }\n",
       "</style>\n",
       "<table border=\"1\" class=\"dataframe\">\n",
       "  <thead>\n",
       "    <tr style=\"text-align: right;\">\n",
       "      <th></th>\n",
       "      <th>PassengerId</th>\n",
       "      <th>Transported</th>\n",
       "    </tr>\n",
       "  </thead>\n",
       "  <tbody>\n",
       "    <tr>\n",
       "      <th>0</th>\n",
       "      <td>0013_01</td>\n",
       "      <td>False</td>\n",
       "    </tr>\n",
       "    <tr>\n",
       "      <th>1</th>\n",
       "      <td>0018_01</td>\n",
       "      <td>False</td>\n",
       "    </tr>\n",
       "    <tr>\n",
       "      <th>2</th>\n",
       "      <td>0019_01</td>\n",
       "      <td>True</td>\n",
       "    </tr>\n",
       "    <tr>\n",
       "      <th>3</th>\n",
       "      <td>0021_01</td>\n",
       "      <td>True</td>\n",
       "    </tr>\n",
       "    <tr>\n",
       "      <th>4</th>\n",
       "      <td>0023_01</td>\n",
       "      <td>False</td>\n",
       "    </tr>\n",
       "    <tr>\n",
       "      <th>...</th>\n",
       "      <td>...</td>\n",
       "      <td>...</td>\n",
       "    </tr>\n",
       "    <tr>\n",
       "      <th>4272</th>\n",
       "      <td>9266_02</td>\n",
       "      <td>True</td>\n",
       "    </tr>\n",
       "    <tr>\n",
       "      <th>4273</th>\n",
       "      <td>9269_01</td>\n",
       "      <td>False</td>\n",
       "    </tr>\n",
       "    <tr>\n",
       "      <th>4274</th>\n",
       "      <td>9271_01</td>\n",
       "      <td>True</td>\n",
       "    </tr>\n",
       "    <tr>\n",
       "      <th>4275</th>\n",
       "      <td>9273_01</td>\n",
       "      <td>False</td>\n",
       "    </tr>\n",
       "    <tr>\n",
       "      <th>4276</th>\n",
       "      <td>9277_01</td>\n",
       "      <td>True</td>\n",
       "    </tr>\n",
       "  </tbody>\n",
       "</table>\n",
       "<p>4277 rows × 2 columns</p>\n",
       "</div>"
      ],
      "text/plain": [
       "     PassengerId Transported\n",
       "0        0013_01       False\n",
       "1        0018_01       False\n",
       "2        0019_01        True\n",
       "3        0021_01        True\n",
       "4        0023_01       False\n",
       "...          ...         ...\n",
       "4272     9266_02        True\n",
       "4273     9269_01       False\n",
       "4274     9271_01        True\n",
       "4275     9273_01       False\n",
       "4276     9277_01        True\n",
       "\n",
       "[4277 rows x 2 columns]"
      ]
     },
     "execution_count": 61,
     "metadata": {},
     "output_type": "execute_result"
    }
   ],
   "source": [
    "prediction_combo=pd.DataFrame([test_df.PassengerId, combo_pred.astype(bool)]).T\n",
    "prediction_combo"
   ]
  },
  {
   "cell_type": "code",
   "execution_count": 62,
   "id": "25e03b9b-63cf-4196-9f60-bd52045baecb",
   "metadata": {},
   "outputs": [],
   "source": [
    "prediction_combo.to_csv('predictions/shallow_combo.csv',index=False)"
   ]
  },
  {
   "cell_type": "markdown",
   "id": "16be443c-46cd-4a90-be70-ea8d79340ad2",
   "metadata": {},
   "source": [
    "This prediction achieved the score of `0.76736` "
   ]
  },
  {
   "cell_type": "markdown",
   "id": "3a25dd64-1629-4769-97a3-bbb9eedbef8a",
   "metadata": {
    "jp-MarkdownHeadingCollapsed": true
   },
   "source": [
    "#### Soft voting"
   ]
  },
  {
   "cell_type": "markdown",
   "id": "8867b7fc-3fc8-4622-9c1a-31e8c4ce362b",
   "metadata": {},
   "source": [
    "For soft voting, the actual model output is extracted from the same models"
   ]
  },
  {
   "cell_type": "code",
   "execution_count": 63,
   "id": "8c5f5d23-26bd-4b78-ac3e-8cf46b683be9",
   "metadata": {},
   "outputs": [
    {
     "name": "stdout",
     "output_type": "stream",
     "text": [
      "134/134 [==============================] - 0s 1ms/step\n",
      "134/134 [==============================] - 0s 1ms/step\n",
      "134/134 [==============================] - 0s 1ms/step\n",
      "134/134 [==============================] - 0s 1ms/step\n",
      "134/134 [==============================] - 0s 1ms/step\n"
     ]
    },
    {
     "data": {
      "text/html": [
       "<div>\n",
       "<style scoped>\n",
       "    .dataframe tbody tr th:only-of-type {\n",
       "        vertical-align: middle;\n",
       "    }\n",
       "\n",
       "    .dataframe tbody tr th {\n",
       "        vertical-align: top;\n",
       "    }\n",
       "\n",
       "    .dataframe thead th {\n",
       "        text-align: right;\n",
       "    }\n",
       "</style>\n",
       "<table border=\"1\" class=\"dataframe\">\n",
       "  <thead>\n",
       "    <tr style=\"text-align: right;\">\n",
       "      <th></th>\n",
       "      <th>1</th>\n",
       "      <th>2</th>\n",
       "      <th>3</th>\n",
       "      <th>4</th>\n",
       "      <th>5</th>\n",
       "    </tr>\n",
       "  </thead>\n",
       "  <tbody>\n",
       "    <tr>\n",
       "      <th>0</th>\n",
       "      <td>0.465036</td>\n",
       "      <td>0.630955</td>\n",
       "      <td>0.479872</td>\n",
       "      <td>0.651908</td>\n",
       "      <td>0.415402</td>\n",
       "    </tr>\n",
       "    <tr>\n",
       "      <th>1</th>\n",
       "      <td>0.180262</td>\n",
       "      <td>0.298111</td>\n",
       "      <td>0.090292</td>\n",
       "      <td>0.328308</td>\n",
       "      <td>0.015027</td>\n",
       "    </tr>\n",
       "    <tr>\n",
       "      <th>2</th>\n",
       "      <td>0.999755</td>\n",
       "      <td>0.998551</td>\n",
       "      <td>0.999998</td>\n",
       "      <td>0.998452</td>\n",
       "      <td>0.999989</td>\n",
       "    </tr>\n",
       "    <tr>\n",
       "      <th>3</th>\n",
       "      <td>0.614001</td>\n",
       "      <td>0.523583</td>\n",
       "      <td>0.571356</td>\n",
       "      <td>0.528540</td>\n",
       "      <td>0.566190</td>\n",
       "    </tr>\n",
       "    <tr>\n",
       "      <th>4</th>\n",
       "      <td>0.215698</td>\n",
       "      <td>0.301513</td>\n",
       "      <td>0.337676</td>\n",
       "      <td>0.388507</td>\n",
       "      <td>0.164882</td>\n",
       "    </tr>\n",
       "    <tr>\n",
       "      <th>...</th>\n",
       "      <td>...</td>\n",
       "      <td>...</td>\n",
       "      <td>...</td>\n",
       "      <td>...</td>\n",
       "      <td>...</td>\n",
       "    </tr>\n",
       "    <tr>\n",
       "      <th>4272</th>\n",
       "      <td>0.883107</td>\n",
       "      <td>0.795236</td>\n",
       "      <td>0.835899</td>\n",
       "      <td>0.816177</td>\n",
       "      <td>0.778831</td>\n",
       "    </tr>\n",
       "    <tr>\n",
       "      <th>4273</th>\n",
       "      <td>0.450122</td>\n",
       "      <td>0.305516</td>\n",
       "      <td>0.300116</td>\n",
       "      <td>0.270281</td>\n",
       "      <td>0.203342</td>\n",
       "    </tr>\n",
       "    <tr>\n",
       "      <th>4274</th>\n",
       "      <td>0.995152</td>\n",
       "      <td>0.971168</td>\n",
       "      <td>0.997316</td>\n",
       "      <td>0.933874</td>\n",
       "      <td>0.997133</td>\n",
       "    </tr>\n",
       "    <tr>\n",
       "      <th>4275</th>\n",
       "      <td>0.240986</td>\n",
       "      <td>0.675797</td>\n",
       "      <td>0.026259</td>\n",
       "      <td>0.227561</td>\n",
       "      <td>0.889799</td>\n",
       "    </tr>\n",
       "    <tr>\n",
       "      <th>4276</th>\n",
       "      <td>0.787979</td>\n",
       "      <td>0.787732</td>\n",
       "      <td>0.844271</td>\n",
       "      <td>0.784553</td>\n",
       "      <td>0.612434</td>\n",
       "    </tr>\n",
       "  </tbody>\n",
       "</table>\n",
       "<p>4277 rows × 5 columns</p>\n",
       "</div>"
      ],
      "text/plain": [
       "             1         2         3         4         5\n",
       "0     0.465036  0.630955  0.479872  0.651908  0.415402\n",
       "1     0.180262  0.298111  0.090292  0.328308  0.015027\n",
       "2     0.999755  0.998551  0.999998  0.998452  0.999989\n",
       "3     0.614001  0.523583  0.571356  0.528540  0.566190\n",
       "4     0.215698  0.301513  0.337676  0.388507  0.164882\n",
       "...        ...       ...       ...       ...       ...\n",
       "4272  0.883107  0.795236  0.835899  0.816177  0.778831\n",
       "4273  0.450122  0.305516  0.300116  0.270281  0.203342\n",
       "4274  0.995152  0.971168  0.997316  0.933874  0.997133\n",
       "4275  0.240986  0.675797  0.026259  0.227561  0.889799\n",
       "4276  0.787979  0.787732  0.844271  0.784553  0.612434\n",
       "\n",
       "[4277 rows x 5 columns]"
      ]
     },
     "execution_count": 63,
     "metadata": {},
     "output_type": "execute_result"
    }
   ],
   "source": [
    "test_preds={}\n",
    "muddle=create_shallow_model(activation='leaky_relu', hidden_dim=90)\n",
    "muddle.compile(loss='binary_crossentropy',\n",
    "              optimizer=Adam(learning_rate=0.004172, beta_1=0.9, beta_2=0.999),\n",
    "              metrics=['accuracy'])\n",
    "for fold_number in range(1,6):\n",
    "    muddle.load_weights(f'model_weights/shallow_trial22_fold{fold_number}.h5')\n",
    "    test_preds[fold_number]=(muddle.predict(test)).reshape(-1)\n",
    "test_preds=pd.DataFrame(test_preds)\n",
    "test_preds"
   ]
  },
  {
   "cell_type": "markdown",
   "id": "57282f9e-4984-4d49-bb4b-631e36f7296b",
   "metadata": {},
   "source": [
    "Creating the hard voting prediction by calculating the sum and comparing it with 2.5, which is half of the number of models."
   ]
  },
  {
   "cell_type": "code",
   "execution_count": 64,
   "id": "98e4d7ff-2961-494c-96d9-ad554f34846d",
   "metadata": {},
   "outputs": [
    {
     "data": {
      "text/plain": [
       "Transported\n",
       "False    2296\n",
       "True     1981\n",
       "Name: count, dtype: int64"
      ]
     },
     "execution_count": 64,
     "metadata": {},
     "output_type": "execute_result"
    }
   ],
   "source": [
    "sum_pred=(test_preds.sum(axis=1)>2.5)\n",
    "sum_pred.name='Transported'\n",
    "sum_pred.value_counts()"
   ]
  },
  {
   "cell_type": "markdown",
   "id": "d6ba9226-affa-4b33-89f3-74fb01a21955",
   "metadata": {},
   "source": [
    "For soft voting, the class distribution is more balanced than for hard voting.\r\n",
    "\r\n",
    "Saving the prediction as a separate csv file."
   ]
  },
  {
   "cell_type": "code",
   "execution_count": 65,
   "id": "cfd68d2f-1afc-439e-b175-9a9e8a18ece5",
   "metadata": {},
   "outputs": [
    {
     "data": {
      "text/html": [
       "<div>\n",
       "<style scoped>\n",
       "    .dataframe tbody tr th:only-of-type {\n",
       "        vertical-align: middle;\n",
       "    }\n",
       "\n",
       "    .dataframe tbody tr th {\n",
       "        vertical-align: top;\n",
       "    }\n",
       "\n",
       "    .dataframe thead th {\n",
       "        text-align: right;\n",
       "    }\n",
       "</style>\n",
       "<table border=\"1\" class=\"dataframe\">\n",
       "  <thead>\n",
       "    <tr style=\"text-align: right;\">\n",
       "      <th></th>\n",
       "      <th>PassengerId</th>\n",
       "      <th>Transported</th>\n",
       "    </tr>\n",
       "  </thead>\n",
       "  <tbody>\n",
       "    <tr>\n",
       "      <th>0</th>\n",
       "      <td>0013_01</td>\n",
       "      <td>True</td>\n",
       "    </tr>\n",
       "    <tr>\n",
       "      <th>1</th>\n",
       "      <td>0018_01</td>\n",
       "      <td>False</td>\n",
       "    </tr>\n",
       "    <tr>\n",
       "      <th>2</th>\n",
       "      <td>0019_01</td>\n",
       "      <td>True</td>\n",
       "    </tr>\n",
       "    <tr>\n",
       "      <th>3</th>\n",
       "      <td>0021_01</td>\n",
       "      <td>True</td>\n",
       "    </tr>\n",
       "    <tr>\n",
       "      <th>4</th>\n",
       "      <td>0023_01</td>\n",
       "      <td>False</td>\n",
       "    </tr>\n",
       "    <tr>\n",
       "      <th>...</th>\n",
       "      <td>...</td>\n",
       "      <td>...</td>\n",
       "    </tr>\n",
       "    <tr>\n",
       "      <th>4272</th>\n",
       "      <td>9266_02</td>\n",
       "      <td>True</td>\n",
       "    </tr>\n",
       "    <tr>\n",
       "      <th>4273</th>\n",
       "      <td>9269_01</td>\n",
       "      <td>False</td>\n",
       "    </tr>\n",
       "    <tr>\n",
       "      <th>4274</th>\n",
       "      <td>9271_01</td>\n",
       "      <td>True</td>\n",
       "    </tr>\n",
       "    <tr>\n",
       "      <th>4275</th>\n",
       "      <td>9273_01</td>\n",
       "      <td>False</td>\n",
       "    </tr>\n",
       "    <tr>\n",
       "      <th>4276</th>\n",
       "      <td>9277_01</td>\n",
       "      <td>True</td>\n",
       "    </tr>\n",
       "  </tbody>\n",
       "</table>\n",
       "<p>4277 rows × 2 columns</p>\n",
       "</div>"
      ],
      "text/plain": [
       "     PassengerId Transported\n",
       "0        0013_01        True\n",
       "1        0018_01       False\n",
       "2        0019_01        True\n",
       "3        0021_01        True\n",
       "4        0023_01       False\n",
       "...          ...         ...\n",
       "4272     9266_02        True\n",
       "4273     9269_01       False\n",
       "4274     9271_01        True\n",
       "4275     9273_01       False\n",
       "4276     9277_01        True\n",
       "\n",
       "[4277 rows x 2 columns]"
      ]
     },
     "execution_count": 65,
     "metadata": {},
     "output_type": "execute_result"
    }
   ],
   "source": [
    "prediction_sum=pd.DataFrame([test_df.PassengerId, sum_pred]).T\n",
    "prediction_sum"
   ]
  },
  {
   "cell_type": "code",
   "execution_count": 66,
   "id": "12d88668-0d53-41d6-87f4-6c3a00848d37",
   "metadata": {},
   "outputs": [],
   "source": [
    "prediction_sum.to_csv('predictions/shallow_sum.csv',index=False)"
   ]
  },
  {
   "cell_type": "markdown",
   "id": "9d20b5ed-020b-4baf-8f29-31b420ccc36f",
   "metadata": {},
   "source": [
    "This prediction achieved the score of `0.77063` "
   ]
  },
  {
   "cell_type": "markdown",
   "id": "6e7ec721-27d0-48ca-a63e-25bf070cdb96",
   "metadata": {},
   "source": [
    "Same things were done for the other types of models."
   ]
  },
  {
   "cell_type": "markdown",
   "id": "887b4a1d-5a8d-4f7f-900a-d35e8e4a61ad",
   "metadata": {
    "jp-MarkdownHeadingCollapsed": true
   },
   "source": [
    "### Deeper models"
   ]
  },
  {
   "cell_type": "code",
   "execution_count": 67,
   "id": "e5053560-b0b8-4735-9425-5a2546b95063",
   "metadata": {},
   "outputs": [],
   "source": [
    "deeper_scores=pd.read_csv('model_scores/deeper_model_scores.csv', index_col=0)\n",
    "deeper_params=pd.read_csv('model_scores/deeper_model_params.csv', index_col=0)"
   ]
  },
  {
   "cell_type": "markdown",
   "id": "d9322d61-1a9b-45cc-acf3-dca243483ce0",
   "metadata": {
    "jp-MarkdownHeadingCollapsed": true
   },
   "source": [
    "#### Best single model"
   ]
  },
  {
   "cell_type": "code",
   "execution_count": 68,
   "id": "d8f0c586-8d52-4479-9f5c-45a416f17d81",
   "metadata": {},
   "outputs": [
    {
     "data": {
      "text/html": [
       "<div>\n",
       "<style scoped>\n",
       "    .dataframe tbody tr th:only-of-type {\n",
       "        vertical-align: middle;\n",
       "    }\n",
       "\n",
       "    .dataframe tbody tr th {\n",
       "        vertical-align: top;\n",
       "    }\n",
       "\n",
       "    .dataframe thead th {\n",
       "        text-align: right;\n",
       "    }\n",
       "</style>\n",
       "<table border=\"1\" class=\"dataframe\">\n",
       "  <thead>\n",
       "    <tr style=\"text-align: right;\">\n",
       "      <th></th>\n",
       "      <th>0</th>\n",
       "      <th>1</th>\n",
       "    </tr>\n",
       "  </thead>\n",
       "  <tbody>\n",
       "    <tr>\n",
       "      <th>Fold1</th>\n",
       "      <td>32</td>\n",
       "      <td>0.781484</td>\n",
       "    </tr>\n",
       "    <tr>\n",
       "      <th>Fold2</th>\n",
       "      <td>14</td>\n",
       "      <td>0.765382</td>\n",
       "    </tr>\n",
       "    <tr>\n",
       "      <th>Fold3</th>\n",
       "      <td>32</td>\n",
       "      <td>0.762507</td>\n",
       "    </tr>\n",
       "    <tr>\n",
       "      <th>Fold4</th>\n",
       "      <td>45</td>\n",
       "      <td>0.780207</td>\n",
       "    </tr>\n",
       "    <tr>\n",
       "      <th>Fold5</th>\n",
       "      <td>41</td>\n",
       "      <td>0.773878</td>\n",
       "    </tr>\n",
       "  </tbody>\n",
       "</table>\n",
       "</div>"
      ],
      "text/plain": [
       "        0         1\n",
       "Fold1  32  0.781484\n",
       "Fold2  14  0.765382\n",
       "Fold3  32  0.762507\n",
       "Fold4  45  0.780207\n",
       "Fold5  41  0.773878"
      ]
     },
     "execution_count": 68,
     "metadata": {},
     "output_type": "execute_result"
    }
   ],
   "source": [
    "pd.concat([deeper_scores.idxmax(), deeper_scores.max()], axis=1)"
   ]
  },
  {
   "cell_type": "code",
   "execution_count": 69,
   "id": "5d9ebc94-bb83-4b51-a373-ae9e2fe8eae3",
   "metadata": {},
   "outputs": [
    {
     "data": {
      "text/plain": [
       "learning_rate      0.002435\n",
       "hidden_dim              162\n",
       "activation       leaky_relu\n",
       "optimizer              Adam\n",
       "batch_size                8\n",
       "Name: 32, dtype: object"
      ]
     },
     "execution_count": 69,
     "metadata": {},
     "output_type": "execute_result"
    }
   ],
   "source": [
    "deeper_params.loc[32]"
   ]
  },
  {
   "cell_type": "code",
   "execution_count": 86,
   "id": "bedfefd2-153c-4bfa-a72c-cc31d4950697",
   "metadata": {},
   "outputs": [
    {
     "name": "stdout",
     "output_type": "stream",
     "text": [
      "218/218 [==============================] - 0s 1ms/step\n",
      "Train score:  0.810468794938165\n",
      "55/55 [==============================] - 0s 1ms/step\n",
      "Validation score:  0.7814836112708453\n"
     ]
    }
   ],
   "source": [
    "deeper_modle=create_deeper_model(activation='leaky_relu', hidden_dim=162)\n",
    "deeper_modle.compile(loss='binary_crossentropy',\n",
    "              optimizer=Adam(learning_rate=0.002435, beta_1=0.9, beta_2=0.999),\n",
    "              metrics=['accuracy'])\n",
    "deeper_modle.load_weights('model_weights/deeper_trial32_fold1.h5')\n",
    "print('Train score: ', accuracy_score(y_true=y[train_indices[1]], \n",
    "               y_pred=(deeper_modle.predict(X[train_indices[1], :])>0.5).astype(float).reshape(-1)))\n",
    "print('Validation score: ', accuracy_score(y_true=y[validation_indices[1]], \n",
    "               y_pred=(deeper_modle.predict(X[validation_indices[1], :])>0.5).astype(float).reshape(-1)))"
   ]
  },
  {
   "cell_type": "code",
   "execution_count": 87,
   "id": "45c08e30-d9e8-4c94-8d06-4d0c2bfe6a9d",
   "metadata": {},
   "outputs": [
    {
     "name": "stdout",
     "output_type": "stream",
     "text": [
      "134/134 [==============================] - 0s 1ms/step\n"
     ]
    },
    {
     "data": {
      "text/plain": [
       "Transported\n",
       "0.0    2190\n",
       "1.0    2087\n",
       "Name: count, dtype: int64"
      ]
     },
     "execution_count": 87,
     "metadata": {},
     "output_type": "execute_result"
    }
   ],
   "source": [
    "test_pred=(deeper_modle.predict(test)>0.5).astype(float).reshape(-1)\n",
    "test_pred=pd.Series(test_pred, name='Transported')\n",
    "test_pred.value_counts()"
   ]
  },
  {
   "cell_type": "code",
   "execution_count": 88,
   "id": "e949f875-37b2-40a3-b741-0bb72dbb83dd",
   "metadata": {},
   "outputs": [],
   "source": [
    "prediction=pd.DataFrame([test_df.PassengerId, test_pred.astype(bool)]).T\n",
    "prediction.to_csv('predictions/deeper_best_single_model.csv',index=False)"
   ]
  },
  {
   "cell_type": "markdown",
   "id": "425e89fa-2786-4e97-b123-32671d54d1ae",
   "metadata": {},
   "source": [
    "This prediction achieved the score of `0.76923` "
   ]
  },
  {
   "cell_type": "markdown",
   "id": "25393d73-039e-43e6-966b-d24726bd0a4f",
   "metadata": {
    "jp-MarkdownHeadingCollapsed": true
   },
   "source": [
    "#### Hard voting"
   ]
  },
  {
   "cell_type": "code",
   "execution_count": 73,
   "id": "d860a333-c5da-4a1f-9dcc-1d3dfef4c7c6",
   "metadata": {},
   "outputs": [
    {
     "data": {
      "text/plain": [
       "learning_rate      0.002435\n",
       "hidden_dim              162\n",
       "activation       leaky_relu\n",
       "optimizer              Adam\n",
       "batch_size                8\n",
       "Name: 32, dtype: object"
      ]
     },
     "execution_count": 73,
     "metadata": {},
     "output_type": "execute_result"
    }
   ],
   "source": [
    "deeper_params.loc[32]"
   ]
  },
  {
   "cell_type": "code",
   "execution_count": 74,
   "id": "c3f490b7-e8dd-4195-8b88-b2fbd145689f",
   "metadata": {},
   "outputs": [
    {
     "name": "stdout",
     "output_type": "stream",
     "text": [
      "134/134 [==============================] - 0s 1ms/step\n",
      "134/134 [==============================] - 0s 1ms/step\n",
      "134/134 [==============================] - 0s 1ms/step\n",
      "134/134 [==============================] - 0s 2ms/step\n",
      "134/134 [==============================] - 0s 1ms/step\n"
     ]
    },
    {
     "data": {
      "text/plain": [
       "Transported\n",
       "0.0    2308\n",
       "1.0    1969\n",
       "Name: count, dtype: int64"
      ]
     },
     "execution_count": 74,
     "metadata": {},
     "output_type": "execute_result"
    }
   ],
   "source": [
    "test_preds={}\n",
    "muddle=create_deeper_model(activation='leaky_relu', hidden_dim=162)\n",
    "muddle.compile(loss='binary_crossentropy',\n",
    "              optimizer=Adam(learning_rate=0.002435, beta_1=0.9, beta_2=0.999),\n",
    "              metrics=['accuracy'])\n",
    "for fold_number in range(1,6):\n",
    "    muddle.load_weights(f'model_weights/deeper_trial32_fold{fold_number}.h5')\n",
    "    test_preds[fold_number]=(muddle.predict(test)>0.5).astype(float).reshape(-1)\n",
    "test_preds=pd.DataFrame(test_preds)\n",
    "\n",
    "combo_pred=test_preds.median(axis=1)\n",
    "combo_pred.name='Transported'\n",
    "combo_pred.value_counts()"
   ]
  },
  {
   "cell_type": "code",
   "execution_count": 75,
   "id": "8cf4e664-6dcb-48f9-ac86-e4a5541f2ba2",
   "metadata": {},
   "outputs": [],
   "source": [
    "prediction_combo=pd.DataFrame([test_df.PassengerId, combo_pred.astype(bool)]).T\n",
    "prediction_combo.to_csv('predictions/deeper_combo.csv',index=False)"
   ]
  },
  {
   "cell_type": "markdown",
   "id": "4d3a72c0-a09d-4057-9b94-965613f00abc",
   "metadata": {},
   "source": [
    "This prediction achieved the score of `0.76876` "
   ]
  },
  {
   "cell_type": "markdown",
   "id": "2a84e38c-8849-4ee2-b36e-b85ff7e7137f",
   "metadata": {
    "jp-MarkdownHeadingCollapsed": true
   },
   "source": [
    "#### Soft voting"
   ]
  },
  {
   "cell_type": "code",
   "execution_count": 77,
   "id": "6a5c792a-854e-433a-a1cf-0badbb28108d",
   "metadata": {},
   "outputs": [
    {
     "name": "stdout",
     "output_type": "stream",
     "text": [
      "134/134 [==============================] - 0s 1ms/step\n",
      "134/134 [==============================] - 0s 1ms/step\n",
      "134/134 [==============================] - 0s 1ms/step\n",
      "134/134 [==============================] - 0s 2ms/step\n",
      "134/134 [==============================] - 0s 1ms/step\n"
     ]
    },
    {
     "data": {
      "text/plain": [
       "Transported\n",
       "False    2305\n",
       "True     1972\n",
       "Name: count, dtype: int64"
      ]
     },
     "execution_count": 77,
     "metadata": {},
     "output_type": "execute_result"
    }
   ],
   "source": [
    "test_preds={}\n",
    "muddle=create_deeper_model(activation='leaky_relu', hidden_dim=162)\n",
    "muddle.compile(loss='binary_crossentropy',\n",
    "              optimizer=Adam(learning_rate=0.002435, beta_1=0.9, beta_2=0.999),\n",
    "              metrics=['accuracy'])\n",
    "for fold_number in range(1,6):\n",
    "    muddle.load_weights(f'model_weights/deeper_trial32_fold{fold_number}.h5')\n",
    "    test_preds[fold_number]=(muddle.predict(test)).reshape(-1)\n",
    "test_preds=pd.DataFrame(test_preds)\n",
    "\n",
    "sum_pred=(test_preds.sum(axis=1)>2.5)\n",
    "sum_pred.name='Transported'\n",
    "sum_pred.value_counts()"
   ]
  },
  {
   "cell_type": "code",
   "execution_count": 78,
   "id": "941d8951-29ed-48bc-9300-ee13811f4f4b",
   "metadata": {},
   "outputs": [],
   "source": [
    "prediction_sum=pd.DataFrame([test_df.PassengerId, sum_pred]).T\n",
    "prediction_sum.to_csv('predictions/deeper_sum.csv',index=False)"
   ]
  },
  {
   "cell_type": "markdown",
   "id": "0560dcff-f267-425c-9f86-366382b091bc",
   "metadata": {},
   "source": [
    "This prediction achieved the score of `0.77180` "
   ]
  },
  {
   "cell_type": "markdown",
   "id": "48a26099-6318-43ff-b714-df6982a9a493",
   "metadata": {
    "jp-MarkdownHeadingCollapsed": true
   },
   "source": [
    "### Batchnorm models"
   ]
  },
  {
   "cell_type": "code",
   "execution_count": 80,
   "id": "41bec1cc-095d-44aa-99c8-78e818cdc6b0",
   "metadata": {},
   "outputs": [],
   "source": [
    "batchnorm_scores=pd.read_csv('model_scores/batchnorm_model_scores.csv', index_col=0)\n",
    "batchnorm_params=pd.read_csv('model_scores/batchnorm_model_params.csv', index_col=0)"
   ]
  },
  {
   "cell_type": "markdown",
   "id": "cd69b69e-d17d-44ab-a305-f3461b3d834e",
   "metadata": {
    "jp-MarkdownHeadingCollapsed": true
   },
   "source": [
    "#### Best single model"
   ]
  },
  {
   "cell_type": "code",
   "execution_count": 81,
   "id": "104e9502-89d6-4538-bede-ca4ae7fbe9b8",
   "metadata": {},
   "outputs": [
    {
     "data": {
      "text/html": [
       "<div>\n",
       "<style scoped>\n",
       "    .dataframe tbody tr th:only-of-type {\n",
       "        vertical-align: middle;\n",
       "    }\n",
       "\n",
       "    .dataframe tbody tr th {\n",
       "        vertical-align: top;\n",
       "    }\n",
       "\n",
       "    .dataframe thead th {\n",
       "        text-align: right;\n",
       "    }\n",
       "</style>\n",
       "<table border=\"1\" class=\"dataframe\">\n",
       "  <thead>\n",
       "    <tr style=\"text-align: right;\">\n",
       "      <th></th>\n",
       "      <th>0</th>\n",
       "      <th>1</th>\n",
       "    </tr>\n",
       "  </thead>\n",
       "  <tbody>\n",
       "    <tr>\n",
       "      <th>Fold1</th>\n",
       "      <td>47</td>\n",
       "      <td>0.789534</td>\n",
       "    </tr>\n",
       "    <tr>\n",
       "      <th>Fold2</th>\n",
       "      <td>16</td>\n",
       "      <td>0.773433</td>\n",
       "    </tr>\n",
       "    <tr>\n",
       "      <th>Fold3</th>\n",
       "      <td>42</td>\n",
       "      <td>0.774008</td>\n",
       "    </tr>\n",
       "    <tr>\n",
       "      <th>Fold4</th>\n",
       "      <td>42</td>\n",
       "      <td>0.787687</td>\n",
       "    </tr>\n",
       "    <tr>\n",
       "      <th>Fold5</th>\n",
       "      <td>21</td>\n",
       "      <td>0.782509</td>\n",
       "    </tr>\n",
       "  </tbody>\n",
       "</table>\n",
       "</div>"
      ],
      "text/plain": [
       "        0         1\n",
       "Fold1  47  0.789534\n",
       "Fold2  16  0.773433\n",
       "Fold3  42  0.774008\n",
       "Fold4  42  0.787687\n",
       "Fold5  21  0.782509"
      ]
     },
     "execution_count": 81,
     "metadata": {},
     "output_type": "execute_result"
    }
   ],
   "source": [
    "pd.concat([batchnorm_scores.idxmax(), batchnorm_scores.max()], axis=1)"
   ]
  },
  {
   "cell_type": "code",
   "execution_count": 83,
   "id": "6da7a5d6-1ef5-4785-a70c-2a4406b53803",
   "metadata": {},
   "outputs": [
    {
     "data": {
      "text/plain": [
       "learning_rate      0.006773\n",
       "hidden_dim              164\n",
       "activation       leaky_relu\n",
       "optimizer           RMSprop\n",
       "batch_size               24\n",
       "Name: 47, dtype: object"
      ]
     },
     "execution_count": 83,
     "metadata": {},
     "output_type": "execute_result"
    }
   ],
   "source": [
    "batchnorm_params.loc[47]"
   ]
  },
  {
   "cell_type": "code",
   "execution_count": 89,
   "id": "df17de9f-c589-4001-8d12-ba84b64962c8",
   "metadata": {},
   "outputs": [
    {
     "name": "stdout",
     "output_type": "stream",
     "text": [
      "218/218 [==============================] - 0s 1ms/step\n",
      "Train score:  0.819959735404084\n",
      "55/55 [==============================] - 0s 2ms/step\n",
      "Validation score:  0.78953421506613\n"
     ]
    }
   ],
   "source": [
    "batchnorm_modle=create_batchnorm_model(activation='leaky_relu', hidden_dim=164)\n",
    "batchnorm_modle.compile(loss='binary_crossentropy',\n",
    "              optimizer=RMSprop(learning_rate=0.006773),\n",
    "              metrics=['accuracy'])\n",
    "batchnorm_modle.load_weights('model_weights/batchnorm_trial47_fold1.h5')\n",
    "print('Train score: ', accuracy_score(y_true=y[train_indices[1]], \n",
    "               y_pred=(batchnorm_modle.predict(X[train_indices[1], :])>0.5).astype(float).reshape(-1)))\n",
    "print('Validation score: ', accuracy_score(y_true=y[validation_indices[1]], \n",
    "               y_pred=(batchnorm_modle.predict(X[validation_indices[1], :])>0.5).astype(float).reshape(-1)))"
   ]
  },
  {
   "cell_type": "code",
   "execution_count": 90,
   "id": "fec0cab5-cc7d-4b00-976d-dfeed0b63a0e",
   "metadata": {},
   "outputs": [
    {
     "name": "stdout",
     "output_type": "stream",
     "text": [
      "134/134 [==============================] - 0s 2ms/step\n"
     ]
    },
    {
     "data": {
      "text/plain": [
       "Transported\n",
       "1.0    2202\n",
       "0.0    2075\n",
       "Name: count, dtype: int64"
      ]
     },
     "execution_count": 90,
     "metadata": {},
     "output_type": "execute_result"
    }
   ],
   "source": [
    "test_pred=(batchnorm_modle.predict(test)>0.5).astype(float).reshape(-1)\n",
    "test_pred=pd.Series(test_pred, name='Transported')\n",
    "test_pred.value_counts()"
   ]
  },
  {
   "cell_type": "code",
   "execution_count": 91,
   "id": "59d93ec8-ccd1-4e7e-bfb4-8cfa4fe3dec2",
   "metadata": {},
   "outputs": [],
   "source": [
    "prediction=pd.DataFrame([test_df.PassengerId, test_pred.astype(bool)]).T\n",
    "prediction.to_csv('predictions/batchnorm_best_single_model.csv',index=False)"
   ]
  },
  {
   "cell_type": "markdown",
   "id": "98447836-a049-45cb-a940-d40537f5bdb6",
   "metadata": {},
   "source": [
    "This prediction achieved the score of `0.76291` "
   ]
  },
  {
   "cell_type": "markdown",
   "id": "0b03dbec-8cbc-4934-a86e-6aa8d42d09ab",
   "metadata": {
    "jp-MarkdownHeadingCollapsed": true
   },
   "source": [
    "#### Hard voting"
   ]
  },
  {
   "cell_type": "code",
   "execution_count": 93,
   "id": "7be8dd72-cec0-4abf-955e-47b06e1ecdb2",
   "metadata": {},
   "outputs": [
    {
     "data": {
      "text/plain": [
       "learning_rate      0.009557\n",
       "hidden_dim              164\n",
       "activation       leaky_relu\n",
       "optimizer           RMSprop\n",
       "batch_size               32\n",
       "Name: 16, dtype: object"
      ]
     },
     "execution_count": 93,
     "metadata": {},
     "output_type": "execute_result"
    }
   ],
   "source": [
    "batchnorm_params.loc[16]"
   ]
  },
  {
   "cell_type": "code",
   "execution_count": 94,
   "id": "267c2867-d7de-4aa9-834f-9325ce3ff718",
   "metadata": {},
   "outputs": [
    {
     "name": "stdout",
     "output_type": "stream",
     "text": [
      "134/134 [==============================] - 0s 1ms/step\n",
      "134/134 [==============================] - 0s 1ms/step\n",
      "134/134 [==============================] - 0s 1ms/step\n",
      "134/134 [==============================] - 0s 2ms/step\n",
      "134/134 [==============================] - 0s 2ms/step\n"
     ]
    },
    {
     "data": {
      "text/plain": [
       "Transported\n",
       "0.0    2208\n",
       "1.0    2069\n",
       "Name: count, dtype: int64"
      ]
     },
     "execution_count": 94,
     "metadata": {},
     "output_type": "execute_result"
    }
   ],
   "source": [
    "test_preds={}\n",
    "muddle=create_batchnorm_model(activation='leaky_relu', hidden_dim=164)\n",
    "muddle.compile(loss='binary_crossentropy',\n",
    "              optimizer=RMSprop(learning_rate=0.009557),\n",
    "              metrics=['accuracy'])\n",
    "for fold_number in range(1,6):\n",
    "    muddle.load_weights(f'model_weights/batchnorm_trial16_fold{fold_number}.h5')\n",
    "    test_preds[fold_number]=(muddle.predict(test)>0.5).astype(float).reshape(-1)\n",
    "test_preds=pd.DataFrame(test_preds)\n",
    "\n",
    "combo_pred=test_preds.median(axis=1)\n",
    "combo_pred.name='Transported'\n",
    "combo_pred.value_counts()"
   ]
  },
  {
   "cell_type": "code",
   "execution_count": 95,
   "id": "f42f04b9-7f05-42f2-ae7f-50441e31063f",
   "metadata": {},
   "outputs": [],
   "source": [
    "prediction_combo=pd.DataFrame([test_df.PassengerId, combo_pred.astype(bool)]).T\n",
    "prediction_combo.to_csv('predictions/batchnorm_combo.csv',index=False)"
   ]
  },
  {
   "cell_type": "markdown",
   "id": "7d46c684-8451-4663-b7e7-c00ee7598fa4",
   "metadata": {},
   "source": [
    "This prediction achieved the score of `0.77671` "
   ]
  },
  {
   "cell_type": "markdown",
   "id": "31ba6691-08aa-4d0f-934a-52ac6460fa7d",
   "metadata": {
    "jp-MarkdownHeadingCollapsed": true
   },
   "source": [
    "#### Soft voting"
   ]
  },
  {
   "cell_type": "code",
   "execution_count": 96,
   "id": "9b7ebcf3-7d65-42a6-bf38-312b4f2df6c0",
   "metadata": {},
   "outputs": [
    {
     "name": "stdout",
     "output_type": "stream",
     "text": [
      "134/134 [==============================] - 0s 1ms/step\n",
      "134/134 [==============================] - 0s 1ms/step\n",
      "134/134 [==============================] - 0s 1ms/step\n",
      "134/134 [==============================] - 0s 2ms/step\n",
      "134/134 [==============================] - 0s 1ms/step\n"
     ]
    },
    {
     "data": {
      "text/plain": [
       "Transported\n",
       "False    2216\n",
       "True     2061\n",
       "Name: count, dtype: int64"
      ]
     },
     "execution_count": 96,
     "metadata": {},
     "output_type": "execute_result"
    }
   ],
   "source": [
    "test_preds={}\n",
    "muddle=create_batchnorm_model(activation='leaky_relu', hidden_dim=164)\n",
    "muddle.compile(loss='binary_crossentropy',\n",
    "              optimizer=RMSprop(learning_rate=0.009557),\n",
    "              metrics=['accuracy'])\n",
    "for fold_number in range(1,6):\n",
    "    muddle.load_weights(f'model_weights/batchnorm_trial16_fold{fold_number}.h5')\n",
    "    test_preds[fold_number]=(muddle.predict(test)).reshape(-1)\n",
    "test_preds=pd.DataFrame(test_preds)\n",
    "test_preds\n",
    "\n",
    "sum_pred=(test_preds.sum(axis=1)>2.5)\n",
    "sum_pred.name='Transported'\n",
    "sum_pred.value_counts()"
   ]
  },
  {
   "cell_type": "code",
   "execution_count": 97,
   "id": "2991b739-cce2-424d-97db-4f352f69c608",
   "metadata": {},
   "outputs": [],
   "source": [
    "prediction_sum=pd.DataFrame([test_df.PassengerId, sum_pred]).T\n",
    "prediction_sum.to_csv('predictions/batchnorm_sum.csv',index=False)"
   ]
  },
  {
   "cell_type": "markdown",
   "id": "9b252fa8-3ae0-443e-8579-b763f212b66a",
   "metadata": {},
   "source": [
    "This prediction achieved the score of `0.78279` "
   ]
  },
  {
   "cell_type": "markdown",
   "id": "f3f442cb-b730-42c3-b140-a31073786ca4",
   "metadata": {
    "jp-MarkdownHeadingCollapsed": true
   },
   "source": [
    "### Dropout models"
   ]
  },
  {
   "cell_type": "code",
   "execution_count": 98,
   "id": "239edb2f-d84d-4878-a4d8-c2e45f0c1718",
   "metadata": {},
   "outputs": [],
   "source": [
    "dropout_scores=pd.read_csv('model_scores/dropout_model_scores.csv', index_col=0)\n",
    "dropout_params=pd.read_csv('model_scores/dropout_model_params.csv', index_col=0)"
   ]
  },
  {
   "cell_type": "markdown",
   "id": "84d17e06-24f2-47eb-b211-748ff4e33003",
   "metadata": {
    "jp-MarkdownHeadingCollapsed": true
   },
   "source": [
    "#### Best single model"
   ]
  },
  {
   "cell_type": "code",
   "execution_count": 99,
   "id": "436fab9e-143a-46dd-b39e-7a2bf0e7f4d6",
   "metadata": {},
   "outputs": [
    {
     "data": {
      "text/html": [
       "<div>\n",
       "<style scoped>\n",
       "    .dataframe tbody tr th:only-of-type {\n",
       "        vertical-align: middle;\n",
       "    }\n",
       "\n",
       "    .dataframe tbody tr th {\n",
       "        vertical-align: top;\n",
       "    }\n",
       "\n",
       "    .dataframe thead th {\n",
       "        text-align: right;\n",
       "    }\n",
       "</style>\n",
       "<table border=\"1\" class=\"dataframe\">\n",
       "  <thead>\n",
       "    <tr style=\"text-align: right;\">\n",
       "      <th></th>\n",
       "      <th>0</th>\n",
       "      <th>1</th>\n",
       "    </tr>\n",
       "  </thead>\n",
       "  <tbody>\n",
       "    <tr>\n",
       "      <th>Fold1</th>\n",
       "      <td>12</td>\n",
       "      <td>0.780334</td>\n",
       "    </tr>\n",
       "    <tr>\n",
       "      <th>Fold2</th>\n",
       "      <td>26</td>\n",
       "      <td>0.763082</td>\n",
       "    </tr>\n",
       "    <tr>\n",
       "      <th>Fold3</th>\n",
       "      <td>23</td>\n",
       "      <td>0.764232</td>\n",
       "    </tr>\n",
       "    <tr>\n",
       "      <th>Fold4</th>\n",
       "      <td>42</td>\n",
       "      <td>0.783084</td>\n",
       "    </tr>\n",
       "    <tr>\n",
       "      <th>Fold5</th>\n",
       "      <td>26</td>\n",
       "      <td>0.774453</td>\n",
       "    </tr>\n",
       "  </tbody>\n",
       "</table>\n",
       "</div>"
      ],
      "text/plain": [
       "        0         1\n",
       "Fold1  12  0.780334\n",
       "Fold2  26  0.763082\n",
       "Fold3  23  0.764232\n",
       "Fold4  42  0.783084\n",
       "Fold5  26  0.774453"
      ]
     },
     "execution_count": 99,
     "metadata": {},
     "output_type": "execute_result"
    }
   ],
   "source": [
    "pd.concat([dropout_scores.idxmax(), dropout_scores.max()], axis=1)"
   ]
  },
  {
   "cell_type": "code",
   "execution_count": 100,
   "id": "efcfe667-32c3-4fdf-9fa7-81fe4796fa33",
   "metadata": {},
   "outputs": [
    {
     "data": {
      "text/plain": [
       "learning_rate      0.000248\n",
       "hidden_dim              252\n",
       "drop_rate              0.35\n",
       "activation       leaky_relu\n",
       "optimizer              Adam\n",
       "batch_size               48\n",
       "Name: 42, dtype: object"
      ]
     },
     "execution_count": 100,
     "metadata": {},
     "output_type": "execute_result"
    }
   ],
   "source": [
    "dropout_params.loc[42]"
   ]
  },
  {
   "cell_type": "code",
   "execution_count": 101,
   "id": "75c67301-4926-44c5-bb78-825619fb7031",
   "metadata": {},
   "outputs": [
    {
     "name": "stdout",
     "output_type": "stream",
     "text": [
      "218/218 [==============================] - 0s 2ms/step\n",
      "Train score:  0.7657800143781452\n",
      "55/55 [==============================] - 0s 2ms/step\n",
      "Validation score:  0.783084004602992\n"
     ]
    }
   ],
   "source": [
    "dropout_modle=create_dropout_model(activation='leaky_relu', hidden_dim=252, drop_rate=0.35)\n",
    "dropout_modle.compile(loss='binary_crossentropy',\n",
    "              optimizer=Adam(learning_rate=0.000248, beta_1=0.9, beta_2=0.999),\n",
    "              metrics=['accuracy'])\n",
    "dropout_modle.load_weights('model_weights/dropout_trial42_fold4.h5')\n",
    "print('Train score: ', accuracy_score(y_true=y[train_indices[4]], \n",
    "               y_pred=(dropout_modle.predict(X[train_indices[4], :])>0.5).astype(float).reshape(-1)))\n",
    "print('Validation score: ', accuracy_score(y_true=y[validation_indices[4]], \n",
    "               y_pred=(dropout_modle.predict(X[validation_indices[4], :])>0.5).astype(float).reshape(-1)))"
   ]
  },
  {
   "cell_type": "code",
   "execution_count": 102,
   "id": "3a1d14c2-5bee-4518-9241-ebf95a68f9a4",
   "metadata": {},
   "outputs": [
    {
     "name": "stdout",
     "output_type": "stream",
     "text": [
      "134/134 [==============================] - 0s 1ms/step\n"
     ]
    },
    {
     "data": {
      "text/plain": [
       "Transported\n",
       "0.0    2261\n",
       "1.0    2016\n",
       "Name: count, dtype: int64"
      ]
     },
     "execution_count": 102,
     "metadata": {},
     "output_type": "execute_result"
    }
   ],
   "source": [
    "test_pred=(dropout_modle.predict(test)>0.5).astype(float).reshape(-1)\n",
    "test_pred=pd.Series(test_pred, name='Transported')\n",
    "test_pred.value_counts()"
   ]
  },
  {
   "cell_type": "code",
   "execution_count": 103,
   "id": "694cdbc1-effe-47c9-9996-ba798f818f28",
   "metadata": {},
   "outputs": [],
   "source": [
    "prediction=pd.DataFrame([test_df.PassengerId, test_pred.astype(bool)]).T\n",
    "prediction.to_csv('predictions/dropout_best_single_model.csv',index=False)"
   ]
  },
  {
   "cell_type": "markdown",
   "id": "ac71d669-8391-434d-a196-2e49951138c6",
   "metadata": {},
   "source": [
    "This prediction achieved the score of `0.76432` "
   ]
  },
  {
   "cell_type": "markdown",
   "id": "1e90aff0-4156-4dcf-9587-fd7b869c0bc8",
   "metadata": {
    "jp-MarkdownHeadingCollapsed": true
   },
   "source": [
    "#### Hard voting"
   ]
  },
  {
   "cell_type": "code",
   "execution_count": 104,
   "id": "24f67786-116a-46ff-bd9a-63717c6bf4bf",
   "metadata": {},
   "outputs": [
    {
     "data": {
      "text/plain": [
       "learning_rate      0.000895\n",
       "hidden_dim              236\n",
       "drop_rate              0.25\n",
       "activation       leaky_relu\n",
       "optimizer              Adam\n",
       "batch_size               40\n",
       "Name: 26, dtype: object"
      ]
     },
     "execution_count": 104,
     "metadata": {},
     "output_type": "execute_result"
    }
   ],
   "source": [
    "dropout_params.loc[26]"
   ]
  },
  {
   "cell_type": "code",
   "execution_count": 106,
   "id": "dca353e7-63a1-449a-9fed-de333f4af6d5",
   "metadata": {},
   "outputs": [
    {
     "name": "stdout",
     "output_type": "stream",
     "text": [
      "134/134 [==============================] - 0s 2ms/step\n",
      "134/134 [==============================] - 0s 2ms/step\n",
      "134/134 [==============================] - 0s 1ms/step\n",
      "134/134 [==============================] - 0s 2ms/step\n",
      "134/134 [==============================] - 0s 2ms/step\n"
     ]
    },
    {
     "data": {
      "text/plain": [
       "Transported\n",
       "0.0    2351\n",
       "1.0    1926\n",
       "Name: count, dtype: int64"
      ]
     },
     "execution_count": 106,
     "metadata": {},
     "output_type": "execute_result"
    }
   ],
   "source": [
    "test_preds={}\n",
    "muddle=create_dropout_model(activation='leaky_relu', hidden_dim=236, drop_rate=0.25)\n",
    "muddle.compile(loss='binary_crossentropy',\n",
    "              optimizer=Adam(learning_rate=0.000895, beta_1=0.9, beta_2=0.999),\n",
    "              metrics=['accuracy'])\n",
    "for fold_number in range(1,6):\n",
    "    muddle.load_weights(f'model_weights/dropout_trial26_fold{fold_number}.h5')\n",
    "    test_preds[fold_number]=(muddle.predict(test)>0.5).astype(float).reshape(-1)\n",
    "test_preds=pd.DataFrame(test_preds)\n",
    "\n",
    "combo_pred=test_preds.median(axis=1)\n",
    "combo_pred.name='Transported'\n",
    "combo_pred.value_counts()"
   ]
  },
  {
   "cell_type": "code",
   "execution_count": 107,
   "id": "a9ab7558-c923-4080-b640-a88d9bb54f60",
   "metadata": {},
   "outputs": [],
   "source": [
    "prediction_combo=pd.DataFrame([test_df.PassengerId, combo_pred.astype(bool)]).T\n",
    "prediction_combo.to_csv('predictions/dropout_combo.csv',index=False)"
   ]
  },
  {
   "cell_type": "markdown",
   "id": "fd500c5d-9670-4254-9590-e8b0009604c4",
   "metadata": {},
   "source": [
    "This prediction achieved the score of `0.77039` "
   ]
  },
  {
   "cell_type": "markdown",
   "id": "2125d368-63ad-42f4-9846-f3ab0986ee8a",
   "metadata": {
    "jp-MarkdownHeadingCollapsed": true
   },
   "source": [
    "#### Soft voting"
   ]
  },
  {
   "cell_type": "code",
   "execution_count": 108,
   "id": "1cbf2b3c-4192-401a-bf25-57d95c5cd502",
   "metadata": {},
   "outputs": [
    {
     "name": "stdout",
     "output_type": "stream",
     "text": [
      "134/134 [==============================] - 0s 2ms/step\n",
      "134/134 [==============================] - 0s 2ms/step\n",
      "134/134 [==============================] - 0s 2ms/step\n",
      "134/134 [==============================] - 0s 2ms/step\n",
      "134/134 [==============================] - 0s 2ms/step\n"
     ]
    },
    {
     "data": {
      "text/plain": [
       "Transported\n",
       "False    2310\n",
       "True     1967\n",
       "Name: count, dtype: int64"
      ]
     },
     "execution_count": 108,
     "metadata": {},
     "output_type": "execute_result"
    }
   ],
   "source": [
    "test_preds={}\n",
    "muddle=create_dropout_model(activation='leaky_relu', hidden_dim=236, drop_rate=0.25)\n",
    "muddle.compile(loss='binary_crossentropy',\n",
    "              optimizer=Adam(learning_rate=0.000895, beta_1=0.9, beta_2=0.999),\n",
    "              metrics=['accuracy'])\n",
    "for fold_number in range(1,6):\n",
    "    muddle.load_weights(f'model_weights/dropout_trial26_fold{fold_number}.h5')\n",
    "    test_preds[fold_number]=(muddle.predict(test)).reshape(-1)\n",
    "test_preds=pd.DataFrame(test_preds)\n",
    "\n",
    "sum_pred=(test_preds.sum(axis=1)>2.5)\n",
    "sum_pred.name='Transported'\n",
    "sum_pred.value_counts()"
   ]
  },
  {
   "cell_type": "code",
   "execution_count": 109,
   "id": "74b477e2-15a2-43cd-b7ab-80a58415ae4e",
   "metadata": {},
   "outputs": [],
   "source": [
    "prediction_sum=pd.DataFrame([test_df.PassengerId, sum_pred]).T\n",
    "prediction_sum.to_csv('predictions/dropout_sum.csv',index=False)"
   ]
  },
  {
   "cell_type": "markdown",
   "id": "24bf5fc5-1ac6-4291-955c-06cd469be3f8",
   "metadata": {},
   "source": [
    "This prediction achieved the score of `0.77250` "
   ]
  },
  {
   "cell_type": "markdown",
   "id": "786e711c-6fa5-4fe3-8998-f090e8b53d03",
   "metadata": {
    "jp-MarkdownHeadingCollapsed": true
   },
   "source": [
    "### Bonus"
   ]
  },
  {
   "cell_type": "markdown",
   "id": "062985dd-4130-4b41-9784-d54eb7fc3c5b",
   "metadata": {},
   "source": [
    "Since soft voting with batchnorm models had the best result, I wanted to try the same thing, but not with similar models. Instead, this prediction uses different batchnorm models, that individually had the best validation scores on the 5 folds."
   ]
  },
  {
   "cell_type": "code",
   "execution_count": 110,
   "id": "54e11b9b-3924-4c9d-a0da-b7830ab50de4",
   "metadata": {},
   "outputs": [
    {
     "data": {
      "text/html": [
       "<div>\n",
       "<style scoped>\n",
       "    .dataframe tbody tr th:only-of-type {\n",
       "        vertical-align: middle;\n",
       "    }\n",
       "\n",
       "    .dataframe tbody tr th {\n",
       "        vertical-align: top;\n",
       "    }\n",
       "\n",
       "    .dataframe thead th {\n",
       "        text-align: right;\n",
       "    }\n",
       "</style>\n",
       "<table border=\"1\" class=\"dataframe\">\n",
       "  <thead>\n",
       "    <tr style=\"text-align: right;\">\n",
       "      <th></th>\n",
       "      <th>0</th>\n",
       "      <th>1</th>\n",
       "    </tr>\n",
       "  </thead>\n",
       "  <tbody>\n",
       "    <tr>\n",
       "      <th>Fold1</th>\n",
       "      <td>47</td>\n",
       "      <td>0.789534</td>\n",
       "    </tr>\n",
       "    <tr>\n",
       "      <th>Fold2</th>\n",
       "      <td>16</td>\n",
       "      <td>0.773433</td>\n",
       "    </tr>\n",
       "    <tr>\n",
       "      <th>Fold3</th>\n",
       "      <td>42</td>\n",
       "      <td>0.774008</td>\n",
       "    </tr>\n",
       "    <tr>\n",
       "      <th>Fold4</th>\n",
       "      <td>42</td>\n",
       "      <td>0.787687</td>\n",
       "    </tr>\n",
       "    <tr>\n",
       "      <th>Fold5</th>\n",
       "      <td>21</td>\n",
       "      <td>0.782509</td>\n",
       "    </tr>\n",
       "  </tbody>\n",
       "</table>\n",
       "</div>"
      ],
      "text/plain": [
       "        0         1\n",
       "Fold1  47  0.789534\n",
       "Fold2  16  0.773433\n",
       "Fold3  42  0.774008\n",
       "Fold4  42  0.787687\n",
       "Fold5  21  0.782509"
      ]
     },
     "execution_count": 110,
     "metadata": {},
     "output_type": "execute_result"
    }
   ],
   "source": [
    "pd.concat([batchnorm_scores.idxmax(), batchnorm_scores.max()], axis=1)"
   ]
  },
  {
   "cell_type": "code",
   "execution_count": 111,
   "id": "343d35dd-7732-458c-9e47-2e10d2bc2060",
   "metadata": {},
   "outputs": [
    {
     "data": {
      "text/html": [
       "<div>\n",
       "<style scoped>\n",
       "    .dataframe tbody tr th:only-of-type {\n",
       "        vertical-align: middle;\n",
       "    }\n",
       "\n",
       "    .dataframe tbody tr th {\n",
       "        vertical-align: top;\n",
       "    }\n",
       "\n",
       "    .dataframe thead th {\n",
       "        text-align: right;\n",
       "    }\n",
       "</style>\n",
       "<table border=\"1\" class=\"dataframe\">\n",
       "  <thead>\n",
       "    <tr style=\"text-align: right;\">\n",
       "      <th></th>\n",
       "      <th>learning_rate</th>\n",
       "      <th>hidden_dim</th>\n",
       "      <th>activation</th>\n",
       "      <th>optimizer</th>\n",
       "      <th>batch_size</th>\n",
       "    </tr>\n",
       "  </thead>\n",
       "  <tbody>\n",
       "    <tr>\n",
       "      <th>16</th>\n",
       "      <td>0.009557</td>\n",
       "      <td>164</td>\n",
       "      <td>leaky_relu</td>\n",
       "      <td>RMSprop</td>\n",
       "      <td>32</td>\n",
       "    </tr>\n",
       "    <tr>\n",
       "      <th>21</th>\n",
       "      <td>0.005547</td>\n",
       "      <td>180</td>\n",
       "      <td>leaky_relu</td>\n",
       "      <td>Adam</td>\n",
       "      <td>48</td>\n",
       "    </tr>\n",
       "    <tr>\n",
       "      <th>42</th>\n",
       "      <td>0.005537</td>\n",
       "      <td>204</td>\n",
       "      <td>leaky_relu</td>\n",
       "      <td>RMSprop</td>\n",
       "      <td>32</td>\n",
       "    </tr>\n",
       "    <tr>\n",
       "      <th>47</th>\n",
       "      <td>0.006773</td>\n",
       "      <td>164</td>\n",
       "      <td>leaky_relu</td>\n",
       "      <td>RMSprop</td>\n",
       "      <td>24</td>\n",
       "    </tr>\n",
       "  </tbody>\n",
       "</table>\n",
       "</div>"
      ],
      "text/plain": [
       "    learning_rate  hidden_dim  activation optimizer  batch_size\n",
       "16       0.009557         164  leaky_relu   RMSprop          32\n",
       "21       0.005547         180  leaky_relu      Adam          48\n",
       "42       0.005537         204  leaky_relu   RMSprop          32\n",
       "47       0.006773         164  leaky_relu   RMSprop          24"
      ]
     },
     "execution_count": 111,
     "metadata": {},
     "output_type": "execute_result"
    }
   ],
   "source": [
    "batchnorm_params.loc[[16, 21, 42, 47]]"
   ]
  },
  {
   "cell_type": "code",
   "execution_count": 115,
   "id": "2a7127d7-d865-4023-a611-1be67ac11cef",
   "metadata": {},
   "outputs": [
    {
     "name": "stdout",
     "output_type": "stream",
     "text": [
      "134/134 [==============================] - 0s 1ms/step\n",
      "134/134 [==============================] - 0s 1ms/step\n",
      "134/134 [==============================] - 0s 2ms/step\n",
      "134/134 [==============================] - 0s 2ms/step\n",
      "134/134 [==============================] - 0s 2ms/step\n"
     ]
    },
    {
     "data": {
      "text/plain": [
       "Transported\n",
       "False    2259\n",
       "True     2018\n",
       "Name: count, dtype: int64"
      ]
     },
     "execution_count": 115,
     "metadata": {},
     "output_type": "execute_result"
    }
   ],
   "source": [
    "test_preds={}\n",
    "\n",
    "# fold 1\n",
    "fold_number = 1\n",
    "muddle=create_batchnorm_model(activation='leaky_relu', hidden_dim=164)\n",
    "muddle.compile(loss='binary_crossentropy',\n",
    "              optimizer=RMSprop(learning_rate=0.006773),\n",
    "              metrics=['accuracy'])\n",
    "muddle.load_weights(f'model_weights/batchnorm_trial47_fold{fold_number}.h5')\n",
    "test_preds[fold_number]=(muddle.predict(test)).reshape(-1)\n",
    "\n",
    "# fold 2\n",
    "fold_number = 2\n",
    "muddle=create_batchnorm_model(activation='leaky_relu', hidden_dim=164)\n",
    "muddle.compile(loss='binary_crossentropy',\n",
    "              optimizer=RMSprop(learning_rate=0.009557),\n",
    "              metrics=['accuracy'])\n",
    "muddle.load_weights(f'model_weights/batchnorm_trial16_fold{fold_number}.h5')\n",
    "test_preds[fold_number]=(muddle.predict(test)).reshape(-1)\n",
    "\n",
    "# fold 3\n",
    "fold_number = 3\n",
    "muddle=create_batchnorm_model(activation='leaky_relu', hidden_dim=204)\n",
    "muddle.compile(loss='binary_crossentropy',\n",
    "              optimizer=RMSprop(learning_rate=0.005537),\n",
    "              metrics=['accuracy'])\n",
    "muddle.load_weights(f'model_weights/batchnorm_trial42_fold{fold_number}.h5')\n",
    "test_preds[fold_number]=(muddle.predict(test)).reshape(-1)\n",
    "\n",
    "# fold 4\n",
    "fold_number = 4\n",
    "muddle=create_batchnorm_model(activation='leaky_relu', hidden_dim=204)\n",
    "muddle.compile(loss='binary_crossentropy',\n",
    "              optimizer=RMSprop(learning_rate=0.005537),\n",
    "              metrics=['accuracy'])\n",
    "muddle.load_weights(f'model_weights/batchnorm_trial42_fold{fold_number}.h5')\n",
    "test_preds[fold_number]=(muddle.predict(test)).reshape(-1)\n",
    "\n",
    "# fold 5\n",
    "fold_number = 5\n",
    "muddle=create_batchnorm_model(activation='leaky_relu', hidden_dim=180)\n",
    "muddle.compile(loss='binary_crossentropy',\n",
    "              optimizer=Adam(learning_rate=0.005547, beta_1=0.9, beta_2=0.999),\n",
    "              metrics=['accuracy'])\n",
    "muddle.load_weights(f'model_weights/batchnorm_trial21_fold{fold_number}.h5')\n",
    "test_preds[fold_number]=(muddle.predict(test)).reshape(-1)\n",
    "test_preds=pd.DataFrame(test_preds)\n",
    "\n",
    "sum_pred=(test_preds.sum(axis=1)>2.5)\n",
    "sum_pred.name='Transported'\n",
    "sum_pred.value_counts()"
   ]
  },
  {
   "cell_type": "code",
   "execution_count": 116,
   "id": "fa2a435f-f261-401b-9be7-affbd5fdf5bb",
   "metadata": {},
   "outputs": [],
   "source": [
    "prediction_sum=pd.DataFrame([test_df.PassengerId, sum_pred]).T\n",
    "prediction_sum.to_csv('predictions/batchnorm_bonus_sum.csv',index=False)"
   ]
  },
  {
   "cell_type": "markdown",
   "id": "d581b455-aafe-4edd-a504-72d162083b96",
   "metadata": {},
   "source": [
    "This prediction achieved the score of `0.78115` "
   ]
  },
  {
   "cell_type": "markdown",
   "id": "afb1896b-2e1d-4584-ae63-ce8c332607ed",
   "metadata": {},
   "source": [
    "# Summary and conclusions"
   ]
  },
  {
   "cell_type": "markdown",
   "id": "0c57bcb3-55de-44ca-87c1-dc9e9df75aad",
   "metadata": {},
   "source": [
    "In this project, I created 4 types of artificial neural network models (`Shallow`, `Deeper`, `Batchnorm`, `Dropout`), and searched for best hyper parameters using K-Fold cross-validation. Then, I used the saved weights and hyperparameters to sumbit 3 types of predictions (`Best single`, `Soft voting`, `Hard voting`) to the `Spaceship Titanic` contest, as well as a `Bonus` prediction for `Batchnorm` models, which effectively used soft voting with slightly different models. \n",
    "\n",
    "These models achieved the following accuracy scores on the test set."
   ]
  },
  {
   "attachments": {
    "2f1c9437-13fe-4b0a-8ca2-a18cb58fcfe8.png": {
     "image/png": "[encoded data removed]"
    }
   },
   "cell_type": "markdown",
   "id": "cfceb755-db29-4791-9c4f-8a21502a9991",
   "metadata": {},
   "source": [
    "![results.png](attachment:2f1c9437-13fe-4b0a-8ca2-a18cb58fcfe8.png)"
   ]
  },
  {
   "cell_type": "markdown",
   "id": "bc91b5a9-3e50-498c-a8ec-e6b89db8684e",
   "metadata": {},
   "source": [
    "It's clear that `Batchnorm` models produced the best results, therefore, they are the recommended type of model."
   ]
  },
  {
   "cell_type": "markdown",
   "id": "33e628c8-df2a-4d9c-8312-e19b8d643466",
   "metadata": {},
   "source": [
    "Other conclusions:\n",
    "1. Overall, the results achieved in this project were pretty high. They put me around the 1800th spot on the rolling leaderboard. I consider this result a success, since this is my first Kaggle competition, I completed all the coding alone in only a few days, and I was only 3% or so away from the top 100 (a lot of people seem to submit entries to this competition). \n",
    "2. From the results, it can be clearly seen that ensemble methods of hard and soft voting offer a clear advantage over using any model alone. This is not surprising, since all models in this project were trained and validated on only one of the folds. In a normal machine learning setting, these cross-validation results are generally used only for hyperparameter selection. However, fine-tuning existing neural networks or training new neural networks from scratch can be hard even with the \"best\" hyperparameters. I think these results show that using models from cross-validation as a part of an ensemble is a good alternative to creating new models. \n",
    "3. Also, since the cross-validated models are fit on different parts of the data, combining them can actually reduce the possibility of overfitting.\n",
    "4. The vast majority of best-performing models used leaky ReLU as the activation function and either RMSProp or Adam as optimizers. Perhaps, in future hyperparameter searches it would make sense to limit the options to only those.\n",
    "5. Models with 3 hidden layers offered very little improvement in comparison to models with only 2 hidden layers. This shows that in practice, adding more layers should come with more regularization like dropout or, even better, Batch normalization."
   ]
  },
  {
   "cell_type": "markdown",
   "id": "f74178c9-99ea-4521-a118-35c3ea2c61f6",
   "metadata": {},
   "source": [
    "# Suggestions for future work"
   ]
  },
  {
   "cell_type": "markdown",
   "id": "c88b3dce-66fd-45cf-a7cf-3eae2fda8deb",
   "metadata": {},
   "source": [
    "1. Try to perform data analysis differently: avoid adding extra columns showing where values were unknown or drop some one-hot encoded columns.\n",
    "2. Try splitting input into different parts, for example, have columns `Age` and `Age_unknown` be a separate input to emphasise the relationship between those columns, which may be difficult to determine for a model when all features come together in one input.\n",
    "3. Try using, not deleting, the names of the passengers. Perhaps a hashing function transforming them to numbers can be used to create one more feature.\n",
    "4. Try training deeper neural networks.\n",
    "5. Try using non-deep learning methods like random forests or gradient boosting and compare the results."
   ]
  }
 ],
 "metadata": {
  "kernelspec": {
   "display_name": "Python 3 (ipykernel)",
   "language": "python",
   "name": "python3"
  },
  "language_info": {
   "codemirror_mode": {
    "name": "ipython",
    "version": 3
   },
   "file_extension": ".py",
   "mimetype": "text/x-python",
   "name": "python",
   "nbconvert_exporter": "python",
   "pygments_lexer": "ipython3",
   "version": "3.11.2"
  }
 },
 "nbformat": 4,
 "nbformat_minor": 5
}
